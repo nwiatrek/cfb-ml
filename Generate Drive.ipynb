{
 "cells": [
  {
   "cell_type": "code",
   "execution_count": 2,
   "metadata": {},
   "outputs": [],
   "source": [
    "import matplotlib.pyplot as plt\n",
    "import numpy as np\n",
    "import pandas as pd\n",
    "import string\n",
    "import math\n",
    "import pickle\n",
    "pd.set_option(\"display.max_columns\", 101)\n",
    "pd.set_option(\"display.max_rows\", 101)\n",
    "np.random.seed(123)\n",
    "#https://www.analyticsvidhya.com/blog/2019/01/guide-pytorch-neural-networks-case-studies/\n",
    "from sklearn.metrics import accuracy_score\n",
    "from sklearn import linear_model, metrics, model_selection, ensemble\n",
    "from sklearn.neural_network import MLPClassifier\n"
   ]
  },
  {
   "cell_type": "code",
   "execution_count": 4,
   "metadata": {},
   "outputs": [],
   "source": [
    "predict_play = pickle.load(open('models/predict_play.sav', 'rb'))\n",
    "rush_reg = pickle.load(open('models/rush_reg.sav', 'rb'))\n",
    "pass_reg = pickle.load(open('models/pass_reg.sav', 'rb'))\n",
    "fourth_down_classifier = pickle.load(open('models/4th_down_classifier.sav', 'rb'))\n",
    "field_goal_classifier = pickle.load(open('models/field_goal_made.sav', 'rb'))"
   ]
  },
  {
   "cell_type": "code",
   "execution_count": 3,
   "metadata": {},
   "outputs": [],
   "source": [
    "def get_4th_down(row):\n",
    "    if (row['down'] == 4):\n",
    "        return True\n",
    "    else:\n",
    "        return False"
   ]
  },
  {
   "cell_type": "code",
   "execution_count": null,
   "metadata": {},
   "outputs": [],
   "source": []
  }
 ],
 "metadata": {
  "kernelspec": {
   "display_name": "Python 3",
   "language": "python",
   "name": "python3"
  },
  "language_info": {
   "codemirror_mode": {
    "name": "ipython",
    "version": 3
   },
   "file_extension": ".py",
   "mimetype": "text/x-python",
   "name": "python",
   "nbconvert_exporter": "python",
   "pygments_lexer": "ipython3",
   "version": "3.7.4"
  }
 },
 "nbformat": 4,
 "nbformat_minor": 2
}
