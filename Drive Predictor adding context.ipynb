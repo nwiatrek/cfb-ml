{
 "cells": [
  {
   "cell_type": "code",
   "execution_count": 1,
   "metadata": {},
   "outputs": [
    {
     "name": "stderr",
     "output_type": "stream",
     "text": [
      "Using TensorFlow backend.\n"
     ]
    },
    {
     "data": {
      "text/plain": [
       "<torch._C.Generator at 0x1201a56f0>"
      ]
     },
     "execution_count": 1,
     "metadata": {},
     "output_type": "execute_result"
    }
   ],
   "source": [
    "import torch\n",
    "import torch.nn as nn\n",
    "import torch.nn.functional as F\n",
    "import torchvision\n",
    "import torchvision.transforms as transforms\n",
    "from torch.utils.data import TensorDataset\n",
    "import ignite\n",
    "import torch.optim as optim\n",
    "import matplotlib.pyplot as plt\n",
    "import numpy as np\n",
    "import pandas as pd\n",
    "import keras\n",
    "import string\n",
    "pd.set_option(\"display.max_columns\", 101)\n",
    "pd.set_option(\"display.max_rows\", 101)\n",
    "np.random.seed(123)\n",
    "torch.manual_seed(123)\n",
    "#https://www.analyticsvidhya.com/blog/2019/01/guide-pytorch-neural-networks-case-studies/"
   ]
  },
  {
   "cell_type": "code",
   "execution_count": 99,
   "metadata": {},
   "outputs": [],
   "source": [
    "df = pd.read_csv('PBP - 2016 - Week 1.csv')\n",
    "# week2 = pd.read_csv('PBP - 2016 - Week 2.csv')\n",
    "\n",
    "# df = pd.concat([week1,week2],ignore_index=True)"
   ]
  },
  {
   "cell_type": "code",
   "execution_count": 100,
   "metadata": {},
   "outputs": [],
   "source": [
    "df = df.dropna()"
   ]
  },
  {
   "cell_type": "code",
   "execution_count": 101,
   "metadata": {},
   "outputs": [],
   "source": [
    "def getDriveResult(driveId, gameId, df):\n",
    "    final = df.query('driveIndex == @driveId & gameId == @gameId').iloc[[-1]]\n",
    "    return final['type'].values[0]"
   ]
  },
  {
   "cell_type": "code",
   "execution_count": 102,
   "metadata": {},
   "outputs": [],
   "source": [
    "for index,row in df.iterrows():\n",
    "    df.at[index,'result'] = getDriveResult(row['driveIndex'], row['gameId'], df)"
   ]
  },
  {
   "cell_type": "code",
   "execution_count": 103,
   "metadata": {},
   "outputs": [
    {
     "data": {
      "text/html": [
       "<div>\n",
       "<style scoped>\n",
       "    .dataframe tbody tr th:only-of-type {\n",
       "        vertical-align: middle;\n",
       "    }\n",
       "\n",
       "    .dataframe tbody tr th {\n",
       "        vertical-align: top;\n",
       "    }\n",
       "\n",
       "    .dataframe thead th {\n",
       "        text-align: right;\n",
       "    }\n",
       "</style>\n",
       "<table border=\"1\" class=\"dataframe\">\n",
       "  <thead>\n",
       "    <tr style=\"text-align: right;\">\n",
       "      <th></th>\n",
       "      <th>gameId</th>\n",
       "      <th>year</th>\n",
       "      <th>week</th>\n",
       "      <th>homeId</th>\n",
       "      <th>homeTeam</th>\n",
       "      <th>homeAbbr</th>\n",
       "      <th>awayId</th>\n",
       "      <th>awayTeam</th>\n",
       "      <th>awayAbbr</th>\n",
       "      <th>driveIndex</th>\n",
       "      <th>playIndex</th>\n",
       "      <th>offenseId</th>\n",
       "      <th>offenseTeam</th>\n",
       "      <th>offenseAbbr</th>\n",
       "      <th>defenseId</th>\n",
       "      <th>defenseTeam</th>\n",
       "      <th>defenseAbbr</th>\n",
       "      <th>homeScore</th>\n",
       "      <th>awayScore</th>\n",
       "      <th>quarter</th>\n",
       "      <th>clock</th>\n",
       "      <th>wallclock</th>\n",
       "      <th>type</th>\n",
       "      <th>down</th>\n",
       "      <th>distance</th>\n",
       "      <th>yardLine</th>\n",
       "      <th>yardsGained</th>\n",
       "      <th>endYardLine</th>\n",
       "      <th>description</th>\n",
       "      <th>result</th>\n",
       "    </tr>\n",
       "  </thead>\n",
       "  <tbody>\n",
       "    <tr>\n",
       "      <td>0</td>\n",
       "      <td>400868876</td>\n",
       "      <td>2016</td>\n",
       "      <td>1</td>\n",
       "      <td>239</td>\n",
       "      <td>Baylor</td>\n",
       "      <td>BAY</td>\n",
       "      <td>2466</td>\n",
       "      <td>Northwestern St</td>\n",
       "      <td>NWST</td>\n",
       "      <td>0</td>\n",
       "      <td>0</td>\n",
       "      <td>239</td>\n",
       "      <td>Baylor</td>\n",
       "      <td>BAY</td>\n",
       "      <td>2466</td>\n",
       "      <td>Northwestern St</td>\n",
       "      <td>NWST</td>\n",
       "      <td>0</td>\n",
       "      <td>0</td>\n",
       "      <td>1</td>\n",
       "      <td>15:00</td>\n",
       "      <td>2016-09-03T06:36:41Z</td>\n",
       "      <td>Kickoff</td>\n",
       "      <td>1</td>\n",
       "      <td>10</td>\n",
       "      <td>35</td>\n",
       "      <td>10</td>\n",
       "      <td>86</td>\n",
       "      <td>Drew Galitz kickoff for 61 yds , Shakeir Ryan ...</td>\n",
       "      <td>Punt</td>\n",
       "    </tr>\n",
       "    <tr>\n",
       "      <td>1</td>\n",
       "      <td>400868876</td>\n",
       "      <td>2016</td>\n",
       "      <td>1</td>\n",
       "      <td>239</td>\n",
       "      <td>Baylor</td>\n",
       "      <td>BAY</td>\n",
       "      <td>2466</td>\n",
       "      <td>Northwestern St</td>\n",
       "      <td>NWST</td>\n",
       "      <td>0</td>\n",
       "      <td>1</td>\n",
       "      <td>2466</td>\n",
       "      <td>Northwestern St</td>\n",
       "      <td>NWST</td>\n",
       "      <td>239</td>\n",
       "      <td>Baylor</td>\n",
       "      <td>BAY</td>\n",
       "      <td>0</td>\n",
       "      <td>0</td>\n",
       "      <td>1</td>\n",
       "      <td>14:55</td>\n",
       "      <td>2016-09-03T06:38:11Z</td>\n",
       "      <td>Timeout</td>\n",
       "      <td>1</td>\n",
       "      <td>10</td>\n",
       "      <td>86</td>\n",
       "      <td>0</td>\n",
       "      <td>86</td>\n",
       "      <td>Timeout NORTHWESTERN ST, clock 14:55</td>\n",
       "      <td>Punt</td>\n",
       "    </tr>\n",
       "    <tr>\n",
       "      <td>2</td>\n",
       "      <td>400868876</td>\n",
       "      <td>2016</td>\n",
       "      <td>1</td>\n",
       "      <td>239</td>\n",
       "      <td>Baylor</td>\n",
       "      <td>BAY</td>\n",
       "      <td>2466</td>\n",
       "      <td>Northwestern St</td>\n",
       "      <td>NWST</td>\n",
       "      <td>0</td>\n",
       "      <td>2</td>\n",
       "      <td>2466</td>\n",
       "      <td>Northwestern St</td>\n",
       "      <td>NWST</td>\n",
       "      <td>239</td>\n",
       "      <td>Baylor</td>\n",
       "      <td>BAY</td>\n",
       "      <td>0</td>\n",
       "      <td>0</td>\n",
       "      <td>1</td>\n",
       "      <td>14:55</td>\n",
       "      <td>2016-09-03T06:38:11Z</td>\n",
       "      <td>Rush</td>\n",
       "      <td>1</td>\n",
       "      <td>10</td>\n",
       "      <td>86</td>\n",
       "      <td>-1</td>\n",
       "      <td>87</td>\n",
       "      <td>De'Mard Llorens run for a loss of 1 yard to th...</td>\n",
       "      <td>Punt</td>\n",
       "    </tr>\n",
       "    <tr>\n",
       "      <td>3</td>\n",
       "      <td>400868876</td>\n",
       "      <td>2016</td>\n",
       "      <td>1</td>\n",
       "      <td>239</td>\n",
       "      <td>Baylor</td>\n",
       "      <td>BAY</td>\n",
       "      <td>2466</td>\n",
       "      <td>Northwestern St</td>\n",
       "      <td>NWST</td>\n",
       "      <td>0</td>\n",
       "      <td>3</td>\n",
       "      <td>2466</td>\n",
       "      <td>Northwestern St</td>\n",
       "      <td>NWST</td>\n",
       "      <td>239</td>\n",
       "      <td>Baylor</td>\n",
       "      <td>BAY</td>\n",
       "      <td>0</td>\n",
       "      <td>0</td>\n",
       "      <td>1</td>\n",
       "      <td>14:55</td>\n",
       "      <td>2016-09-03T06:38:11Z</td>\n",
       "      <td>Rush</td>\n",
       "      <td>2</td>\n",
       "      <td>11</td>\n",
       "      <td>87</td>\n",
       "      <td>8</td>\n",
       "      <td>79</td>\n",
       "      <td>De'Mard Llorens run for 8 yds to the NWSt 21</td>\n",
       "      <td>Punt</td>\n",
       "    </tr>\n",
       "    <tr>\n",
       "      <td>4</td>\n",
       "      <td>400868876</td>\n",
       "      <td>2016</td>\n",
       "      <td>1</td>\n",
       "      <td>239</td>\n",
       "      <td>Baylor</td>\n",
       "      <td>BAY</td>\n",
       "      <td>2466</td>\n",
       "      <td>Northwestern St</td>\n",
       "      <td>NWST</td>\n",
       "      <td>0</td>\n",
       "      <td>4</td>\n",
       "      <td>2466</td>\n",
       "      <td>Northwestern St</td>\n",
       "      <td>NWST</td>\n",
       "      <td>239</td>\n",
       "      <td>Baylor</td>\n",
       "      <td>BAY</td>\n",
       "      <td>0</td>\n",
       "      <td>0</td>\n",
       "      <td>1</td>\n",
       "      <td>14:55</td>\n",
       "      <td>2016-09-03T06:38:11Z</td>\n",
       "      <td>Rush</td>\n",
       "      <td>3</td>\n",
       "      <td>3</td>\n",
       "      <td>79</td>\n",
       "      <td>0</td>\n",
       "      <td>79</td>\n",
       "      <td>De'Mard Llorens run for no gain to the NWSt 21</td>\n",
       "      <td>Punt</td>\n",
       "    </tr>\n",
       "  </tbody>\n",
       "</table>\n",
       "</div>"
      ],
      "text/plain": [
       "      gameId  year  week  homeId homeTeam homeAbbr  awayId         awayTeam  \\\n",
       "0  400868876  2016     1     239   Baylor      BAY    2466  Northwestern St   \n",
       "1  400868876  2016     1     239   Baylor      BAY    2466  Northwestern St   \n",
       "2  400868876  2016     1     239   Baylor      BAY    2466  Northwestern St   \n",
       "3  400868876  2016     1     239   Baylor      BAY    2466  Northwestern St   \n",
       "4  400868876  2016     1     239   Baylor      BAY    2466  Northwestern St   \n",
       "\n",
       "  awayAbbr  driveIndex  playIndex  offenseId      offenseTeam offenseAbbr  \\\n",
       "0     NWST           0          0        239           Baylor         BAY   \n",
       "1     NWST           0          1       2466  Northwestern St        NWST   \n",
       "2     NWST           0          2       2466  Northwestern St        NWST   \n",
       "3     NWST           0          3       2466  Northwestern St        NWST   \n",
       "4     NWST           0          4       2466  Northwestern St        NWST   \n",
       "\n",
       "   defenseId      defenseTeam defenseAbbr  homeScore  awayScore  quarter  \\\n",
       "0       2466  Northwestern St        NWST          0          0        1   \n",
       "1        239           Baylor         BAY          0          0        1   \n",
       "2        239           Baylor         BAY          0          0        1   \n",
       "3        239           Baylor         BAY          0          0        1   \n",
       "4        239           Baylor         BAY          0          0        1   \n",
       "\n",
       "   clock             wallclock     type  down  distance  yardLine  \\\n",
       "0  15:00  2016-09-03T06:36:41Z  Kickoff     1        10        35   \n",
       "1  14:55  2016-09-03T06:38:11Z  Timeout     1        10        86   \n",
       "2  14:55  2016-09-03T06:38:11Z     Rush     1        10        86   \n",
       "3  14:55  2016-09-03T06:38:11Z     Rush     2        11        87   \n",
       "4  14:55  2016-09-03T06:38:11Z     Rush     3         3        79   \n",
       "\n",
       "   yardsGained  endYardLine  \\\n",
       "0           10           86   \n",
       "1            0           86   \n",
       "2           -1           87   \n",
       "3            8           79   \n",
       "4            0           79   \n",
       "\n",
       "                                         description result  \n",
       "0  Drew Galitz kickoff for 61 yds , Shakeir Ryan ...   Punt  \n",
       "1               Timeout NORTHWESTERN ST, clock 14:55   Punt  \n",
       "2  De'Mard Llorens run for a loss of 1 yard to th...   Punt  \n",
       "3       De'Mard Llorens run for 8 yds to the NWSt 21   Punt  \n",
       "4     De'Mard Llorens run for no gain to the NWSt 21   Punt  "
      ]
     },
     "execution_count": 103,
     "metadata": {},
     "output_type": "execute_result"
    }
   ],
   "source": [
    "df.head()"
   ]
  },
  {
   "cell_type": "code",
   "execution_count": 104,
   "metadata": {},
   "outputs": [
    {
     "data": {
      "text/plain": [
       "array(['Punt', 'Rushing Touchdown', 'Field Goal Good',\n",
       "       'Passing Touchdown', 'Pass Incompletion', 'End of Half',\n",
       "       'Fumble Recovery (Opponent)', 'End of Game', 'Field Goal Missed',\n",
       "       'Penalty', 'Pass Interception Return', 'Blocked Field Goal',\n",
       "       'Defensive 2pt Conversion', 'Rush', 'End Period', 'Pass Reception',\n",
       "       'Timeout', 'Sack', 'Interception Return Touchdown',\n",
       "       'Fumble Recovery (Own)', 'Kickoff', 'Kickoff Return Touchdown',\n",
       "       'Safety', 'Punt Return Touchdown', 'Blocked Punt',\n",
       "       'Fumble Return Touchdown'], dtype=object)"
      ]
     },
     "execution_count": 104,
     "metadata": {},
     "output_type": "execute_result"
    }
   ],
   "source": [
    "df['result'].unique()"
   ]
  },
  {
   "cell_type": "code",
   "execution_count": 105,
   "metadata": {},
   "outputs": [
    {
     "name": "stdout",
     "output_type": "stream",
     "text": [
      "Punt\n",
      "170100\n",
      "Rushing Touchdown\n",
      "63570\n",
      "Field Goal Good\n",
      "54450\n",
      "Passing Touchdown\n",
      "62220\n",
      "Pass Incompletion\n",
      "11700\n",
      "End of Half\n",
      "14550\n",
      "Fumble Recovery (Opponent)\n",
      "12270\n",
      "End of Game\n",
      "13860\n",
      "Field Goal Missed\n",
      "19380\n",
      "Penalty\n",
      "2850\n",
      "Pass Interception Return\n",
      "19440\n",
      "Blocked Field Goal\n",
      "2370\n",
      "Defensive 2pt Conversion\n",
      "300\n",
      "Rush\n",
      "13980\n",
      "End Period\n",
      "3870\n",
      "Pass Reception\n",
      "4140\n",
      "Timeout\n",
      "1140\n",
      "Sack\n",
      "7140\n",
      "Interception Return Touchdown\n",
      "2490\n",
      "Fumble Recovery (Own)\n",
      "1080\n",
      "Kickoff\n",
      "240\n",
      "Kickoff Return Touchdown\n",
      "90\n",
      "Safety\n",
      "930\n",
      "Punt Return Touchdown\n",
      "180\n",
      "Blocked Punt\n",
      "750\n",
      "Fumble Return Touchdown\n",
      "300\n"
     ]
    }
   ],
   "source": [
    "for i in df['result'].unique():\n",
    "    print(i)\n",
    "    print(df.query('result == @i').size)"
   ]
  },
  {
   "cell_type": "code",
   "execution_count": 106,
   "metadata": {},
   "outputs": [],
   "source": [
    "df['description'] = df['description'].str.replace('[^\\w\\s]','')\n",
    "df['description'] = df['description'].str.replace('[{}]'.format(string.punctuation), '')\n",
    "df['result'] = df['result'].str.replace('[^\\w\\s]','')"
   ]
  },
  {
   "cell_type": "code",
   "execution_count": 107,
   "metadata": {},
   "outputs": [],
   "source": [
    "def makeTrainColumn(down, distance, yardline, description, quarter, clock):\n",
    "    return str(down) + ' ' + str(distance) + ' ' + str(yardline) + ' ' + str(quarter) + ' ' +str(clock) +' ' + str(description)"
   ]
  },
  {
   "cell_type": "code",
   "execution_count": 108,
   "metadata": {},
   "outputs": [],
   "source": [
    "for index,row in df.iterrows():\n",
    "    df.at[index,'train'] = makeTrainColumn(row['down'], row['distance'], row['yardLine'], row['description'], row['quarter'], row['clock'])"
   ]
  },
  {
   "cell_type": "code",
   "execution_count": 109,
   "metadata": {},
   "outputs": [
    {
     "data": {
      "text/html": [
       "<div>\n",
       "<style scoped>\n",
       "    .dataframe tbody tr th:only-of-type {\n",
       "        vertical-align: middle;\n",
       "    }\n",
       "\n",
       "    .dataframe tbody tr th {\n",
       "        vertical-align: top;\n",
       "    }\n",
       "\n",
       "    .dataframe thead th {\n",
       "        text-align: right;\n",
       "    }\n",
       "</style>\n",
       "<table border=\"1\" class=\"dataframe\">\n",
       "  <thead>\n",
       "    <tr style=\"text-align: right;\">\n",
       "      <th></th>\n",
       "      <th>gameId</th>\n",
       "      <th>year</th>\n",
       "      <th>week</th>\n",
       "      <th>homeId</th>\n",
       "      <th>homeTeam</th>\n",
       "      <th>homeAbbr</th>\n",
       "      <th>awayId</th>\n",
       "      <th>awayTeam</th>\n",
       "      <th>awayAbbr</th>\n",
       "      <th>driveIndex</th>\n",
       "      <th>playIndex</th>\n",
       "      <th>offenseId</th>\n",
       "      <th>offenseTeam</th>\n",
       "      <th>offenseAbbr</th>\n",
       "      <th>defenseId</th>\n",
       "      <th>defenseTeam</th>\n",
       "      <th>defenseAbbr</th>\n",
       "      <th>homeScore</th>\n",
       "      <th>awayScore</th>\n",
       "      <th>quarter</th>\n",
       "      <th>clock</th>\n",
       "      <th>wallclock</th>\n",
       "      <th>type</th>\n",
       "      <th>down</th>\n",
       "      <th>distance</th>\n",
       "      <th>yardLine</th>\n",
       "      <th>yardsGained</th>\n",
       "      <th>endYardLine</th>\n",
       "      <th>description</th>\n",
       "      <th>result</th>\n",
       "      <th>train</th>\n",
       "    </tr>\n",
       "  </thead>\n",
       "  <tbody>\n",
       "    <tr>\n",
       "      <td>0</td>\n",
       "      <td>400868876</td>\n",
       "      <td>2016</td>\n",
       "      <td>1</td>\n",
       "      <td>239</td>\n",
       "      <td>Baylor</td>\n",
       "      <td>BAY</td>\n",
       "      <td>2466</td>\n",
       "      <td>Northwestern St</td>\n",
       "      <td>NWST</td>\n",
       "      <td>0</td>\n",
       "      <td>0</td>\n",
       "      <td>239</td>\n",
       "      <td>Baylor</td>\n",
       "      <td>BAY</td>\n",
       "      <td>2466</td>\n",
       "      <td>Northwestern St</td>\n",
       "      <td>NWST</td>\n",
       "      <td>0</td>\n",
       "      <td>0</td>\n",
       "      <td>1</td>\n",
       "      <td>15:00</td>\n",
       "      <td>2016-09-03T06:36:41Z</td>\n",
       "      <td>Kickoff</td>\n",
       "      <td>1</td>\n",
       "      <td>10</td>\n",
       "      <td>35</td>\n",
       "      <td>10</td>\n",
       "      <td>86</td>\n",
       "      <td>Drew Galitz kickoff for 61 yds  Shakeir Ryan r...</td>\n",
       "      <td>Punt</td>\n",
       "      <td>1 10 35 1 15:00 Drew Galitz kickoff for 61 yds...</td>\n",
       "    </tr>\n",
       "    <tr>\n",
       "      <td>1</td>\n",
       "      <td>400868876</td>\n",
       "      <td>2016</td>\n",
       "      <td>1</td>\n",
       "      <td>239</td>\n",
       "      <td>Baylor</td>\n",
       "      <td>BAY</td>\n",
       "      <td>2466</td>\n",
       "      <td>Northwestern St</td>\n",
       "      <td>NWST</td>\n",
       "      <td>0</td>\n",
       "      <td>1</td>\n",
       "      <td>2466</td>\n",
       "      <td>Northwestern St</td>\n",
       "      <td>NWST</td>\n",
       "      <td>239</td>\n",
       "      <td>Baylor</td>\n",
       "      <td>BAY</td>\n",
       "      <td>0</td>\n",
       "      <td>0</td>\n",
       "      <td>1</td>\n",
       "      <td>14:55</td>\n",
       "      <td>2016-09-03T06:38:11Z</td>\n",
       "      <td>Timeout</td>\n",
       "      <td>1</td>\n",
       "      <td>10</td>\n",
       "      <td>86</td>\n",
       "      <td>0</td>\n",
       "      <td>86</td>\n",
       "      <td>Timeout NORTHWESTERN ST clock 1455</td>\n",
       "      <td>Punt</td>\n",
       "      <td>1 10 86 1 14:55 Timeout NORTHWESTERN ST clock ...</td>\n",
       "    </tr>\n",
       "    <tr>\n",
       "      <td>2</td>\n",
       "      <td>400868876</td>\n",
       "      <td>2016</td>\n",
       "      <td>1</td>\n",
       "      <td>239</td>\n",
       "      <td>Baylor</td>\n",
       "      <td>BAY</td>\n",
       "      <td>2466</td>\n",
       "      <td>Northwestern St</td>\n",
       "      <td>NWST</td>\n",
       "      <td>0</td>\n",
       "      <td>2</td>\n",
       "      <td>2466</td>\n",
       "      <td>Northwestern St</td>\n",
       "      <td>NWST</td>\n",
       "      <td>239</td>\n",
       "      <td>Baylor</td>\n",
       "      <td>BAY</td>\n",
       "      <td>0</td>\n",
       "      <td>0</td>\n",
       "      <td>1</td>\n",
       "      <td>14:55</td>\n",
       "      <td>2016-09-03T06:38:11Z</td>\n",
       "      <td>Rush</td>\n",
       "      <td>1</td>\n",
       "      <td>10</td>\n",
       "      <td>86</td>\n",
       "      <td>-1</td>\n",
       "      <td>87</td>\n",
       "      <td>DeMard Llorens run for a loss of 1 yard to the...</td>\n",
       "      <td>Punt</td>\n",
       "      <td>1 10 86 1 14:55 DeMard Llorens run for a loss ...</td>\n",
       "    </tr>\n",
       "    <tr>\n",
       "      <td>3</td>\n",
       "      <td>400868876</td>\n",
       "      <td>2016</td>\n",
       "      <td>1</td>\n",
       "      <td>239</td>\n",
       "      <td>Baylor</td>\n",
       "      <td>BAY</td>\n",
       "      <td>2466</td>\n",
       "      <td>Northwestern St</td>\n",
       "      <td>NWST</td>\n",
       "      <td>0</td>\n",
       "      <td>3</td>\n",
       "      <td>2466</td>\n",
       "      <td>Northwestern St</td>\n",
       "      <td>NWST</td>\n",
       "      <td>239</td>\n",
       "      <td>Baylor</td>\n",
       "      <td>BAY</td>\n",
       "      <td>0</td>\n",
       "      <td>0</td>\n",
       "      <td>1</td>\n",
       "      <td>14:55</td>\n",
       "      <td>2016-09-03T06:38:11Z</td>\n",
       "      <td>Rush</td>\n",
       "      <td>2</td>\n",
       "      <td>11</td>\n",
       "      <td>87</td>\n",
       "      <td>8</td>\n",
       "      <td>79</td>\n",
       "      <td>DeMard Llorens run for 8 yds to the NWSt 21</td>\n",
       "      <td>Punt</td>\n",
       "      <td>2 11 87 1 14:55 DeMard Llorens run for 8 yds t...</td>\n",
       "    </tr>\n",
       "    <tr>\n",
       "      <td>4</td>\n",
       "      <td>400868876</td>\n",
       "      <td>2016</td>\n",
       "      <td>1</td>\n",
       "      <td>239</td>\n",
       "      <td>Baylor</td>\n",
       "      <td>BAY</td>\n",
       "      <td>2466</td>\n",
       "      <td>Northwestern St</td>\n",
       "      <td>NWST</td>\n",
       "      <td>0</td>\n",
       "      <td>4</td>\n",
       "      <td>2466</td>\n",
       "      <td>Northwestern St</td>\n",
       "      <td>NWST</td>\n",
       "      <td>239</td>\n",
       "      <td>Baylor</td>\n",
       "      <td>BAY</td>\n",
       "      <td>0</td>\n",
       "      <td>0</td>\n",
       "      <td>1</td>\n",
       "      <td>14:55</td>\n",
       "      <td>2016-09-03T06:38:11Z</td>\n",
       "      <td>Rush</td>\n",
       "      <td>3</td>\n",
       "      <td>3</td>\n",
       "      <td>79</td>\n",
       "      <td>0</td>\n",
       "      <td>79</td>\n",
       "      <td>DeMard Llorens run for no gain to the NWSt 21</td>\n",
       "      <td>Punt</td>\n",
       "      <td>3 3 79 1 14:55 DeMard Llorens run for no gain ...</td>\n",
       "    </tr>\n",
       "  </tbody>\n",
       "</table>\n",
       "</div>"
      ],
      "text/plain": [
       "      gameId  year  week  homeId homeTeam homeAbbr  awayId         awayTeam  \\\n",
       "0  400868876  2016     1     239   Baylor      BAY    2466  Northwestern St   \n",
       "1  400868876  2016     1     239   Baylor      BAY    2466  Northwestern St   \n",
       "2  400868876  2016     1     239   Baylor      BAY    2466  Northwestern St   \n",
       "3  400868876  2016     1     239   Baylor      BAY    2466  Northwestern St   \n",
       "4  400868876  2016     1     239   Baylor      BAY    2466  Northwestern St   \n",
       "\n",
       "  awayAbbr  driveIndex  playIndex  offenseId      offenseTeam offenseAbbr  \\\n",
       "0     NWST           0          0        239           Baylor         BAY   \n",
       "1     NWST           0          1       2466  Northwestern St        NWST   \n",
       "2     NWST           0          2       2466  Northwestern St        NWST   \n",
       "3     NWST           0          3       2466  Northwestern St        NWST   \n",
       "4     NWST           0          4       2466  Northwestern St        NWST   \n",
       "\n",
       "   defenseId      defenseTeam defenseAbbr  homeScore  awayScore  quarter  \\\n",
       "0       2466  Northwestern St        NWST          0          0        1   \n",
       "1        239           Baylor         BAY          0          0        1   \n",
       "2        239           Baylor         BAY          0          0        1   \n",
       "3        239           Baylor         BAY          0          0        1   \n",
       "4        239           Baylor         BAY          0          0        1   \n",
       "\n",
       "   clock             wallclock     type  down  distance  yardLine  \\\n",
       "0  15:00  2016-09-03T06:36:41Z  Kickoff     1        10        35   \n",
       "1  14:55  2016-09-03T06:38:11Z  Timeout     1        10        86   \n",
       "2  14:55  2016-09-03T06:38:11Z     Rush     1        10        86   \n",
       "3  14:55  2016-09-03T06:38:11Z     Rush     2        11        87   \n",
       "4  14:55  2016-09-03T06:38:11Z     Rush     3         3        79   \n",
       "\n",
       "   yardsGained  endYardLine  \\\n",
       "0           10           86   \n",
       "1            0           86   \n",
       "2           -1           87   \n",
       "3            8           79   \n",
       "4            0           79   \n",
       "\n",
       "                                         description result  \\\n",
       "0  Drew Galitz kickoff for 61 yds  Shakeir Ryan r...   Punt   \n",
       "1                 Timeout NORTHWESTERN ST clock 1455   Punt   \n",
       "2  DeMard Llorens run for a loss of 1 yard to the...   Punt   \n",
       "3        DeMard Llorens run for 8 yds to the NWSt 21   Punt   \n",
       "4      DeMard Llorens run for no gain to the NWSt 21   Punt   \n",
       "\n",
       "                                               train  \n",
       "0  1 10 35 1 15:00 Drew Galitz kickoff for 61 yds...  \n",
       "1  1 10 86 1 14:55 Timeout NORTHWESTERN ST clock ...  \n",
       "2  1 10 86 1 14:55 DeMard Llorens run for a loss ...  \n",
       "3  2 11 87 1 14:55 DeMard Llorens run for 8 yds t...  \n",
       "4  3 3 79 1 14:55 DeMard Llorens run for no gain ...  "
      ]
     },
     "execution_count": 109,
     "metadata": {},
     "output_type": "execute_result"
    }
   ],
   "source": [
    "df.head()"
   ]
  },
  {
   "cell_type": "code",
   "execution_count": 110,
   "metadata": {},
   "outputs": [],
   "source": [
    "df['train'] = df['train'].str.replace('[^\\w\\s]','')\n",
    "df['train'] = df['train'].str.replace('[{}]'.format(string.punctuation), '')\n",
    "df['result'] = df['result'].str.replace('[^\\w\\s]','')"
   ]
  },
  {
   "cell_type": "code",
   "execution_count": 111,
   "metadata": {},
   "outputs": [],
   "source": [
    "x_train = df['train']\n",
    "y_train = df['result']\n",
    "\n",
    "x_train = x_train.values\n",
    "y_train = y_train.values"
   ]
  },
  {
   "cell_type": "markdown",
   "metadata": {},
   "source": [
    "## Tokens"
   ]
  },
  {
   "cell_type": "code",
   "execution_count": 112,
   "metadata": {},
   "outputs": [],
   "source": [
    "## create tokens \n",
    "tokenizer = keras.preprocessing.text.Tokenizer(num_words = 1000)\n",
    "tokenizer.fit_on_texts(x_train)\n",
    "word_index = tokenizer.word_index"
   ]
  },
  {
   "cell_type": "code",
   "execution_count": 113,
   "metadata": {},
   "outputs": [],
   "source": [
    "## ensure that all the data is actually text\n",
    "new_x_train = []\n",
    "for i in x_train:\n",
    "    new_x_train.append(str(i))\n",
    "    \n",
    "x_train = new_x_train\n",
    "\n",
    "\n",
    "## ensure that all the data is actually text\n",
    "new_y_train = []\n",
    "for i in y_train:\n",
    "    new_y_train.append(str(i))\n",
    "    \n",
    "y_train = new_y_train"
   ]
  },
  {
   "cell_type": "code",
   "execution_count": 114,
   "metadata": {},
   "outputs": [],
   "source": [
    "## convert texts to padded sequences \n",
    "x_train = tokenizer.texts_to_sequences(x_train)\n",
    "x_train = keras.preprocessing.sequence.pad_sequences(x_train, maxlen = 70)"
   ]
  },
  {
   "cell_type": "code",
   "execution_count": 115,
   "metadata": {},
   "outputs": [
    {
     "ename": "ValueError",
     "evalue": "could not convert string to float: '.'",
     "output_type": "error",
     "traceback": [
      "\u001b[0;31m---------------------------------------------------------------------------\u001b[0m",
      "\u001b[0;31mValueError\u001b[0m                                Traceback (most recent call last)",
      "\u001b[0;32m<ipython-input-115-db6eed9afd88>\u001b[0m in \u001b[0;36m<module>\u001b[0;34m\u001b[0m\n\u001b[1;32m      4\u001b[0m \u001b[0;32mfor\u001b[0m \u001b[0mi\u001b[0m\u001b[0;34m,\u001b[0m \u001b[0mline\u001b[0m \u001b[0;32min\u001b[0m \u001b[0menumerate\u001b[0m\u001b[0;34m(\u001b[0m\u001b[0mopen\u001b[0m\u001b[0;34m(\u001b[0m\u001b[0mEMBEDDING_FILE\u001b[0m\u001b[0;34m,\u001b[0m \u001b[0mencoding\u001b[0m\u001b[0;34m=\u001b[0m\u001b[0;34m'utf8'\u001b[0m\u001b[0;34m)\u001b[0m\u001b[0;34m)\u001b[0m\u001b[0;34m:\u001b[0m\u001b[0;34m\u001b[0m\u001b[0;34m\u001b[0m\u001b[0m\n\u001b[1;32m      5\u001b[0m     \u001b[0mval\u001b[0m \u001b[0;34m=\u001b[0m \u001b[0mline\u001b[0m\u001b[0;34m.\u001b[0m\u001b[0msplit\u001b[0m\u001b[0;34m(\u001b[0m\u001b[0;34m)\u001b[0m\u001b[0;34m\u001b[0m\u001b[0;34m\u001b[0m\u001b[0m\n\u001b[0;32m----> 6\u001b[0;31m     \u001b[0membeddings_index\u001b[0m\u001b[0;34m[\u001b[0m\u001b[0mval\u001b[0m\u001b[0;34m[\u001b[0m\u001b[0;36m0\u001b[0m\u001b[0;34m]\u001b[0m\u001b[0;34m]\u001b[0m \u001b[0;34m=\u001b[0m \u001b[0mnp\u001b[0m\u001b[0;34m.\u001b[0m\u001b[0masarray\u001b[0m\u001b[0;34m(\u001b[0m\u001b[0mval\u001b[0m\u001b[0;34m[\u001b[0m\u001b[0;36m1\u001b[0m\u001b[0;34m:\u001b[0m\u001b[0;34m]\u001b[0m\u001b[0;34m,\u001b[0m \u001b[0mdtype\u001b[0m\u001b[0;34m=\u001b[0m\u001b[0;34m'float32'\u001b[0m\u001b[0;34m)\u001b[0m\u001b[0;34m\u001b[0m\u001b[0;34m\u001b[0m\u001b[0m\n\u001b[0m\u001b[1;32m      7\u001b[0m \u001b[0;34m\u001b[0m\u001b[0m\n",
      "\u001b[0;32m/usr/local/lib/python3.7/site-packages/numpy/core/_asarray.py\u001b[0m in \u001b[0;36masarray\u001b[0;34m(a, dtype, order)\u001b[0m\n\u001b[1;32m     83\u001b[0m \u001b[0;34m\u001b[0m\u001b[0m\n\u001b[1;32m     84\u001b[0m     \"\"\"\n\u001b[0;32m---> 85\u001b[0;31m     \u001b[0;32mreturn\u001b[0m \u001b[0marray\u001b[0m\u001b[0;34m(\u001b[0m\u001b[0ma\u001b[0m\u001b[0;34m,\u001b[0m \u001b[0mdtype\u001b[0m\u001b[0;34m,\u001b[0m \u001b[0mcopy\u001b[0m\u001b[0;34m=\u001b[0m\u001b[0;32mFalse\u001b[0m\u001b[0;34m,\u001b[0m \u001b[0morder\u001b[0m\u001b[0;34m=\u001b[0m\u001b[0morder\u001b[0m\u001b[0;34m)\u001b[0m\u001b[0;34m\u001b[0m\u001b[0;34m\u001b[0m\u001b[0m\n\u001b[0m\u001b[1;32m     86\u001b[0m \u001b[0;34m\u001b[0m\u001b[0m\n\u001b[1;32m     87\u001b[0m \u001b[0;34m\u001b[0m\u001b[0m\n",
      "\u001b[0;31mValueError\u001b[0m: could not convert string to float: '.'"
     ]
    }
   ],
   "source": [
    "EMBEDDING_FILE = 'glove.840B.300d.txt'\n",
    "\n",
    "embeddings_index = {}\n",
    "for i, line in enumerate(open(EMBEDDING_FILE, encoding='utf8')):\n",
    "    val = line.split()\n",
    "    embeddings_index[val[0]] = np.asarray(val[1:], dtype='float32')\n",
    "    \n"
   ]
  },
  {
   "cell_type": "code",
   "execution_count": 116,
   "metadata": {},
   "outputs": [],
   "source": [
    "embedding_matrix = np.zeros((len(word_index) + 1, 300))\n",
    "for word, i in word_index.items():\n",
    "    embedding_vector = embeddings_index.get(word)\n",
    "    if embedding_vector is not None:\n",
    "        embedding_matrix[i] = embedding_vector"
   ]
  },
  {
   "cell_type": "code",
   "execution_count": 117,
   "metadata": {},
   "outputs": [],
   "source": [
    "class Model(nn.Module):\n",
    "    def __init__(self):\n",
    "        super(Model, self).__init__()\n",
    "        ## Embedding Layer, Add parameter \n",
    "        self.embedding = nn.Embedding(2000, embedding_matrix.size) \n",
    "        et = torch.tensor(embedding_matrix, dtype=torch.float32)\n",
    "        self.embedding.weight = nn.Parameter(et)\n",
    "        self.embedding.weight.requires_grad = False\n",
    "        self.embedding_dropout = nn.Dropout2d(0.1)\n",
    "        self.lstm = nn.LSTM(300, 40)        \n",
    "        self.linear = nn.Linear(40, df['result'].unique().size)\n",
    "        self.out = nn.Linear(df['result'].unique().size, df['result'].unique().size)\n",
    "        self.relu = nn.ReLU()\n",
    "        \n",
    "    def forward(self, x):\n",
    "        h_embedding = self.embedding(x)        \n",
    "        h_lstm, _ = self.lstm(h_embedding)\n",
    "        max_pool, _ = torch.max(h_lstm, 1)        \n",
    "        linear = self.relu(self.linear(max_pool))\n",
    "        out = self.out(linear)\n",
    "        return out\n",
    "    \n",
    "model = Model()"
   ]
  },
  {
   "cell_type": "code",
   "execution_count": 118,
   "metadata": {},
   "outputs": [],
   "source": [
    "## create training and validation split \n",
    "split_size = int(0.8 * len(df))\n",
    "index_list = list(range(len(df)))\n",
    "train_idx, valid_idx = index_list[:split_size], index_list[split_size:]"
   ]
  },
  {
   "cell_type": "code",
   "execution_count": 119,
   "metadata": {},
   "outputs": [],
   "source": [
    "y_tr_prep = []\n",
    "for result in y_train:\n",
    "    i = 0\n",
    "    for type in df['result'].unique():\n",
    "        if(result == type):\n",
    "            y_tr_prep.append(i)\n",
    "        i+=1\n",
    "            \n",
    "            \n",
    "new_prep = []\n",
    "for i in train_idx:\n",
    "    new_prep.append(y_tr_prep[i])\n",
    "y_tr_prep = new_prep\n",
    "\n"
   ]
  },
  {
   "cell_type": "code",
   "execution_count": 120,
   "metadata": {},
   "outputs": [
    {
     "name": "stdout",
     "output_type": "stream",
     "text": [
      "12890\n"
     ]
    }
   ],
   "source": [
    "y_valid_prep = []\n",
    "for index,row in df.iterrows():\n",
    "    i = 0\n",
    "    for type in df['result'].unique():\n",
    "        if(result == type):\n",
    "            y_valid_prep.append(i)\n",
    "        i+=1\n",
    "\n",
    "print(len(new_prep))\n",
    "\n",
    "\n",
    "new_prep = []\n",
    "for i in valid_idx:\n",
    "    new_prep.append(y_valid_prep[i])\n",
    "    \n",
    "y_valid_prep = new_prep"
   ]
  },
  {
   "cell_type": "code",
   "execution_count": 121,
   "metadata": {},
   "outputs": [
    {
     "name": "stdout",
     "output_type": "stream",
     "text": [
      "tensor([0, 0, 0,  ..., 0, 0, 0], dtype=torch.int32)\n",
      "[4615 1649 1419 1604  348  392  348  380  564   73  501   79   10  344\n",
      "   99  108   25  176   70   25    7    3   31    6   14]\n",
      "[2.16684724e-04 6.06428138e-04 7.04721635e-04 6.23441397e-04\n",
      " 2.87356322e-03 2.55102041e-03 2.87356322e-03 2.63157895e-03\n",
      " 1.77304965e-03 1.36986301e-02 1.99600798e-03 1.26582278e-02\n",
      " 1.00000000e-01 2.90697674e-03 1.01010101e-02 9.25925926e-03\n",
      " 4.00000000e-02 5.68181818e-03 1.42857143e-02 4.00000000e-02\n",
      " 1.42857143e-01 3.33333333e-01 3.22580645e-02 1.66666667e-01\n",
      " 7.14285714e-02]\n",
      "12890\n"
     ]
    }
   ],
   "source": [
    "## create iterator objects for train and valid datasets\n",
    "x_tr = torch.tensor(x_train[train_idx], dtype=torch.long)\n",
    "y_tr = torch.tensor(y_tr_prep, dtype=torch.float32)\n",
    "train = TensorDataset(x_tr, y_tr)\n",
    "\n",
    "## Just trying to get a good weight\n",
    "test = torch.tensor(y_tr_prep, dtype=torch.int)\n",
    "print(test)\n",
    "class_sample_count = np.unique(test, return_counts=True)[1]\n",
    "print(class_sample_count)\n",
    "weight = 1. / class_sample_count\n",
    "\n",
    "print(weight)\n",
    "samples_weight = weight[test]\n",
    "print(len(samples_weight))\n",
    "\n",
    "\n",
    "\n",
    "trainloader = torch.utils.data.DataLoader(train, batch_size=1,sampler=torch.utils.data.sampler.WeightedRandomSampler(samples_weight, len(samples_weight)))\n",
    "\n",
    "x_val = torch.tensor(x_train[valid_idx], dtype=torch.long)\n",
    "y_val = torch.tensor(y_valid_prep, dtype=torch.float32)\n",
    "valid = TensorDataset(x_val, y_val)\n",
    "validloader = torch.utils.data.DataLoader(valid, batch_size=1)\n",
    "\n",
    "\n",
    "\n"
   ]
  },
  {
   "cell_type": "code",
   "execution_count": 122,
   "metadata": {},
   "outputs": [],
   "source": [
    "loss_function = nn.CrossEntropyLoss()\n",
    "optimizer = optim.SGD(model.parameters(), lr=0.005, momentum=0.9)"
   ]
  },
  {
   "cell_type": "code",
   "execution_count": 128,
   "metadata": {
    "scrolled": true
   },
   "outputs": [
    {
     "name": "stdout",
     "output_type": "stream",
     "text": [
      "[1,  2000] loss: 1.130\n",
      "[1,  4000] loss: 1.092\n",
      "[1,  6000] loss: 1.088\n",
      "[1,  8000] loss: 1.115\n",
      "[1, 10000] loss: 1.078\n",
      "[1, 12000] loss: 1.130\n",
      "[2,  2000] loss: 1.118\n",
      "[2,  4000] loss: 1.103\n",
      "[2,  6000] loss: 1.091\n",
      "[2,  8000] loss: 1.119\n",
      "[2, 10000] loss: 1.109\n",
      "[2, 12000] loss: 1.040\n",
      "[3,  2000] loss: 1.190\n",
      "[3,  4000] loss: 1.090\n",
      "[3,  6000] loss: 1.107\n",
      "[3,  8000] loss: 1.001\n",
      "[3, 10000] loss: 1.114\n",
      "[3, 12000] loss: 1.135\n",
      "[4,  2000] loss: 1.171\n",
      "[4,  4000] loss: 1.091\n",
      "[4,  6000] loss: 1.035\n",
      "[4,  8000] loss: 1.038\n",
      "[4, 10000] loss: 1.054\n",
      "[4, 12000] loss: 1.105\n",
      "[5,  2000] loss: 1.118\n",
      "[5,  4000] loss: 1.135\n",
      "[5,  6000] loss: 1.100\n",
      "[5,  8000] loss: 1.126\n",
      "[5, 10000] loss: 1.128\n",
      "[5, 12000] loss: 1.101\n",
      "[6,  2000] loss: 1.116\n",
      "[6,  4000] loss: 1.104\n",
      "[6,  6000] loss: 1.054\n",
      "[6,  8000] loss: 1.141\n",
      "[6, 10000] loss: 1.081\n",
      "[6, 12000] loss: 1.131\n",
      "[7,  2000] loss: 1.105\n",
      "[7,  4000] loss: 1.087\n",
      "[7,  6000] loss: 1.057\n",
      "[7,  8000] loss: 1.095\n",
      "[7, 10000] loss: 1.047\n",
      "[7, 12000] loss: 1.074\n",
      "[8,  2000] loss: 1.053\n",
      "[8,  4000] loss: 1.025\n",
      "[8,  6000] loss: 1.082\n",
      "[8,  8000] loss: 1.109\n",
      "[8, 10000] loss: 1.102\n",
      "[8, 12000] loss: 1.065\n",
      "[9,  2000] loss: 1.059\n",
      "[9,  4000] loss: 1.058\n",
      "[9,  6000] loss: 1.051\n",
      "[9,  8000] loss: 1.078\n",
      "[9, 10000] loss: 1.096\n",
      "[9, 12000] loss: 0.993\n",
      "[10,  2000] loss: 1.065\n",
      "[10,  4000] loss: 1.112\n",
      "[10,  6000] loss: 1.075\n",
      "[10,  8000] loss: 1.134\n",
      "[10, 10000] loss: 1.071\n",
      "[10, 12000] loss: 1.050\n",
      "[11,  2000] loss: 1.046\n",
      "[11,  4000] loss: 1.052\n",
      "[11,  6000] loss: 1.012\n",
      "[11,  8000] loss: 0.995\n",
      "[11, 10000] loss: 1.055\n",
      "[11, 12000] loss: 1.112\n",
      "[12,  2000] loss: 1.050\n",
      "[12,  4000] loss: 1.089\n",
      "[12,  6000] loss: 1.083\n",
      "[12,  8000] loss: 1.047\n",
      "[12, 10000] loss: 1.113\n",
      "[12, 12000] loss: 1.019\n",
      "[13,  2000] loss: 1.125\n",
      "[13,  4000] loss: 1.066\n",
      "[13,  6000] loss: 1.063\n",
      "[13,  8000] loss: 1.095\n",
      "[13, 10000] loss: 1.020\n",
      "[13, 12000] loss: 1.089\n",
      "[14,  2000] loss: 0.989\n",
      "[14,  4000] loss: 1.251\n",
      "[14,  6000] loss: 1.158\n",
      "[14,  8000] loss: 1.112\n",
      "[14, 10000] loss: 1.078\n",
      "[14, 12000] loss: 1.098\n",
      "[15,  2000] loss: 1.175\n",
      "[15,  4000] loss: 1.131\n",
      "[15,  6000] loss: 1.094\n",
      "[15,  8000] loss: 1.082\n",
      "[15, 10000] loss: 1.092\n",
      "[15, 12000] loss: 1.104\n",
      "[16,  2000] loss: 1.022\n",
      "[16,  4000] loss: 1.089\n",
      "[16,  6000] loss: 1.109\n",
      "[16,  8000] loss: 1.074\n",
      "[16, 10000] loss: 1.113\n",
      "[16, 12000] loss: 1.111\n"
     ]
    },
    {
     "ename": "KeyboardInterrupt",
     "evalue": "",
     "output_type": "error",
     "traceback": [
      "\u001b[0;31m---------------------------------------------------------------------------\u001b[0m",
      "\u001b[0;31mKeyboardInterrupt\u001b[0m                         Traceback (most recent call last)",
      "\u001b[0;32m<ipython-input-128-4ff714fac628>\u001b[0m in \u001b[0;36m<module>\u001b[0;34m\u001b[0m\n\u001b[1;32m      9\u001b[0m \u001b[0;34m\u001b[0m\u001b[0m\n\u001b[1;32m     10\u001b[0m             \u001b[0;31m# forward + backward + optimize\u001b[0m\u001b[0;34m\u001b[0m\u001b[0;34m\u001b[0m\u001b[0;34m\u001b[0m\u001b[0m\n\u001b[0;32m---> 11\u001b[0;31m             \u001b[0moutputs\u001b[0m \u001b[0;34m=\u001b[0m \u001b[0mmodel\u001b[0m\u001b[0;34m(\u001b[0m\u001b[0minputs\u001b[0m\u001b[0;34m)\u001b[0m\u001b[0;34m\u001b[0m\u001b[0;34m\u001b[0m\u001b[0m\n\u001b[0m\u001b[1;32m     12\u001b[0m             \u001b[0mloss\u001b[0m \u001b[0;34m=\u001b[0m \u001b[0mloss_function\u001b[0m\u001b[0;34m(\u001b[0m\u001b[0moutputs\u001b[0m\u001b[0;34m,\u001b[0m \u001b[0mlabels\u001b[0m\u001b[0;34m.\u001b[0m\u001b[0mlong\u001b[0m\u001b[0;34m(\u001b[0m\u001b[0;34m)\u001b[0m\u001b[0;34m)\u001b[0m\u001b[0;34m\u001b[0m\u001b[0;34m\u001b[0m\u001b[0m\n\u001b[1;32m     13\u001b[0m             \u001b[0mloss\u001b[0m\u001b[0;34m.\u001b[0m\u001b[0mbackward\u001b[0m\u001b[0;34m(\u001b[0m\u001b[0;34m)\u001b[0m\u001b[0;34m\u001b[0m\u001b[0;34m\u001b[0m\u001b[0m\n",
      "\u001b[0;32m/usr/local/lib/python3.7/site-packages/torch/nn/modules/module.py\u001b[0m in \u001b[0;36m__call__\u001b[0;34m(self, *input, **kwargs)\u001b[0m\n\u001b[1;32m    545\u001b[0m             \u001b[0mresult\u001b[0m \u001b[0;34m=\u001b[0m \u001b[0mself\u001b[0m\u001b[0;34m.\u001b[0m\u001b[0m_slow_forward\u001b[0m\u001b[0;34m(\u001b[0m\u001b[0;34m*\u001b[0m\u001b[0minput\u001b[0m\u001b[0;34m,\u001b[0m \u001b[0;34m**\u001b[0m\u001b[0mkwargs\u001b[0m\u001b[0;34m)\u001b[0m\u001b[0;34m\u001b[0m\u001b[0;34m\u001b[0m\u001b[0m\n\u001b[1;32m    546\u001b[0m         \u001b[0;32melse\u001b[0m\u001b[0;34m:\u001b[0m\u001b[0;34m\u001b[0m\u001b[0;34m\u001b[0m\u001b[0m\n\u001b[0;32m--> 547\u001b[0;31m             \u001b[0mresult\u001b[0m \u001b[0;34m=\u001b[0m \u001b[0mself\u001b[0m\u001b[0;34m.\u001b[0m\u001b[0mforward\u001b[0m\u001b[0;34m(\u001b[0m\u001b[0;34m*\u001b[0m\u001b[0minput\u001b[0m\u001b[0;34m,\u001b[0m \u001b[0;34m**\u001b[0m\u001b[0mkwargs\u001b[0m\u001b[0;34m)\u001b[0m\u001b[0;34m\u001b[0m\u001b[0;34m\u001b[0m\u001b[0m\n\u001b[0m\u001b[1;32m    548\u001b[0m         \u001b[0;32mfor\u001b[0m \u001b[0mhook\u001b[0m \u001b[0;32min\u001b[0m \u001b[0mself\u001b[0m\u001b[0;34m.\u001b[0m\u001b[0m_forward_hooks\u001b[0m\u001b[0;34m.\u001b[0m\u001b[0mvalues\u001b[0m\u001b[0;34m(\u001b[0m\u001b[0;34m)\u001b[0m\u001b[0;34m:\u001b[0m\u001b[0;34m\u001b[0m\u001b[0;34m\u001b[0m\u001b[0m\n\u001b[1;32m    549\u001b[0m             \u001b[0mhook_result\u001b[0m \u001b[0;34m=\u001b[0m \u001b[0mhook\u001b[0m\u001b[0;34m(\u001b[0m\u001b[0mself\u001b[0m\u001b[0;34m,\u001b[0m \u001b[0minput\u001b[0m\u001b[0;34m,\u001b[0m \u001b[0mresult\u001b[0m\u001b[0;34m)\u001b[0m\u001b[0;34m\u001b[0m\u001b[0;34m\u001b[0m\u001b[0m\n",
      "\u001b[0;32m<ipython-input-117-676ef41f690d>\u001b[0m in \u001b[0;36mforward\u001b[0;34m(self, x)\u001b[0m\n\u001b[1;32m     15\u001b[0m     \u001b[0;32mdef\u001b[0m \u001b[0mforward\u001b[0m\u001b[0;34m(\u001b[0m\u001b[0mself\u001b[0m\u001b[0;34m,\u001b[0m \u001b[0mx\u001b[0m\u001b[0;34m)\u001b[0m\u001b[0;34m:\u001b[0m\u001b[0;34m\u001b[0m\u001b[0;34m\u001b[0m\u001b[0m\n\u001b[1;32m     16\u001b[0m         \u001b[0mh_embedding\u001b[0m \u001b[0;34m=\u001b[0m \u001b[0mself\u001b[0m\u001b[0;34m.\u001b[0m\u001b[0membedding\u001b[0m\u001b[0;34m(\u001b[0m\u001b[0mx\u001b[0m\u001b[0;34m)\u001b[0m\u001b[0;34m\u001b[0m\u001b[0;34m\u001b[0m\u001b[0m\n\u001b[0;32m---> 17\u001b[0;31m         \u001b[0mh_lstm\u001b[0m\u001b[0;34m,\u001b[0m \u001b[0m_\u001b[0m \u001b[0;34m=\u001b[0m \u001b[0mself\u001b[0m\u001b[0;34m.\u001b[0m\u001b[0mlstm\u001b[0m\u001b[0;34m(\u001b[0m\u001b[0mh_embedding\u001b[0m\u001b[0;34m)\u001b[0m\u001b[0;34m\u001b[0m\u001b[0;34m\u001b[0m\u001b[0m\n\u001b[0m\u001b[1;32m     18\u001b[0m         \u001b[0mmax_pool\u001b[0m\u001b[0;34m,\u001b[0m \u001b[0m_\u001b[0m \u001b[0;34m=\u001b[0m \u001b[0mtorch\u001b[0m\u001b[0;34m.\u001b[0m\u001b[0mmax\u001b[0m\u001b[0;34m(\u001b[0m\u001b[0mh_lstm\u001b[0m\u001b[0;34m,\u001b[0m \u001b[0;36m1\u001b[0m\u001b[0;34m)\u001b[0m\u001b[0;34m\u001b[0m\u001b[0;34m\u001b[0m\u001b[0m\n\u001b[1;32m     19\u001b[0m         \u001b[0mlinear\u001b[0m \u001b[0;34m=\u001b[0m \u001b[0mself\u001b[0m\u001b[0;34m.\u001b[0m\u001b[0mrelu\u001b[0m\u001b[0;34m(\u001b[0m\u001b[0mself\u001b[0m\u001b[0;34m.\u001b[0m\u001b[0mlinear\u001b[0m\u001b[0;34m(\u001b[0m\u001b[0mmax_pool\u001b[0m\u001b[0;34m)\u001b[0m\u001b[0;34m)\u001b[0m\u001b[0;34m\u001b[0m\u001b[0;34m\u001b[0m\u001b[0m\n",
      "\u001b[0;32m/usr/local/lib/python3.7/site-packages/torch/nn/modules/module.py\u001b[0m in \u001b[0;36m__call__\u001b[0;34m(self, *input, **kwargs)\u001b[0m\n\u001b[1;32m    545\u001b[0m             \u001b[0mresult\u001b[0m \u001b[0;34m=\u001b[0m \u001b[0mself\u001b[0m\u001b[0;34m.\u001b[0m\u001b[0m_slow_forward\u001b[0m\u001b[0;34m(\u001b[0m\u001b[0;34m*\u001b[0m\u001b[0minput\u001b[0m\u001b[0;34m,\u001b[0m \u001b[0;34m**\u001b[0m\u001b[0mkwargs\u001b[0m\u001b[0;34m)\u001b[0m\u001b[0;34m\u001b[0m\u001b[0;34m\u001b[0m\u001b[0m\n\u001b[1;32m    546\u001b[0m         \u001b[0;32melse\u001b[0m\u001b[0;34m:\u001b[0m\u001b[0;34m\u001b[0m\u001b[0;34m\u001b[0m\u001b[0m\n\u001b[0;32m--> 547\u001b[0;31m             \u001b[0mresult\u001b[0m \u001b[0;34m=\u001b[0m \u001b[0mself\u001b[0m\u001b[0;34m.\u001b[0m\u001b[0mforward\u001b[0m\u001b[0;34m(\u001b[0m\u001b[0;34m*\u001b[0m\u001b[0minput\u001b[0m\u001b[0;34m,\u001b[0m \u001b[0;34m**\u001b[0m\u001b[0mkwargs\u001b[0m\u001b[0;34m)\u001b[0m\u001b[0;34m\u001b[0m\u001b[0;34m\u001b[0m\u001b[0m\n\u001b[0m\u001b[1;32m    548\u001b[0m         \u001b[0;32mfor\u001b[0m \u001b[0mhook\u001b[0m \u001b[0;32min\u001b[0m \u001b[0mself\u001b[0m\u001b[0;34m.\u001b[0m\u001b[0m_forward_hooks\u001b[0m\u001b[0;34m.\u001b[0m\u001b[0mvalues\u001b[0m\u001b[0;34m(\u001b[0m\u001b[0;34m)\u001b[0m\u001b[0;34m:\u001b[0m\u001b[0;34m\u001b[0m\u001b[0;34m\u001b[0m\u001b[0m\n\u001b[1;32m    549\u001b[0m             \u001b[0mhook_result\u001b[0m \u001b[0;34m=\u001b[0m \u001b[0mhook\u001b[0m\u001b[0;34m(\u001b[0m\u001b[0mself\u001b[0m\u001b[0;34m,\u001b[0m \u001b[0minput\u001b[0m\u001b[0;34m,\u001b[0m \u001b[0mresult\u001b[0m\u001b[0;34m)\u001b[0m\u001b[0;34m\u001b[0m\u001b[0;34m\u001b[0m\u001b[0m\n",
      "\u001b[0;32m/usr/local/lib/python3.7/site-packages/torch/nn/modules/rnn.py\u001b[0m in \u001b[0;36mforward\u001b[0;34m(self, input, hx)\u001b[0m\n\u001b[1;32m    562\u001b[0m             \u001b[0;32mreturn\u001b[0m \u001b[0mself\u001b[0m\u001b[0;34m.\u001b[0m\u001b[0mforward_packed\u001b[0m\u001b[0;34m(\u001b[0m\u001b[0minput\u001b[0m\u001b[0;34m,\u001b[0m \u001b[0mhx\u001b[0m\u001b[0;34m)\u001b[0m\u001b[0;34m\u001b[0m\u001b[0;34m\u001b[0m\u001b[0m\n\u001b[1;32m    563\u001b[0m         \u001b[0;32melse\u001b[0m\u001b[0;34m:\u001b[0m\u001b[0;34m\u001b[0m\u001b[0;34m\u001b[0m\u001b[0m\n\u001b[0;32m--> 564\u001b[0;31m             \u001b[0;32mreturn\u001b[0m \u001b[0mself\u001b[0m\u001b[0;34m.\u001b[0m\u001b[0mforward_tensor\u001b[0m\u001b[0;34m(\u001b[0m\u001b[0minput\u001b[0m\u001b[0;34m,\u001b[0m \u001b[0mhx\u001b[0m\u001b[0;34m)\u001b[0m\u001b[0;34m\u001b[0m\u001b[0;34m\u001b[0m\u001b[0m\n\u001b[0m\u001b[1;32m    565\u001b[0m \u001b[0;34m\u001b[0m\u001b[0m\n\u001b[1;32m    566\u001b[0m \u001b[0;32mclass\u001b[0m \u001b[0mGRU\u001b[0m\u001b[0;34m(\u001b[0m\u001b[0mRNNBase\u001b[0m\u001b[0;34m)\u001b[0m\u001b[0;34m:\u001b[0m\u001b[0;34m\u001b[0m\u001b[0;34m\u001b[0m\u001b[0m\n",
      "\u001b[0;32m/usr/local/lib/python3.7/site-packages/torch/nn/modules/rnn.py\u001b[0m in \u001b[0;36mforward_tensor\u001b[0;34m(self, input, hx)\u001b[0m\n\u001b[1;32m    541\u001b[0m         \u001b[0munsorted_indices\u001b[0m \u001b[0;34m=\u001b[0m \u001b[0;32mNone\u001b[0m\u001b[0;34m\u001b[0m\u001b[0;34m\u001b[0m\u001b[0m\n\u001b[1;32m    542\u001b[0m \u001b[0;34m\u001b[0m\u001b[0m\n\u001b[0;32m--> 543\u001b[0;31m         \u001b[0moutput\u001b[0m\u001b[0;34m,\u001b[0m \u001b[0mhidden\u001b[0m \u001b[0;34m=\u001b[0m \u001b[0mself\u001b[0m\u001b[0;34m.\u001b[0m\u001b[0mforward_impl\u001b[0m\u001b[0;34m(\u001b[0m\u001b[0minput\u001b[0m\u001b[0;34m,\u001b[0m \u001b[0mhx\u001b[0m\u001b[0;34m,\u001b[0m \u001b[0mbatch_sizes\u001b[0m\u001b[0;34m,\u001b[0m \u001b[0mmax_batch_size\u001b[0m\u001b[0;34m,\u001b[0m \u001b[0msorted_indices\u001b[0m\u001b[0;34m)\u001b[0m\u001b[0;34m\u001b[0m\u001b[0;34m\u001b[0m\u001b[0m\n\u001b[0m\u001b[1;32m    544\u001b[0m \u001b[0;34m\u001b[0m\u001b[0m\n\u001b[1;32m    545\u001b[0m         \u001b[0;32mreturn\u001b[0m \u001b[0moutput\u001b[0m\u001b[0;34m,\u001b[0m \u001b[0mself\u001b[0m\u001b[0;34m.\u001b[0m\u001b[0mpermute_hidden\u001b[0m\u001b[0;34m(\u001b[0m\u001b[0mhidden\u001b[0m\u001b[0;34m,\u001b[0m \u001b[0munsorted_indices\u001b[0m\u001b[0;34m)\u001b[0m\u001b[0;34m\u001b[0m\u001b[0;34m\u001b[0m\u001b[0m\n",
      "\u001b[0;32m/usr/local/lib/python3.7/site-packages/torch/nn/modules/rnn.py\u001b[0m in \u001b[0;36mforward_impl\u001b[0;34m(self, input, hx, batch_sizes, max_batch_size, sorted_indices)\u001b[0m\n\u001b[1;32m    524\u001b[0m         \u001b[0;32mif\u001b[0m \u001b[0mbatch_sizes\u001b[0m \u001b[0;32mis\u001b[0m \u001b[0;32mNone\u001b[0m\u001b[0;34m:\u001b[0m\u001b[0;34m\u001b[0m\u001b[0;34m\u001b[0m\u001b[0m\n\u001b[1;32m    525\u001b[0m             result = _VF.lstm(input, hx, self._get_flat_weights(), self.bias, self.num_layers,\n\u001b[0;32m--> 526\u001b[0;31m                               self.dropout, self.training, self.bidirectional, self.batch_first)\n\u001b[0m\u001b[1;32m    527\u001b[0m         \u001b[0;32melse\u001b[0m\u001b[0;34m:\u001b[0m\u001b[0;34m\u001b[0m\u001b[0;34m\u001b[0m\u001b[0m\n\u001b[1;32m    528\u001b[0m             result = _VF.lstm(input, batch_sizes, hx, self._get_flat_weights(), self.bias,\n",
      "\u001b[0;31mKeyboardInterrupt\u001b[0m: "
     ]
    }
   ],
   "source": [
    "for epoch in range(30):  # loop over the dataset multiple times\n",
    "\n",
    "        running_loss = 0.0\n",
    "        for i, data in enumerate(trainloader, 0):\n",
    "            # get the inputs\n",
    "            inputs, labels = data\n",
    "            # zero the parameter gradients\n",
    "            optimizer.zero_grad()\n",
    "\n",
    "            # forward + backward + optimize\n",
    "            outputs = model(inputs)\n",
    "            loss = loss_function(outputs, labels.long())\n",
    "            loss.backward()\n",
    "            optimizer.step()\n",
    "\n",
    "            # print statistics\n",
    "            running_loss += loss.item()\n",
    "            if i % 2000 == 1999:    # print every 2000 mini-batches\n",
    "                print('[%d, %5d] loss: %.3f' %\n",
    "                      (epoch + 1, i + 1, running_loss / 2000))\n",
    "                running_loss = 0.0"
   ]
  },
  {
   "cell_type": "code",
   "execution_count": 129,
   "metadata": {},
   "outputs": [
    {
     "name": "stdout",
     "output_type": "stream",
     "text": [
      "8717\n",
      "Model accuracy on 12890 train plays: 67.63%\n"
     ]
    }
   ],
   "source": [
    "total_correct = 0\n",
    "total_images = 0\n",
    "preds = np.empty((0,1))\n",
    "lebs = np.empty((0,1))\n",
    "confusion_matrix = np.zeros([len(df['result'].unique()),len(df['result'].unique())], int)\n",
    "with torch.no_grad():\n",
    "    for data in trainloader:\n",
    "        images, labels = data\n",
    "        outputs = model(images)\n",
    "        _, predicted = torch.max(outputs.data, 1)\n",
    "        total_images += labels.size(0)\n",
    "        total_correct += (predicted == labels.long()).sum().item()\n",
    "        preds = np.append(preds,predicted)\n",
    "        lebs = np.append(lebs,labels)\n",
    "        for i, l in enumerate(labels):\n",
    "            confusion_matrix[int(l.item()), predicted[i].item()] += 1 \n",
    "\n",
    "print(total_correct)\n",
    "model_accuracy = total_correct / total_images * 100\n",
    "print('Model accuracy on {0} train plays: {1:.2f}%'.format(total_images, model_accuracy))"
   ]
  },
  {
   "cell_type": "code",
   "execution_count": 130,
   "metadata": {
    "scrolled": true
   },
   "outputs": [
    {
     "name": "stdout",
     "output_type": "stream",
     "text": [
      "213\n",
      "Model accuracy on 3223 train plays: 6.61%\n"
     ]
    }
   ],
   "source": [
    "total_correct = 0\n",
    "total_images = 0\n",
    "preds = np.empty((0,1))\n",
    "lebs = np.empty((0,1))\n",
    "confusion_matrix = np.zeros([27,27], int)\n",
    "with torch.no_grad():\n",
    "    for data in validloader:\n",
    "        images, labels = data\n",
    "        outputs = model(images)\n",
    "        _, predicted = torch.max(outputs.data, 1)\n",
    "        total_images += labels.size(0)\n",
    "        total_correct += (predicted == labels.long()).sum().item()\n",
    "        preds = np.append(preds,predicted)\n",
    "        lebs = np.append(lebs,labels)\n",
    "        for i, l in enumerate(labels):\n",
    "            confusion_matrix[int(l.item()), predicted[i].item()] += 1 \n",
    "\n",
    "print(total_correct)\n",
    "model_accuracy = total_correct / total_images * 100\n",
    "print('Model accuracy on {0} train plays: {1:.2f}%'.format(total_images, model_accuracy))"
   ]
  },
  {
   "cell_type": "code",
   "execution_count": 131,
   "metadata": {},
   "outputs": [
    {
     "data": {
      "image/png": "[encoded data removed]",
      "text/plain": [
       "<Figure size 2880x1152 with 1 Axes>"
      ]
     },
     "metadata": {
      "needs_background": "light"
     },
     "output_type": "display_data"
    }
   ],
   "source": [
    "fig, ax = plt.subplots(1,1,figsize=(40,16))\n",
    "ax.matshow(confusion_matrix, aspect='auto', vmin=0, vmax=1000, cmap=plt.get_cmap('Blues'))\n",
    "plt.ylabel('Actual Category')\n",
    "plt.yticks(range(len(df['result'].unique())), df['result'].unique())\n",
    "plt.xlabel('Predicted Category')\n",
    "plt.xticks(range(len(df['result'].unique())), df['result'].unique())\n",
    "plt.show()"
   ]
  },
  {
   "cell_type": "code",
   "execution_count": 132,
   "metadata": {},
   "outputs": [],
   "source": [
    "week2 = pd.read_csv('PBP - 2016 - Week 2.csv')"
   ]
  },
  {
   "cell_type": "code",
   "execution_count": 133,
   "metadata": {},
   "outputs": [],
   "source": [
    "for index,row in week2.iterrows():\n",
    "    week2.at[index,'result'] = getDriveResult(row['driveIndex'], row['gameId'], week2)"
   ]
  },
  {
   "cell_type": "code",
   "execution_count": 134,
   "metadata": {},
   "outputs": [],
   "source": [
    "for index,row in week2.iterrows():\n",
    "    week2.at[index,'train'] = makeTrainColumn(row['down'], row['distance'], row['yardLine'], row['description'], row['quarter'], row['clock'])"
   ]
  },
  {
   "cell_type": "code",
   "execution_count": 135,
   "metadata": {},
   "outputs": [],
   "source": [
    "week2['train'] = week2['train'].str.replace('[^\\w\\s]','')\n",
    "week2['train'] = week2['train'].str.replace('[{}]'.format(string.punctuation), '')\n",
    "week2['result'] = week2['result'].str.replace('[^\\w\\s]','')"
   ]
  },
  {
   "cell_type": "code",
   "execution_count": 136,
   "metadata": {},
   "outputs": [],
   "source": [
    "check_x = week2['train']\n",
    "check_y = week2['result']"
   ]
  },
  {
   "cell_type": "code",
   "execution_count": 145,
   "metadata": {},
   "outputs": [],
   "source": [
    "## create training and validation split \n",
    "split_size = int(0.8 * len(df))\n",
    "index_list = list(range(len(df)))\n",
    "train_idx, valid_idx = index_list[:split_size], index_list[split_size:]"
   ]
  },
  {
   "cell_type": "code",
   "execution_count": 137,
   "metadata": {},
   "outputs": [],
   "source": [
    "## ensure that all the data is actually text\n",
    "new_x_train = []\n",
    "for i in check_x:\n",
    "    new_x_train.append(str(i))\n",
    "    \n",
    "check_x = new_x_train\n",
    "\n",
    "\n",
    "## ensure that all the data is actually text\n",
    "new_y_train = []\n",
    "for i in check_y:\n",
    "    new_y_train.append(str(i))\n",
    "    \n",
    "check_y = new_y_train"
   ]
  },
  {
   "cell_type": "code",
   "execution_count": 138,
   "metadata": {},
   "outputs": [],
   "source": [
    "## convert texts to padded sequences \n",
    "check_x = tokenizer.texts_to_sequences(check_x)\n",
    "check_x = keras.preprocessing.sequence.pad_sequences(check_x, maxlen = 70)"
   ]
  },
  {
   "cell_type": "code",
   "execution_count": 139,
   "metadata": {},
   "outputs": [
    {
     "data": {
      "text/plain": [
       "13548"
      ]
     },
     "execution_count": 139,
     "metadata": {},
     "output_type": "execute_result"
    }
   ],
   "source": [
    "len(check_x)"
   ]
  },
  {
   "cell_type": "code",
   "execution_count": 140,
   "metadata": {},
   "outputs": [
    {
     "data": {
      "text/plain": [
       "13548"
      ]
     },
     "execution_count": 140,
     "metadata": {},
     "output_type": "execute_result"
    }
   ],
   "source": [
    "len(check_y)"
   ]
  },
  {
   "cell_type": "code",
   "execution_count": 143,
   "metadata": {},
   "outputs": [
    {
     "data": {
      "text/plain": [
       "13547"
      ]
     },
     "execution_count": 143,
     "metadata": {},
     "output_type": "execute_result"
    }
   ],
   "source": [
    "len(y_tr_prep)"
   ]
  },
  {
   "cell_type": "code",
   "execution_count": 146,
   "metadata": {},
   "outputs": [],
   "source": [
    "y_tr_prep = []\n",
    "for result in check_y:\n",
    "    i = 0\n",
    "    for type in df['result'].unique():\n",
    "        if(result == type):\n",
    "            y_tr_prep.append(i)\n",
    "        i+=1\n",
    "            \n",
    "            \n",
    "new_prep = []\n",
    "for i in train_idx:\n",
    "    new_prep.append(y_tr_prep[i])\n",
    "check_y = new_prep\n",
    "\n"
   ]
  },
  {
   "cell_type": "code",
   "execution_count": 92,
   "metadata": {},
   "outputs": [
    {
     "data": {
      "text/plain": [
       "13547"
      ]
     },
     "execution_count": 92,
     "metadata": {},
     "output_type": "execute_result"
    }
   ],
   "source": [
    "len(y_tr_prep)"
   ]
  },
  {
   "cell_type": "code",
   "execution_count": 151,
   "metadata": {},
   "outputs": [],
   "source": [
    "x_tr = torch.tensor(check_x[train_idx], dtype=torch.long)\n",
    "y_tr = torch.tensor(check_y, dtype=torch.float32)\n",
    "test = TensorDataset(x_tr, y_tr)\n",
    "testLoader = torch.utils.data.DataLoader(test, batch_size=1,sampler=torch.utils.data.sampler.WeightedRandomSampler(samples_weight, len(samples_weight)))\n"
   ]
  },
  {
   "cell_type": "code",
   "execution_count": 152,
   "metadata": {},
   "outputs": [
    {
     "name": "stdout",
     "output_type": "stream",
     "text": [
      "1874\n",
      "Model accuracy on 12890 train plays: 14.54%\n"
     ]
    }
   ],
   "source": [
    "total_correct = 0\n",
    "total_images = 0\n",
    "preds = np.empty((0,1))\n",
    "lebs = np.empty((0,1))\n",
    "confusion_matrix = np.zeros([len(df['result'].unique()),len(df['result'].unique())], int)\n",
    "with torch.no_grad():\n",
    "    for data in testLoader:\n",
    "        images, labels = data\n",
    "        outputs = model(images)\n",
    "        _, predicted = torch.max(outputs.data, 1)\n",
    "        total_images += labels.size(0)\n",
    "        total_correct += (predicted == labels.long()).sum().item()\n",
    "        preds = np.append(preds,predicted)\n",
    "        lebs = np.append(lebs,labels)\n",
    "        for i, l in enumerate(labels):\n",
    "            confusion_matrix[int(l.item()), predicted[i].item()] += 1 \n",
    "\n",
    "print(total_correct)\n",
    "model_accuracy = total_correct / total_images * 100\n",
    "print('Model accuracy on {0} train plays: {1:.2f}%'.format(total_images, model_accuracy))"
   ]
  },
  {
   "cell_type": "code",
   "execution_count": 154,
   "metadata": {},
   "outputs": [
    {
     "data": {
      "image/png": "[encoded data removed]",
      "text/plain": [
       "<Figure size 5760x1152 with 1 Axes>"
      ]
     },
     "metadata": {
      "needs_background": "light"
     },
     "output_type": "display_data"
    }
   ],
   "source": [
    "fig, ax = plt.subplots(1,1,figsize=(80,16))\n",
    "ax.matshow(confusion_matrix, aspect='auto', vmin=0, vmax=1000, cmap=plt.get_cmap('Blues'))\n",
    "plt.ylabel('Actual Category')\n",
    "plt.yticks(range(len(df['result'].unique())), df['result'].unique())\n",
    "plt.xlabel('Predicted Category')\n",
    "plt.xticks(range(len(df['result'].unique())), df['result'].unique())\n",
    "plt.show()"
   ]
  },
  {
   "cell_type": "code",
   "execution_count": null,
   "metadata": {},
   "outputs": [],
   "source": []
  }
 ],
 "metadata": {
  "kernelspec": {
   "display_name": "Python 3",
   "language": "python",
   "name": "python3"
  },
  "language_info": {
   "codemirror_mode": {
    "name": "ipython",
    "version": 3
   },
   "file_extension": ".py",
   "mimetype": "text/x-python",
   "name": "python",
   "nbconvert_exporter": "python",
   "pygments_lexer": "ipython3",
   "version": "3.7.4"
  }
 },
 "nbformat": 4,
 "nbformat_minor": 2
}
