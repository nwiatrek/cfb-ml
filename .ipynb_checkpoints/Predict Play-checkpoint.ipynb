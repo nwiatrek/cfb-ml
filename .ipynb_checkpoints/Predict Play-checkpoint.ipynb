{
 "cells": [
  {
   "cell_type": "code",
   "execution_count": 38,
   "metadata": {},
   "outputs": [],
   "source": [
    "from sklearn.metrics import accuracy_score\n",
    "import matplotlib.pyplot as plt\n",
    "from sklearn import ensemble\n",
    "import pandas as pd\n",
    "import numpy as np\n"
   ]
  },
  {
   "cell_type": "code",
   "execution_count": 137,
   "metadata": {},
   "outputs": [],
   "source": [
    "df = pd.read_csv('data/PBP - 2016 - Week 1.csv')\n",
    "df4 = pd.read_csv('./data/PBP - 2016 - Week 4.csv')\n",
    "df5 = pd.read_csv('./data/PBP - 2016 - Week 5.csv')\n",
    "df6 = pd.read_csv('./data/PBP - 2016 - Week 6.csv')\n",
    "df7 = pd.read_csv('./data/PBP - 2016 - Week 7.csv')\n",
    "df8 = pd.read_csv('./data/PBP - 2016 - Week 8.csv')\n",
    "df9 = pd.read_csv('./data/PBP - 2016 - Week 9.csv')\n",
    "df10 = pd.read_csv('./data/PBP - 2016 - Week 10.csv')\n",
    "df11 = pd.read_csv('./data/PBP - 2016 - Week 11.csv')\n",
    "df = pd.concat([df, df4, df5, df6, df7, df8, df9, df10, df11])\n",
    "df = df.dropna()\n",
    "# week2 = pd.read_csv('PBP - 2016 - Week 2.csv')\n",
    "\n",
    "# df = pd.concat([week1,week2],ignore_index=True)"
   ]
  },
  {
   "cell_type": "code",
   "execution_count": 138,
   "metadata": {},
   "outputs": [
    {
     "data": {
      "text/plain": [
       "array(['Kickoff', 'Timeout', 'Rush', 'Punt', 'Pass Reception', 'Penalty',\n",
       "       'Pass Incompletion', 'Rushing Touchdown', 'Field Goal Good',\n",
       "       'Passing Touchdown', 'Fumble Recovery (Own)', 'End Period', 'Sack',\n",
       "       'End of Half', 'Fumble Recovery (Opponent)', 'End of Game',\n",
       "       'Field Goal Missed', 'Safety', 'Pass Interception Return',\n",
       "       'Blocked Field Goal', 'Defensive 2pt Conversion',\n",
       "       'Kickoff Return (Offense)', 'Interception Return Touchdown',\n",
       "       'Kickoff Return Touchdown', 'Punt Return Touchdown',\n",
       "       'Blocked Punt', 'Fumble Return Touchdown',\n",
       "       'Missed Field Goal Return', 'Blocked Field Goal Touchdown',\n",
       "       'Blocked Punt Touchdown', 'Coin Toss'], dtype=object)"
      ]
     },
     "execution_count": 138,
     "metadata": {},
     "output_type": "execute_result"
    }
   ],
   "source": [
    "df['type'].unique()"
   ]
  },
  {
   "cell_type": "code",
   "execution_count": 139,
   "metadata": {},
   "outputs": [
    {
     "data": {
      "text/plain": [
       "array(['Kickoff', 'Timeout', 'Rush', 'Punt', 'Pass', 'Penalty',\n",
       "       'Field Goal Good', 'Fumble Recovery (Own)', 'End Period',\n",
       "       'End of Half', 'Fumble Recovery (Opponent)', 'End of Game',\n",
       "       'Field Goal Missed', 'Safety', 'Blocked Field Goal',\n",
       "       'Defensive 2pt Conversion', 'Kickoff Return (Offense)',\n",
       "       'Kickoff Return Touchdown', 'Punt Return Touchdown',\n",
       "       'Blocked Punt', 'Fumble Return Touchdown',\n",
       "       'Missed Field Goal Return', 'Blocked Field Goal Touchdown',\n",
       "       'Blocked Punt Touchdown', 'Coin Toss'], dtype=object)"
      ]
     },
     "execution_count": 139,
     "metadata": {},
     "output_type": "execute_result"
    }
   ],
   "source": [
    "df = df.replace('Pass Incompletion', 'Pass')\n",
    "df = df.replace('Pass Reception', 'Pass')\n",
    "df = df.replace('Passing Touchdown', 'Pass')\n",
    "df = df.replace('Rushing Touchdown', 'Rush')\n",
    "df = df.replace('Pass Interception Return', 'Pass')\n",
    "df = df.replace('Interception Return Touchdown', 'Pass')\n",
    "df = df.replace('Sack', 'Pass')\n",
    "df['type'].unique()"
   ]
  },
  {
   "cell_type": "code",
   "execution_count": 140,
   "metadata": {},
   "outputs": [
    {
     "data": {
      "text/html": [
       "<div>\n",
       "<style scoped>\n",
       "    .dataframe tbody tr th:only-of-type {\n",
       "        vertical-align: middle;\n",
       "    }\n",
       "\n",
       "    .dataframe tbody tr th {\n",
       "        vertical-align: top;\n",
       "    }\n",
       "\n",
       "    .dataframe thead th {\n",
       "        text-align: right;\n",
       "    }\n",
       "</style>\n",
       "<table border=\"1\" class=\"dataframe\">\n",
       "  <thead>\n",
       "    <tr style=\"text-align: right;\">\n",
       "      <th></th>\n",
       "      <th>gameId</th>\n",
       "      <th>year</th>\n",
       "      <th>week</th>\n",
       "      <th>homeId</th>\n",
       "      <th>homeTeam</th>\n",
       "      <th>homeAbbr</th>\n",
       "      <th>awayId</th>\n",
       "      <th>awayTeam</th>\n",
       "      <th>awayAbbr</th>\n",
       "      <th>driveIndex</th>\n",
       "      <th>...</th>\n",
       "      <th>quarter</th>\n",
       "      <th>clock</th>\n",
       "      <th>wallclock</th>\n",
       "      <th>type</th>\n",
       "      <th>down</th>\n",
       "      <th>distance</th>\n",
       "      <th>yardLine</th>\n",
       "      <th>yardsGained</th>\n",
       "      <th>endYardLine</th>\n",
       "      <th>description</th>\n",
       "    </tr>\n",
       "  </thead>\n",
       "  <tbody>\n",
       "    <tr>\n",
       "      <td>0</td>\n",
       "      <td>400868876</td>\n",
       "      <td>2016</td>\n",
       "      <td>1</td>\n",
       "      <td>239</td>\n",
       "      <td>Baylor</td>\n",
       "      <td>BAY</td>\n",
       "      <td>2466</td>\n",
       "      <td>Northwestern St</td>\n",
       "      <td>NWST</td>\n",
       "      <td>0</td>\n",
       "      <td>...</td>\n",
       "      <td>1</td>\n",
       "      <td>15:00</td>\n",
       "      <td>2016-09-03T06:36:41Z</td>\n",
       "      <td>Kickoff</td>\n",
       "      <td>1</td>\n",
       "      <td>10</td>\n",
       "      <td>35</td>\n",
       "      <td>10</td>\n",
       "      <td>86</td>\n",
       "      <td>Drew Galitz kickoff for 61 yds , Shakeir Ryan ...</td>\n",
       "    </tr>\n",
       "    <tr>\n",
       "      <td>1</td>\n",
       "      <td>400868876</td>\n",
       "      <td>2016</td>\n",
       "      <td>1</td>\n",
       "      <td>239</td>\n",
       "      <td>Baylor</td>\n",
       "      <td>BAY</td>\n",
       "      <td>2466</td>\n",
       "      <td>Northwestern St</td>\n",
       "      <td>NWST</td>\n",
       "      <td>0</td>\n",
       "      <td>...</td>\n",
       "      <td>1</td>\n",
       "      <td>14:55</td>\n",
       "      <td>2016-09-03T06:38:11Z</td>\n",
       "      <td>Timeout</td>\n",
       "      <td>1</td>\n",
       "      <td>10</td>\n",
       "      <td>86</td>\n",
       "      <td>0</td>\n",
       "      <td>86</td>\n",
       "      <td>Timeout NORTHWESTERN ST, clock 14:55</td>\n",
       "    </tr>\n",
       "    <tr>\n",
       "      <td>2</td>\n",
       "      <td>400868876</td>\n",
       "      <td>2016</td>\n",
       "      <td>1</td>\n",
       "      <td>239</td>\n",
       "      <td>Baylor</td>\n",
       "      <td>BAY</td>\n",
       "      <td>2466</td>\n",
       "      <td>Northwestern St</td>\n",
       "      <td>NWST</td>\n",
       "      <td>0</td>\n",
       "      <td>...</td>\n",
       "      <td>1</td>\n",
       "      <td>14:55</td>\n",
       "      <td>2016-09-03T06:38:11Z</td>\n",
       "      <td>Rush</td>\n",
       "      <td>1</td>\n",
       "      <td>10</td>\n",
       "      <td>86</td>\n",
       "      <td>-1</td>\n",
       "      <td>87</td>\n",
       "      <td>De'Mard Llorens run for a loss of 1 yard to th...</td>\n",
       "    </tr>\n",
       "    <tr>\n",
       "      <td>3</td>\n",
       "      <td>400868876</td>\n",
       "      <td>2016</td>\n",
       "      <td>1</td>\n",
       "      <td>239</td>\n",
       "      <td>Baylor</td>\n",
       "      <td>BAY</td>\n",
       "      <td>2466</td>\n",
       "      <td>Northwestern St</td>\n",
       "      <td>NWST</td>\n",
       "      <td>0</td>\n",
       "      <td>...</td>\n",
       "      <td>1</td>\n",
       "      <td>14:55</td>\n",
       "      <td>2016-09-03T06:38:11Z</td>\n",
       "      <td>Rush</td>\n",
       "      <td>2</td>\n",
       "      <td>11</td>\n",
       "      <td>87</td>\n",
       "      <td>8</td>\n",
       "      <td>79</td>\n",
       "      <td>De'Mard Llorens run for 8 yds to the NWSt 21</td>\n",
       "    </tr>\n",
       "    <tr>\n",
       "      <td>4</td>\n",
       "      <td>400868876</td>\n",
       "      <td>2016</td>\n",
       "      <td>1</td>\n",
       "      <td>239</td>\n",
       "      <td>Baylor</td>\n",
       "      <td>BAY</td>\n",
       "      <td>2466</td>\n",
       "      <td>Northwestern St</td>\n",
       "      <td>NWST</td>\n",
       "      <td>0</td>\n",
       "      <td>...</td>\n",
       "      <td>1</td>\n",
       "      <td>14:55</td>\n",
       "      <td>2016-09-03T06:38:11Z</td>\n",
       "      <td>Rush</td>\n",
       "      <td>3</td>\n",
       "      <td>3</td>\n",
       "      <td>79</td>\n",
       "      <td>0</td>\n",
       "      <td>79</td>\n",
       "      <td>De'Mard Llorens run for no gain to the NWSt 21</td>\n",
       "    </tr>\n",
       "    <tr>\n",
       "      <td>...</td>\n",
       "      <td>...</td>\n",
       "      <td>...</td>\n",
       "      <td>...</td>\n",
       "      <td>...</td>\n",
       "      <td>...</td>\n",
       "      <td>...</td>\n",
       "      <td>...</td>\n",
       "      <td>...</td>\n",
       "      <td>...</td>\n",
       "      <td>...</td>\n",
       "      <td>...</td>\n",
       "      <td>...</td>\n",
       "      <td>...</td>\n",
       "      <td>...</td>\n",
       "      <td>...</td>\n",
       "      <td>...</td>\n",
       "      <td>...</td>\n",
       "      <td>...</td>\n",
       "      <td>...</td>\n",
       "      <td>...</td>\n",
       "      <td>...</td>\n",
       "    </tr>\n",
       "    <tr>\n",
       "      <td>10385</td>\n",
       "      <td>400869846</td>\n",
       "      <td>2016</td>\n",
       "      <td>11</td>\n",
       "      <td>326</td>\n",
       "      <td>Texas State</td>\n",
       "      <td>TXST</td>\n",
       "      <td>70</td>\n",
       "      <td>Idaho</td>\n",
       "      <td>IDHO</td>\n",
       "      <td>24</td>\n",
       "      <td>...</td>\n",
       "      <td>4</td>\n",
       "      <td>1:50</td>\n",
       "      <td>2016-11-13T08:08:50Z</td>\n",
       "      <td>Punt</td>\n",
       "      <td>4</td>\n",
       "      <td>8</td>\n",
       "      <td>51</td>\n",
       "      <td>0</td>\n",
       "      <td>83</td>\n",
       "      <td>Lumi Kaba punt for 32 yds, fair catch by Alfon...</td>\n",
       "    </tr>\n",
       "    <tr>\n",
       "      <td>10386</td>\n",
       "      <td>400869846</td>\n",
       "      <td>2016</td>\n",
       "      <td>11</td>\n",
       "      <td>326</td>\n",
       "      <td>Texas State</td>\n",
       "      <td>TXST</td>\n",
       "      <td>70</td>\n",
       "      <td>Idaho</td>\n",
       "      <td>IDHO</td>\n",
       "      <td>25</td>\n",
       "      <td>...</td>\n",
       "      <td>4</td>\n",
       "      <td>1:42</td>\n",
       "      <td>2016-11-13T08:11:05Z</td>\n",
       "      <td>Rush</td>\n",
       "      <td>1</td>\n",
       "      <td>10</td>\n",
       "      <td>83</td>\n",
       "      <td>2</td>\n",
       "      <td>81</td>\n",
       "      <td>Doug Coman run for 2 yds to the Idaho 19</td>\n",
       "    </tr>\n",
       "    <tr>\n",
       "      <td>10387</td>\n",
       "      <td>400869846</td>\n",
       "      <td>2016</td>\n",
       "      <td>11</td>\n",
       "      <td>326</td>\n",
       "      <td>Texas State</td>\n",
       "      <td>TXST</td>\n",
       "      <td>70</td>\n",
       "      <td>Idaho</td>\n",
       "      <td>IDHO</td>\n",
       "      <td>25</td>\n",
       "      <td>...</td>\n",
       "      <td>4</td>\n",
       "      <td>1:42</td>\n",
       "      <td>2016-11-13T08:11:05Z</td>\n",
       "      <td>Rush</td>\n",
       "      <td>2</td>\n",
       "      <td>8</td>\n",
       "      <td>81</td>\n",
       "      <td>2</td>\n",
       "      <td>79</td>\n",
       "      <td>Gunnar Amos run for 2 yds to the Idaho 21</td>\n",
       "    </tr>\n",
       "    <tr>\n",
       "      <td>10388</td>\n",
       "      <td>400869846</td>\n",
       "      <td>2016</td>\n",
       "      <td>11</td>\n",
       "      <td>326</td>\n",
       "      <td>Texas State</td>\n",
       "      <td>TXST</td>\n",
       "      <td>70</td>\n",
       "      <td>Idaho</td>\n",
       "      <td>IDHO</td>\n",
       "      <td>25</td>\n",
       "      <td>...</td>\n",
       "      <td>4</td>\n",
       "      <td>1:42</td>\n",
       "      <td>2016-11-13T08:11:05Z</td>\n",
       "      <td>Penalty</td>\n",
       "      <td>3</td>\n",
       "      <td>6</td>\n",
       "      <td>79</td>\n",
       "      <td>-5</td>\n",
       "      <td>84</td>\n",
       "      <td>IDAHO Penalty, delay of game (Gunnar Amos) to ...</td>\n",
       "    </tr>\n",
       "    <tr>\n",
       "      <td>10389</td>\n",
       "      <td>400869846</td>\n",
       "      <td>2016</td>\n",
       "      <td>11</td>\n",
       "      <td>326</td>\n",
       "      <td>Texas State</td>\n",
       "      <td>TXST</td>\n",
       "      <td>70</td>\n",
       "      <td>Idaho</td>\n",
       "      <td>IDHO</td>\n",
       "      <td>25</td>\n",
       "      <td>...</td>\n",
       "      <td>4</td>\n",
       "      <td>0:00</td>\n",
       "      <td>2016-11-13T08:13:05Z</td>\n",
       "      <td>End of Game</td>\n",
       "      <td>0</td>\n",
       "      <td>11</td>\n",
       "      <td>0</td>\n",
       "      <td>0</td>\n",
       "      <td>84</td>\n",
       "      <td>End of 4th Quarter</td>\n",
       "    </tr>\n",
       "  </tbody>\n",
       "</table>\n",
       "<p>99605 rows × 29 columns</p>\n",
       "</div>"
      ],
      "text/plain": [
       "          gameId  year  week  homeId     homeTeam homeAbbr  awayId  \\\n",
       "0      400868876  2016     1     239       Baylor      BAY    2466   \n",
       "1      400868876  2016     1     239       Baylor      BAY    2466   \n",
       "2      400868876  2016     1     239       Baylor      BAY    2466   \n",
       "3      400868876  2016     1     239       Baylor      BAY    2466   \n",
       "4      400868876  2016     1     239       Baylor      BAY    2466   \n",
       "...          ...   ...   ...     ...          ...      ...     ...   \n",
       "10385  400869846  2016    11     326  Texas State     TXST      70   \n",
       "10386  400869846  2016    11     326  Texas State     TXST      70   \n",
       "10387  400869846  2016    11     326  Texas State     TXST      70   \n",
       "10388  400869846  2016    11     326  Texas State     TXST      70   \n",
       "10389  400869846  2016    11     326  Texas State     TXST      70   \n",
       "\n",
       "              awayTeam awayAbbr  driveIndex  ...  quarter  clock  \\\n",
       "0      Northwestern St     NWST           0  ...        1  15:00   \n",
       "1      Northwestern St     NWST           0  ...        1  14:55   \n",
       "2      Northwestern St     NWST           0  ...        1  14:55   \n",
       "3      Northwestern St     NWST           0  ...        1  14:55   \n",
       "4      Northwestern St     NWST           0  ...        1  14:55   \n",
       "...                ...      ...         ...  ...      ...    ...   \n",
       "10385            Idaho     IDHO          24  ...        4   1:50   \n",
       "10386            Idaho     IDHO          25  ...        4   1:42   \n",
       "10387            Idaho     IDHO          25  ...        4   1:42   \n",
       "10388            Idaho     IDHO          25  ...        4   1:42   \n",
       "10389            Idaho     IDHO          25  ...        4   0:00   \n",
       "\n",
       "                  wallclock         type  down distance yardLine  yardsGained  \\\n",
       "0      2016-09-03T06:36:41Z      Kickoff     1       10       35           10   \n",
       "1      2016-09-03T06:38:11Z      Timeout     1       10       86            0   \n",
       "2      2016-09-03T06:38:11Z         Rush     1       10       86           -1   \n",
       "3      2016-09-03T06:38:11Z         Rush     2       11       87            8   \n",
       "4      2016-09-03T06:38:11Z         Rush     3        3       79            0   \n",
       "...                     ...          ...   ...      ...      ...          ...   \n",
       "10385  2016-11-13T08:08:50Z         Punt     4        8       51            0   \n",
       "10386  2016-11-13T08:11:05Z         Rush     1       10       83            2   \n",
       "10387  2016-11-13T08:11:05Z         Rush     2        8       81            2   \n",
       "10388  2016-11-13T08:11:05Z      Penalty     3        6       79           -5   \n",
       "10389  2016-11-13T08:13:05Z  End of Game     0       11        0            0   \n",
       "\n",
       "       endYardLine                                        description  \n",
       "0               86  Drew Galitz kickoff for 61 yds , Shakeir Ryan ...  \n",
       "1               86               Timeout NORTHWESTERN ST, clock 14:55  \n",
       "2               87  De'Mard Llorens run for a loss of 1 yard to th...  \n",
       "3               79       De'Mard Llorens run for 8 yds to the NWSt 21  \n",
       "4               79     De'Mard Llorens run for no gain to the NWSt 21  \n",
       "...            ...                                                ...  \n",
       "10385           83  Lumi Kaba punt for 32 yds, fair catch by Alfon...  \n",
       "10386           81           Doug Coman run for 2 yds to the Idaho 19  \n",
       "10387           79          Gunnar Amos run for 2 yds to the Idaho 21  \n",
       "10388           84  IDAHO Penalty, delay of game (Gunnar Amos) to ...  \n",
       "10389           84                                 End of 4th Quarter  \n",
       "\n",
       "[99605 rows x 29 columns]"
      ]
     },
     "execution_count": 140,
     "metadata": {},
     "output_type": "execute_result"
    }
   ],
   "source": [
    "df"
   ]
  },
  {
   "cell_type": "code",
   "execution_count": 141,
   "metadata": {},
   "outputs": [],
   "source": [
    "new_df = df[['quarter', 'down', 'distance', 'yardLine', 'clock', 'type']]"
   ]
  },
  {
   "cell_type": "code",
   "execution_count": 142,
   "metadata": {},
   "outputs": [],
   "source": [
    "def seconds_left_in_quarter(clock):\n",
    "    clock = clock.split(':')\n",
    "    clock = (int(clock[0])*60) + int(clock[1])\n",
    "    return clock"
   ]
  },
  {
   "cell_type": "code",
   "execution_count": 143,
   "metadata": {},
   "outputs": [
    {
     "data": {
      "text/plain": [
       "920"
      ]
     },
     "execution_count": 143,
     "metadata": {},
     "output_type": "execute_result"
    }
   ],
   "source": [
    "seconds_left_in_quarter('15:20')"
   ]
  },
  {
   "cell_type": "code",
   "execution_count": 144,
   "metadata": {},
   "outputs": [],
   "source": [
    "for index,row in new_df.iterrows():\n",
    "    new_df.at[index,'clock'] = seconds_left_in_quarter(row['clock'])"
   ]
  },
  {
   "cell_type": "code",
   "execution_count": 145,
   "metadata": {},
   "outputs": [
    {
     "data": {
      "text/html": [
       "<div>\n",
       "<style scoped>\n",
       "    .dataframe tbody tr th:only-of-type {\n",
       "        vertical-align: middle;\n",
       "    }\n",
       "\n",
       "    .dataframe tbody tr th {\n",
       "        vertical-align: top;\n",
       "    }\n",
       "\n",
       "    .dataframe thead th {\n",
       "        text-align: right;\n",
       "    }\n",
       "</style>\n",
       "<table border=\"1\" class=\"dataframe\">\n",
       "  <thead>\n",
       "    <tr style=\"text-align: right;\">\n",
       "      <th></th>\n",
       "      <th>quarter</th>\n",
       "      <th>down</th>\n",
       "      <th>distance</th>\n",
       "      <th>yardLine</th>\n",
       "      <th>clock</th>\n",
       "      <th>type</th>\n",
       "    </tr>\n",
       "  </thead>\n",
       "  <tbody>\n",
       "    <tr>\n",
       "      <td>0</td>\n",
       "      <td>1</td>\n",
       "      <td>1</td>\n",
       "      <td>10</td>\n",
       "      <td>35</td>\n",
       "      <td>900</td>\n",
       "      <td>Kickoff</td>\n",
       "    </tr>\n",
       "    <tr>\n",
       "      <td>1</td>\n",
       "      <td>1</td>\n",
       "      <td>1</td>\n",
       "      <td>10</td>\n",
       "      <td>86</td>\n",
       "      <td>885</td>\n",
       "      <td>Timeout</td>\n",
       "    </tr>\n",
       "    <tr>\n",
       "      <td>2</td>\n",
       "      <td>1</td>\n",
       "      <td>1</td>\n",
       "      <td>10</td>\n",
       "      <td>86</td>\n",
       "      <td>843</td>\n",
       "      <td>Rush</td>\n",
       "    </tr>\n",
       "    <tr>\n",
       "      <td>3</td>\n",
       "      <td>1</td>\n",
       "      <td>2</td>\n",
       "      <td>11</td>\n",
       "      <td>87</td>\n",
       "      <td>807</td>\n",
       "      <td>Rush</td>\n",
       "    </tr>\n",
       "    <tr>\n",
       "      <td>4</td>\n",
       "      <td>1</td>\n",
       "      <td>3</td>\n",
       "      <td>3</td>\n",
       "      <td>79</td>\n",
       "      <td>800</td>\n",
       "      <td>Rush</td>\n",
       "    </tr>\n",
       "    <tr>\n",
       "      <td>...</td>\n",
       "      <td>...</td>\n",
       "      <td>...</td>\n",
       "      <td>...</td>\n",
       "      <td>...</td>\n",
       "      <td>...</td>\n",
       "      <td>...</td>\n",
       "    </tr>\n",
       "    <tr>\n",
       "      <td>10385</td>\n",
       "      <td>4</td>\n",
       "      <td>4</td>\n",
       "      <td>8</td>\n",
       "      <td>51</td>\n",
       "      <td>110</td>\n",
       "      <td>Punt</td>\n",
       "    </tr>\n",
       "    <tr>\n",
       "      <td>10386</td>\n",
       "      <td>4</td>\n",
       "      <td>1</td>\n",
       "      <td>10</td>\n",
       "      <td>83</td>\n",
       "      <td>102</td>\n",
       "      <td>Rush</td>\n",
       "    </tr>\n",
       "    <tr>\n",
       "      <td>10387</td>\n",
       "      <td>4</td>\n",
       "      <td>2</td>\n",
       "      <td>8</td>\n",
       "      <td>81</td>\n",
       "      <td>102</td>\n",
       "      <td>Rush</td>\n",
       "    </tr>\n",
       "    <tr>\n",
       "      <td>10388</td>\n",
       "      <td>4</td>\n",
       "      <td>3</td>\n",
       "      <td>6</td>\n",
       "      <td>79</td>\n",
       "      <td>102</td>\n",
       "      <td>Penalty</td>\n",
       "    </tr>\n",
       "    <tr>\n",
       "      <td>10389</td>\n",
       "      <td>4</td>\n",
       "      <td>0</td>\n",
       "      <td>11</td>\n",
       "      <td>0</td>\n",
       "      <td>0</td>\n",
       "      <td>End of Game</td>\n",
       "    </tr>\n",
       "  </tbody>\n",
       "</table>\n",
       "<p>99605 rows × 6 columns</p>\n",
       "</div>"
      ],
      "text/plain": [
       "       quarter  down  distance  yardLine clock         type\n",
       "0            1     1        10        35   900      Kickoff\n",
       "1            1     1        10        86   885      Timeout\n",
       "2            1     1        10        86   843         Rush\n",
       "3            1     2        11        87   807         Rush\n",
       "4            1     3         3        79   800         Rush\n",
       "...        ...   ...       ...       ...   ...          ...\n",
       "10385        4     4         8        51   110         Punt\n",
       "10386        4     1        10        83   102         Rush\n",
       "10387        4     2         8        81   102         Rush\n",
       "10388        4     3         6        79   102      Penalty\n",
       "10389        4     0        11         0     0  End of Game\n",
       "\n",
       "[99605 rows x 6 columns]"
      ]
     },
     "execution_count": 145,
     "metadata": {},
     "output_type": "execute_result"
    }
   ],
   "source": [
    "new_df"
   ]
  },
  {
   "cell_type": "code",
   "execution_count": 146,
   "metadata": {},
   "outputs": [],
   "source": [
    "new_df = new_df[(new_df.type == 'Pass') | (new_df.type == 'Rush')]"
   ]
  },
  {
   "cell_type": "code",
   "execution_count": 147,
   "metadata": {},
   "outputs": [
    {
     "data": {
      "image/png": "[encoded data removed]",
      "text/plain": [
       "<Figure size 432x288 with 1 Axes>"
      ]
     },
     "metadata": {},
     "output_type": "display_data"
    }
   ],
   "source": [
    "rel_freq = new_df['type'].value_counts()\n",
    "\n",
    "plt.pie(rel_freq, labels = ('Rush', 'Pass'), autopct='%.2f%%')\n",
    "plt.title(\"Week 1 play-type\")\n",
    "plt.subplots_adjust(left=0, bottom=0, right=1, top=1, wspace=0, hspace=0)\n",
    "plt.show()"
   ]
  },
  {
   "cell_type": "code",
   "execution_count": 148,
   "metadata": {},
   "outputs": [],
   "source": [
    "training_features = new_df[['quarter','down','distance','yardLine', 'clock']]\n",
    "\n",
    "training_label = new_df['type']\n"
   ]
  },
  {
   "cell_type": "code",
   "execution_count": 149,
   "metadata": {},
   "outputs": [
    {
     "data": {
      "text/plain": [
       "GradientBoostingClassifier(criterion='friedman_mse', init=None,\n",
       "                           learning_rate=0.005, loss='deviance', max_depth=3,\n",
       "                           max_features=None, max_leaf_nodes=None,\n",
       "                           min_impurity_decrease=0.0, min_impurity_split=None,\n",
       "                           min_samples_leaf=1, min_samples_split=2,\n",
       "                           min_weight_fraction_leaf=0.0, n_estimators=200,\n",
       "                           n_iter_no_change=None, presort='auto',\n",
       "                           random_state=None, subsample=1.0, tol=0.0001,\n",
       "                           validation_fraction=0.1, verbose=0,\n",
       "                           warm_start=False)"
      ]
     },
     "execution_count": 149,
     "metadata": {},
     "output_type": "execute_result"
    }
   ],
   "source": [
    "gbr = ensemble.GradientBoostingClassifier(n_estimators = 200, learning_rate = 0.005)\n",
    "\n",
    "gbr.fit(training_features, training_label)"
   ]
  },
  {
   "cell_type": "code",
   "execution_count": 150,
   "metadata": {},
   "outputs": [
    {
     "name": "stdout",
     "output_type": "stream",
     "text": [
      "Accuracy: 61.91%\n"
     ]
    }
   ],
   "source": [
    "prediction = gbr.predict(training_features)\n",
    "\n",
    "accuracy = accuracy_score(training_label, prediction)\n",
    "\n",
    "print(\"Accuracy: \"+\"{:.2%}\".format(accuracy))"
   ]
  },
  {
   "cell_type": "code",
   "execution_count": 152,
   "metadata": {},
   "outputs": [
    {
     "data": {
      "image/png": "[encoded data removed]",
      "text/plain": [
       "<Figure size 432x288 with 1 Axes>"
      ]
     },
     "metadata": {
      "needs_background": "light"
     },
     "output_type": "display_data"
    }
   ],
   "source": [
    "features = ['quarter', 'down', 'distance', 'yard line', 'clock']\n",
    "feature_importance = gbr.feature_importances_.tolist()\n",
    "\n",
    "plt.bar(features,feature_importance)\n",
    "plt.title(\"gradient boosting classifier: feature importance\")\n",
    "plt.show()"
   ]
  },
  {
   "cell_type": "markdown",
   "metadata": {},
   "source": [
    "## Testing with week 2"
   ]
  },
  {
   "cell_type": "code",
   "execution_count": 153,
   "metadata": {},
   "outputs": [],
   "source": [
    "def make_new_validation(df):\n",
    "    df = df.replace('Pass Incompletion', 'Pass')\n",
    "    df = df.replace('Pass Reception', 'Pass')\n",
    "    df = df.replace('Passing Touchdown', 'Pass')\n",
    "    df = df.replace('Rushing Touchdown', 'Rush')\n",
    "    df = df.replace('Sack', 'Pass')\n",
    "    for index,row in df.iterrows():\n",
    "        df.at[index,'clock'] = seconds_left_in_quarter(row['clock'])\n",
    "    new_df = df[['quarter', 'down', 'distance', 'yardLine', 'clock', 'type']]\n",
    "    new_df = new_df[(new_df.type == 'Pass') | (new_df.type == 'Rush')]\n",
    "    features = new_df[['quarter','down','distance','yardLine', 'clock']]\n",
    "    labels = new_df['type']\n",
    "    return features, labels\n",
    "    "
   ]
  },
  {
   "cell_type": "code",
   "execution_count": 154,
   "metadata": {},
   "outputs": [],
   "source": [
    "week2 = pd.read_csv('data/PBP - 2016 - Week 2.csv')\n",
    "week2_features, week2_labels = make_new_validation(week2)"
   ]
  },
  {
   "cell_type": "code",
   "execution_count": 155,
   "metadata": {},
   "outputs": [
    {
     "name": "stdout",
     "output_type": "stream",
     "text": [
      "Accuracy: 61.94%\n"
     ]
    }
   ],
   "source": [
    "prediction = gbr.predict(week2_features)\n",
    "\n",
    "accuracy = accuracy_score(week2_labels, prediction)\n",
    "\n",
    "print(\"Accuracy: \"+\"{:.2%}\".format(accuracy))"
   ]
  },
  {
   "cell_type": "code",
   "execution_count": 156,
   "metadata": {},
   "outputs": [],
   "source": [
    "week3 = pd.read_csv('data/PBP - 2016 - Week 3.csv')\n",
    "week3_features, week3_labels = make_new_validation(week3)"
   ]
  },
  {
   "cell_type": "code",
   "execution_count": 157,
   "metadata": {},
   "outputs": [
    {
     "name": "stdout",
     "output_type": "stream",
     "text": [
      "Accuracy: 62.51%\n"
     ]
    }
   ],
   "source": [
    "prediction = gbr.predict(week3_features)\n",
    "\n",
    "accuracy = accuracy_score(week3_labels, prediction)\n",
    "\n",
    "print(\"Accuracy: \"+\"{:.2%}\".format(accuracy))\n"
   ]
  },
  {
   "cell_type": "code",
   "execution_count": 158,
   "metadata": {},
   "outputs": [
    {
     "data": {
      "text/plain": [
       "array(['Pass', 'Rush'], dtype=object)"
      ]
     },
     "execution_count": 158,
     "metadata": {},
     "output_type": "execute_result"
    }
   ],
   "source": [
    "np.unique(prediction)"
   ]
  },
  {
   "cell_type": "code",
   "execution_count": 159,
   "metadata": {},
   "outputs": [],
   "source": [
    "new_pred = np.where(prediction=='Rush', False, prediction) \n",
    "new_pred = np.where(new_pred=='Pass', True, new_pred) \n",
    "\n",
    "new_leb = np.where(week3_labels=='Pass', True, week3_labels) \n",
    "new_leb = np.where(new_leb=='Rush', False, new_leb) "
   ]
  },
  {
   "cell_type": "code",
   "execution_count": 160,
   "metadata": {},
   "outputs": [
    {
     "data": {
      "text/plain": [
       "array([False, False,  True, ..., False, False,  True])"
      ]
     },
     "execution_count": 160,
     "metadata": {},
     "output_type": "execute_result"
    }
   ],
   "source": [
    "new_pred.astype('bool')"
   ]
  },
  {
   "cell_type": "code",
   "execution_count": 161,
   "metadata": {},
   "outputs": [
    {
     "data": {
      "text/plain": [
       "0.6082527014007376"
      ]
     },
     "execution_count": 161,
     "metadata": {},
     "output_type": "execute_result"
    }
   ],
   "source": [
    "from sklearn.metrics import roc_auc_score\n",
    "roc_auc_score(new_leb.astype('bool'), new_pred.astype('bool'))"
   ]
  },
  {
   "cell_type": "code",
   "execution_count": 37,
   "metadata": {},
   "outputs": [],
   "source": [
    "import pickle\n",
    "filename = 'models/predict_play.sav'\n",
    "pickle.dump(gbr, open(filename, 'wb'))"
   ]
  },
  {
   "cell_type": "markdown",
   "metadata": {},
   "source": [
    "## Trying with adding in offense stats"
   ]
  },
  {
   "cell_type": "code",
   "execution_count": 115,
   "metadata": {},
   "outputs": [],
   "source": [
    "offense_stats = pd.read_csv('./data/Offense Stats 2016.csv')"
   ]
  },
  {
   "cell_type": "code",
   "execution_count": 116,
   "metadata": {},
   "outputs": [],
   "source": [
    "df = df.join(offense_stats.set_index('School'), on='homeTeam')\n",
    "df = df.dropna()"
   ]
  },
  {
   "cell_type": "code",
   "execution_count": 118,
   "metadata": {},
   "outputs": [],
   "source": [
    "df = df.query('homeTeam == offenseTeam')"
   ]
  },
  {
   "cell_type": "code",
   "execution_count": 120,
   "metadata": {},
   "outputs": [],
   "source": [
    "df = df[(df.type == 'Pass') | (df.type == 'Rush')]"
   ]
  },
  {
   "cell_type": "code",
   "execution_count": 121,
   "metadata": {},
   "outputs": [],
   "source": [
    "big_features = df[['quarter','down','distance','yardLine','Passing Completion', 'Pass Attemps',\n",
    "       'completion percentage', 'passing yards', 'Passing Touchdowns',\n",
    "       'Rush Attempts', 'Rushing yards', 'rush average', 'Rush Touchdowns',\n",
    "       'First down by pass', 'First down by rush']]\n",
    "\n",
    "big_labels = df['type']\n"
   ]
  },
  {
   "cell_type": "code",
   "execution_count": null,
   "metadata": {},
   "outputs": [],
   "source": []
  },
  {
   "cell_type": "code",
   "execution_count": null,
   "metadata": {},
   "outputs": [],
   "source": []
  },
  {
   "cell_type": "code",
   "execution_count": 122,
   "metadata": {},
   "outputs": [
    {
     "data": {
      "text/plain": [
       "GradientBoostingClassifier(criterion='friedman_mse', init=None,\n",
       "                           learning_rate=0.005, loss='deviance', max_depth=3,\n",
       "                           max_features=None, max_leaf_nodes=None,\n",
       "                           min_impurity_decrease=0.0, min_impurity_split=None,\n",
       "                           min_samples_leaf=1, min_samples_split=2,\n",
       "                           min_weight_fraction_leaf=0.0, n_estimators=200,\n",
       "                           n_iter_no_change=None, presort='auto',\n",
       "                           random_state=None, subsample=1.0, tol=0.0001,\n",
       "                           validation_fraction=0.1, verbose=0,\n",
       "                           warm_start=False)"
      ]
     },
     "execution_count": 122,
     "metadata": {},
     "output_type": "execute_result"
    }
   ],
   "source": [
    "gbr = ensemble.GradientBoostingClassifier(n_estimators = 200, learning_rate = 0.005)\n",
    "\n",
    "gbr.fit(big_features, big_labels)"
   ]
  },
  {
   "cell_type": "code",
   "execution_count": 123,
   "metadata": {},
   "outputs": [
    {
     "name": "stdout",
     "output_type": "stream",
     "text": [
      "Accuracy: 63.70%\n"
     ]
    }
   ],
   "source": [
    "prediction = gbr.predict(big_features)\n",
    "\n",
    "accuracy = accuracy_score(big_labels, prediction)\n",
    "\n",
    "print(\"Accuracy: \"+\"{:.2%}\".format(accuracy))"
   ]
  },
  {
   "cell_type": "code",
   "execution_count": 129,
   "metadata": {},
   "outputs": [],
   "source": [
    "def make_new_validation_2(df):\n",
    "    offense_stats = pd.read_csv('./data/Offense Stats 2016.csv')\n",
    "    df = df.join(offense_stats.set_index('School'), on='homeTeam')\n",
    "    df = df.dropna()\n",
    "    df = df.replace('Pass Incompletion', 'Pass')\n",
    "    df = df.replace('Pass Reception', 'Pass')\n",
    "    df = df.replace('Passing Touchdown', 'Pass')\n",
    "    df = df.replace('Rushing Touchdown', 'Rush')\n",
    "    df = df.replace('Sack', 'Pass')\n",
    "    \n",
    "    new_df = df[['quarter','down','distance','yardLine','Passing Completion', 'Pass Attemps',\n",
    "       'completion percentage', 'passing yards', 'Passing Touchdowns',\n",
    "       'Rush Attempts', 'Rushing yards', 'rush average', 'Rush Touchdowns',\n",
    "       'First down by pass', 'First down by rush', 'type']]\n",
    "    new_df = new_df[(new_df.type == 'Pass') | (new_df.type == 'Rush')]\n",
    "    features = new_df[['quarter','down','distance','yardLine','Passing Completion', 'Pass Attemps',\n",
    "       'completion percentage', 'passing yards', 'Passing Touchdowns',\n",
    "       'Rush Attempts', 'Rushing yards', 'rush average', 'Rush Touchdowns',\n",
    "       'First down by pass', 'First down by rush']]\n",
    "    labels = new_df['type']\n",
    "    return features, labels"
   ]
  },
  {
   "cell_type": "code",
   "execution_count": 130,
   "metadata": {},
   "outputs": [],
   "source": [
    "week2 = pd.read_csv('data/PBP - 2016 - Week 2.csv')\n",
    "week2_features, week2_labels = make_new_validation_2(week2)"
   ]
  },
  {
   "cell_type": "code",
   "execution_count": 131,
   "metadata": {},
   "outputs": [
    {
     "name": "stdout",
     "output_type": "stream",
     "text": [
      "Accuracy: 60.56%\n"
     ]
    }
   ],
   "source": [
    "prediction = gbr.predict(week2_features)\n",
    "\n",
    "accuracy = accuracy_score(week2_labels, prediction)\n",
    "\n",
    "print(\"Accuracy: \"+\"{:.2%}\".format(accuracy))"
   ]
  },
  {
   "cell_type": "code",
   "execution_count": 133,
   "metadata": {},
   "outputs": [],
   "source": [
    "new_pred = np.where(prediction=='Rush', False, prediction) \n",
    "new_pred = np.where(new_pred=='Pass', True, new_pred) \n",
    "\n",
    "new_leb = np.where(week2_labels=='Pass', True, week2_labels) \n",
    "new_leb = np.where(new_leb=='Rush', False, new_leb) "
   ]
  },
  {
   "cell_type": "code",
   "execution_count": 134,
   "metadata": {},
   "outputs": [
    {
     "data": {
      "text/plain": [
       "array([False, False, False, ..., False, False, False])"
      ]
     },
     "execution_count": 134,
     "metadata": {},
     "output_type": "execute_result"
    }
   ],
   "source": [
    "new_pred.astype('bool')"
   ]
  },
  {
   "cell_type": "code",
   "execution_count": 135,
   "metadata": {},
   "outputs": [
    {
     "data": {
      "text/plain": [
       "0.5872603228372458"
      ]
     },
     "execution_count": 135,
     "metadata": {},
     "output_type": "execute_result"
    }
   ],
   "source": [
    "roc_auc_score(new_leb.astype('bool'), new_pred.astype('bool'))"
   ]
  },
  {
   "cell_type": "code",
   "execution_count": null,
   "metadata": {},
   "outputs": [],
   "source": []
  }
 ],
 "metadata": {
  "kernelspec": {
   "display_name": "Python 3",
   "language": "python",
   "name": "python3"
  },
  "language_info": {
   "codemirror_mode": {
    "name": "ipython",
    "version": 3
   },
   "file_extension": ".py",
   "mimetype": "text/x-python",
   "name": "python",
   "nbconvert_exporter": "python",
   "pygments_lexer": "ipython3",
   "version": "3.7.4"
  }
 },
 "nbformat": 4,
 "nbformat_minor": 2
}
