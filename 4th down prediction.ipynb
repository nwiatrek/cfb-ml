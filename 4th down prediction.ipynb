{
 "cells": [
  {
   "cell_type": "code",
   "execution_count": 1,
   "metadata": {},
   "outputs": [
    {
     "name": "stderr",
     "output_type": "stream",
     "text": [
      "Using TensorFlow backend.\n"
     ]
    }
   ],
   "source": [
    "import torch\n",
    "import torch.nn as nn\n",
    "import torch.nn.functional as F\n",
    "import torchvision\n",
    "import torchvision.transforms as transforms\n",
    "from torch.utils.data import TensorDataset\n",
    "import ignite\n",
    "import torch.optim as optim\n",
    "import matplotlib.pyplot as plt\n",
    "import numpy as np\n",
    "import pandas as pd\n",
    "import keras\n",
    "import string\n",
    "import math\n",
    "from torch.autograd import Variable\n",
    "pd.set_option(\"display.max_columns\", 101)\n",
    "pd.set_option(\"display.max_rows\", 101)\n",
    "np.random.seed(123)\n",
    "torch.manual_seed(123)\n",
    "#https://www.analyticsvidhya.com/blog/2019/01/guide-pytorch-neural-networks-case-studies/\n",
    "from sklearn.metrics import accuracy_score\n",
    "from sklearn import linear_model, metrics, model_selection, ensemble\n",
    "from sklearn.neural_network import MLPClassifier\n"
   ]
  },
  {
   "cell_type": "code",
   "execution_count": 3,
   "metadata": {},
   "outputs": [],
   "source": [
    "df = pd.read_csv('./data/PBP - 2016 - Week 1.csv')\n",
    "df = df.dropna()"
   ]
  },
  {
   "cell_type": "code",
   "execution_count": 5,
   "metadata": {},
   "outputs": [],
   "source": [
    "df = df.query('down == 4')"
   ]
  },
  {
   "cell_type": "code",
   "execution_count": 7,
   "metadata": {},
   "outputs": [
    {
     "data": {
      "text/plain": [
       "array(['Punt', 'Penalty', 'Field Goal Good', 'Timeout',\n",
       "       'Passing Touchdown', 'Rush', 'Field Goal Missed', 'Pass Reception',\n",
       "       'Pass Incompletion', 'Kickoff', 'Blocked Field Goal', 'Sack',\n",
       "       'Kickoff Return (Offense)', 'Fumble Recovery (Own)',\n",
       "       'Rushing Touchdown', 'Fumble Recovery (Opponent)',\n",
       "       'Pass Interception Return', 'Kickoff Return Touchdown',\n",
       "       'Punt Return Touchdown', 'Blocked Punt', 'Safety',\n",
       "       'Fumble Return Touchdown'], dtype=object)"
      ]
     },
     "execution_count": 7,
     "metadata": {},
     "output_type": "execute_result"
    }
   ],
   "source": [
    "df['type'].unique()"
   ]
  },
  {
   "cell_type": "code",
   "execution_count": null,
   "metadata": {},
   "outputs": [],
   "source": []
  },
  {
   "cell_type": "code",
   "execution_count": 10,
   "metadata": {},
   "outputs": [
    {
     "data": {
      "text/plain": [
       "array(['Punt', 'Penalty', 'Field Goal', 'Timeout', 'Pass', 'Rush',\n",
       "       'Kickoff', 'Kickoff Return (Offense)', 'Fumble Recovery (Own)',\n",
       "       'Fumble Recovery (Opponent)', 'Kickoff Return Touchdown', 'Safety',\n",
       "       'Fumble Return Touchdown'], dtype=object)"
      ]
     },
     "execution_count": 10,
     "metadata": {},
     "output_type": "execute_result"
    }
   ],
   "source": [
    "df = df.replace('Field Goal Good', 'Field Goal')\n",
    "df = df.replace('Field Goal Missed', 'Field Goal')\n",
    "df = df.replace('Blocked Field Goal', 'Field Goal')\n",
    "df = df.replace('Rushing Touchdown', 'Rush')\n",
    "df = df.replace('Sack', 'Pass')\n",
    "df = df.replace('Pass Interception Return', 'Pass')\n",
    "df = df.replace('Passing Touchdown', 'Pass')\n",
    "df = df.replace('Pass Incompletion', 'Pass')\n",
    "df = df.replace('Blocked Punt', 'Punt')\n",
    "df = df.replace('Punt Return Touchdown', 'Punt')\n",
    "df = df.replace('Pass Reception', 'Pass')\n",
    "df['type'].unique()"
   ]
  },
  {
   "cell_type": "code",
   "execution_count": null,
   "metadata": {},
   "outputs": [],
   "source": []
  }
 ],
 "metadata": {
  "kernelspec": {
   "display_name": "Python 3",
   "language": "python",
   "name": "python3"
  },
  "language_info": {
   "codemirror_mode": {
    "name": "ipython",
    "version": 3
   },
   "file_extension": ".py",
   "mimetype": "text/x-python",
   "name": "python",
   "nbconvert_exporter": "python",
   "pygments_lexer": "ipython3",
   "version": "3.7.4"
  }
 },
 "nbformat": 4,
 "nbformat_minor": 2
}
