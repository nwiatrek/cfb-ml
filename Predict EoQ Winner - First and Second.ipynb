{
 "cells": [
  {
   "cell_type": "code",
   "execution_count": 2,
   "metadata": {},
   "outputs": [],
   "source": [
    "from sklearn.metrics import accuracy_score\n",
    "from sklearn.neural_network import MLPClassifier\n",
    "import matplotlib.pyplot as plt\n",
    "from sklearn import ensemble\n",
    "import pandas as pd\n",
    "import numpy as np\n",
    "pd.set_option('display.max_columns', None)\n",
    "pd.set_option('display.max_rows', 20)"
   ]
  },
  {
   "cell_type": "code",
   "execution_count": 3,
   "metadata": {},
   "outputs": [],
   "source": [
    "df1 = pd.read_csv('./data/PBP - 2016 - Week 1.csv')\n",
    "df2 = pd.read_csv('./data/PBP - 2016 - Week 2.csv')\n",
    "df3 = pd.read_csv('./data/PBP - 2016 - Week 3.csv')\n",
    "df4 = pd.read_csv('./data/PBP - 2016 - Week 4.csv')\n",
    "df5 = pd.read_csv('./data/PBP - 2016 - Week 5.csv')\n",
    "df6 = pd.read_csv('./data/PBP - 2016 - Week 6.csv')"
   ]
  },
  {
   "cell_type": "code",
   "execution_count": 4,
   "metadata": {},
   "outputs": [],
   "source": [
    "df7 = pd.read_csv('./data/PBP - 2016 - Week 7.csv')\n",
    "df8 = pd.read_csv('./data/PBP - 2016 - Week 8.csv')\n",
    "df9 = pd.read_csv('./data/PBP - 2016 - Week 9.csv')\n",
    "df10 = pd.read_csv('./data/PBP - 2016 - Week 10.csv')"
   ]
  },
  {
   "cell_type": "code",
   "execution_count": 5,
   "metadata": {},
   "outputs": [],
   "source": [
    "df = pd.concat([df1, df2, df3, df4, df5, df6])\n",
    "offense_stats = pd.read_csv('./data/Offense Stats 2016.csv')\n",
    "defense_stats = pd.read_csv('./data/Defense Stats 2016.csv')\n",
    "\n",
    "df = df.dropna()"
   ]
  },
  {
   "cell_type": "code",
   "execution_count": 6,
   "metadata": {},
   "outputs": [],
   "source": [
    "# test set\n",
    "df_test = pd.read_csv('./data/PBP - 2016 - Week 7.csv')\n",
    "df_test = df.dropna()"
   ]
  },
  {
   "cell_type": "code",
   "execution_count": 7,
   "metadata": {},
   "outputs": [],
   "source": [
    "def getWinner(gameId, df):\n",
    "    final = df.query('gameId == @gameId').iloc[[-1]]\n",
    "    if(int(final.homeScore) > int(final.awayScore)):\n",
    "        return 'home'\n",
    "    else:\n",
    "        return 'away'"
   ]
  },
  {
   "cell_type": "code",
   "execution_count": 11,
   "metadata": {},
   "outputs": [],
   "source": [
    "# add a winner label\n",
    "for index,row in df.iterrows():\n",
    "    df.at[index,'winner'] = getWinner(row['gameId'], df)"
   ]
  },
  {
   "cell_type": "code",
   "execution_count": 12,
   "metadata": {},
   "outputs": [],
   "source": [
    "for index,row in df_test.iterrows():\n",
    "    df_test.at[index,'winner'] = getWinner(row['gameId'], df)"
   ]
  },
  {
   "cell_type": "code",
   "execution_count": null,
   "metadata": {},
   "outputs": [],
   "source": [
    "#def getQuarterPlays(quarter, df):\n",
    "#    final = df.query('quarter == @quarter')\n",
    "#    return final"
   ]
  },
  {
   "cell_type": "code",
   "execution_count": 9,
   "metadata": {},
   "outputs": [],
   "source": [
    "# only get first/second quarter\n",
    "df = df[df.quarter < 3]"
   ]
  },
  {
   "cell_type": "code",
   "execution_count": 10,
   "metadata": {},
   "outputs": [],
   "source": [
    "df_test = df_test[df_test.quarter < 3]"
   ]
  },
  {
   "cell_type": "code",
   "execution_count": 13,
   "metadata": {},
   "outputs": [],
   "source": [
    "# join team data\n",
    "statsJoin = df.join(offense_stats.set_index('School'), on='offenseTeam', rsuffix='_offense_stats')\n",
    "statsJoin = df.join(defense_stats.set_index('School'), on='defenseTeam', rsuffix='_defense_stats')\n",
    "statsJoin['TD'] = statsJoin['type'].apply(lambda x: 1 if x == 'Passing Touchdown' or x == 'Rushing Touchdown' else 0)"
   ]
  },
  {
   "cell_type": "code",
   "execution_count": 14,
   "metadata": {},
   "outputs": [],
   "source": [
    "# join team data\n",
    "statsJoin_test = df_test.join(offense_stats.set_index('School'), on='offenseTeam', rsuffix='_offense_stats')\n",
    "statsJoin_test = df_test.join(defense_stats.set_index('School'), on='defenseTeam', rsuffix='_defense_stats')\n",
    "statsJoin_test['TD'] = statsJoin['type'].apply(lambda x: 1 if x == 'Passing Touchdown' or x == 'Rushing Touchdown' else 0)"
   ]
  },
  {
   "cell_type": "code",
   "execution_count": 15,
   "metadata": {},
   "outputs": [],
   "source": [
    "statsJoin = statsJoin.dropna()"
   ]
  },
  {
   "cell_type": "code",
   "execution_count": 16,
   "metadata": {},
   "outputs": [],
   "source": [
    "statsJoin_test = statsJoin_test.dropna()"
   ]
  },
  {
   "cell_type": "code",
   "execution_count": 17,
   "metadata": {},
   "outputs": [],
   "source": [
    "def seconds_left_in_quarter(clock):\n",
    "    clock = clock.split(':')\n",
    "    clock = (int(clock[0])*60) + int(clock[1])\n",
    "    return clock\n",
    "\n",
    "for index,row in statsJoin.iterrows():\n",
    "    statsJoin.at[index,'clock'] = seconds_left_in_quarter(row['clock'])"
   ]
  },
  {
   "cell_type": "code",
   "execution_count": 18,
   "metadata": {},
   "outputs": [],
   "source": [
    "for index,row in statsJoin_test.iterrows():\n",
    "    statsJoin_test.at[index,'clock'] = seconds_left_in_quarter(row['clock'])"
   ]
  },
  {
   "cell_type": "code",
   "execution_count": 20,
   "metadata": {},
   "outputs": [],
   "source": [
    "y = statsJoin[['winner']]\n",
    "x = statsJoin[['homeScore',\n",
    "       'awayScore', 'quarter', 'clock', 'down',\n",
    "       'Rk', 'Points Allowed', 'opponent completions', 'opponent attempts',\n",
    "       'opponent completion percentage', 'opponent passing yards',\n",
    "       'opponent passing touchdowns', 'opponent rush attempts',\n",
    "       'opponent rush yards', 'opponent average rush',\n",
    "       'opponent rush touchdowns', 'total opponent plays',\n",
    "       'total opponent yards', 'opponent total yards per play',\n",
    "       'opponent pass first downs', 'opponent rush first downs']]"
   ]
  },
  {
   "cell_type": "code",
   "execution_count": 21,
   "metadata": {},
   "outputs": [],
   "source": [
    "y_test = statsJoin_test[['winner']]\n",
    "x_test = statsJoin_test[['homeScore',\n",
    "       'awayScore', 'quarter', 'clock', 'down',\n",
    "       'Rk', 'Points Allowed', 'opponent completions', 'opponent attempts',\n",
    "       'opponent completion percentage', 'opponent passing yards',\n",
    "       'opponent passing touchdowns', 'opponent rush attempts',\n",
    "       'opponent rush yards', 'opponent average rush',\n",
    "       'opponent rush touchdowns', 'total opponent plays',\n",
    "       'total opponent yards', 'opponent total yards per play',\n",
    "       'opponent pass first downs', 'opponent rush first downs']]"
   ]
  },
  {
   "cell_type": "code",
   "execution_count": 22,
   "metadata": {},
   "outputs": [
    {
     "name": "stderr",
     "output_type": "stream",
     "text": [
      "/home/ben/.local/lib/python3.6/site-packages/sklearn/neural_network/_multilayer_perceptron.py:934: DataConversionWarning: A column-vector y was passed when a 1d array was expected. Please change the shape of y to (n_samples, ), for example using ravel().\n",
      "  y = column_or_1d(y, warn=True)\n"
     ]
    },
    {
     "data": {
      "text/plain": [
       "MLPClassifier(activation='relu', alpha=1e-05, batch_size='auto', beta_1=0.9,\n",
       "              beta_2=0.999, early_stopping=False, epsilon=1e-08,\n",
       "              hidden_layer_sizes=(5, 2), learning_rate='constant',\n",
       "              learning_rate_init=0.001, max_fun=15000, max_iter=200,\n",
       "              momentum=0.9, n_iter_no_change=10, nesterovs_momentum=True,\n",
       "              power_t=0.5, random_state=1, shuffle=True, solver='sgd',\n",
       "              tol=0.0001, validation_fraction=0.1, verbose=False,\n",
       "              warm_start=False)"
      ]
     },
     "execution_count": 22,
     "metadata": {},
     "output_type": "execute_result"
    }
   ],
   "source": [
    "clf = MLPClassifier(solver='sgd', alpha=1e-5,\n",
    "                    hidden_layer_sizes=(5, 2), random_state=1)\n",
    "\n",
    "clf.fit(x, y)"
   ]
  },
  {
   "cell_type": "code",
   "execution_count": 23,
   "metadata": {},
   "outputs": [
    {
     "data": {
      "text/html": [
       "<div>\n",
       "<style scoped>\n",
       "    .dataframe tbody tr th:only-of-type {\n",
       "        vertical-align: middle;\n",
       "    }\n",
       "\n",
       "    .dataframe tbody tr th {\n",
       "        vertical-align: top;\n",
       "    }\n",
       "\n",
       "    .dataframe thead th {\n",
       "        text-align: right;\n",
       "    }\n",
       "</style>\n",
       "<table border=\"1\" class=\"dataframe\">\n",
       "  <thead>\n",
       "    <tr style=\"text-align: right;\">\n",
       "      <th></th>\n",
       "      <th>0</th>\n",
       "    </tr>\n",
       "  </thead>\n",
       "  <tbody>\n",
       "    <tr>\n",
       "      <th>count</th>\n",
       "      <td>24965</td>\n",
       "    </tr>\n",
       "    <tr>\n",
       "      <th>unique</th>\n",
       "      <td>1</td>\n",
       "    </tr>\n",
       "    <tr>\n",
       "      <th>top</th>\n",
       "      <td>home</td>\n",
       "    </tr>\n",
       "    <tr>\n",
       "      <th>freq</th>\n",
       "      <td>24965</td>\n",
       "    </tr>\n",
       "  </tbody>\n",
       "</table>\n",
       "</div>"
      ],
      "text/plain": [
       "            0\n",
       "count   24965\n",
       "unique      1\n",
       "top      home\n",
       "freq    24965"
      ]
     },
     "execution_count": 23,
     "metadata": {},
     "output_type": "execute_result"
    }
   ],
   "source": [
    "pd.DataFrame(clf.predict(x_test)).describe()"
   ]
  },
  {
   "cell_type": "code",
   "execution_count": 24,
   "metadata": {},
   "outputs": [
    {
     "data": {
      "text/plain": [
       "home    13669\n",
       "away    11296\n",
       "Name: winner, dtype: int64"
      ]
     },
     "execution_count": 24,
     "metadata": {},
     "output_type": "execute_result"
    }
   ],
   "source": [
    "y_test.winner.value_counts()"
   ]
  },
  {
   "cell_type": "code",
   "execution_count": null,
   "metadata": {},
   "outputs": [],
   "source": [
    "x['homeTeam']"
   ]
  },
  {
   "cell_type": "code",
   "execution_count": null,
   "metadata": {},
   "outputs": [],
   "source": [
    "#myData=np.genfromtxt(filecsv, delimiter=\",\", dtype =\"|a20\" ,skip_header=1);\n",
    "\n",
    "from sklearn import preprocessing\n",
    "import category_encoders as ce\n",
    "ce_bin = ce.BinaryEncoder(cols = ['homeTeam'])"
   ]
  },
  {
   "cell_type": "code",
   "execution_count": null,
   "metadata": {},
   "outputs": [],
   "source": [
    "ce_bin.fit_transform(x['homeTeam'], y)"
   ]
  },
  {
   "cell_type": "code",
   "execution_count": null,
   "metadata": {},
   "outputs": [],
   "source": []
  }
 ],
 "metadata": {
  "kernelspec": {
   "display_name": "Python 3",
   "language": "python",
   "name": "python3"
  },
  "language_info": {
   "codemirror_mode": {
    "name": "ipython",
    "version": 3
   },
   "file_extension": ".py",
   "mimetype": "text/x-python",
   "name": "python",
   "nbconvert_exporter": "python",
   "pygments_lexer": "ipython3",
   "version": "3.6.9"
  }
 },
 "nbformat": 4,
 "nbformat_minor": 2
}
