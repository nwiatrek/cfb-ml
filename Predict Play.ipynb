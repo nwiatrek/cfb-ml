{
 "cells": [
  {
   "cell_type": "code",
   "execution_count": 1,
   "metadata": {},
   "outputs": [],
   "source": [
    "from sklearn.metrics import accuracy_score\n",
    "import matplotlib.pyplot as plt\n",
    "from sklearn import ensemble\n",
    "import pandas as pd\n",
    "import numpy as np\n"
   ]
  },
  {
   "cell_type": "code",
   "execution_count": 4,
   "metadata": {},
   "outputs": [],
   "source": [
    "df = pd.read_csv('data/PBP - 2016 - Week 1.csv')\n",
    "\n",
    "df = df.dropna()\n",
    "# week2 = pd.read_csv('PBP - 2016 - Week 2.csv')\n",
    "\n",
    "# df = pd.concat([week1,week2],ignore_index=True)"
   ]
  },
  {
   "cell_type": "code",
   "execution_count": 5,
   "metadata": {},
   "outputs": [
    {
     "data": {
      "text/plain": [
       "array(['Kickoff', 'Timeout', 'Rush', 'Punt', 'Pass Reception', 'Penalty',\n",
       "       'Pass Incompletion', 'Rushing Touchdown', 'Field Goal Good',\n",
       "       'Passing Touchdown', 'Fumble Recovery (Own)', 'End Period', 'Sack',\n",
       "       'End of Half', 'Fumble Recovery (Opponent)', 'End of Game',\n",
       "       'Field Goal Missed', 'Safety', 'Pass Interception Return',\n",
       "       'Blocked Field Goal', 'Defensive 2pt Conversion',\n",
       "       'Kickoff Return (Offense)', 'Interception Return Touchdown',\n",
       "       'Kickoff Return Touchdown', 'Punt Return Touchdown',\n",
       "       'Blocked Punt', 'Fumble Return Touchdown'], dtype=object)"
      ]
     },
     "execution_count": 5,
     "metadata": {},
     "output_type": "execute_result"
    }
   ],
   "source": [
    "df['type'].unique()"
   ]
  },
  {
   "cell_type": "code",
   "execution_count": 6,
   "metadata": {},
   "outputs": [
    {
     "data": {
      "text/plain": [
       "array(['Kickoff', 'Timeout', 'Rush', 'Punt', 'Pass', 'Penalty',\n",
       "       'Field Goal Good', 'Fumble Recovery (Own)', 'End Period',\n",
       "       'End of Half', 'Fumble Recovery (Opponent)', 'End of Game',\n",
       "       'Field Goal Missed', 'Safety', 'Pass Interception Return',\n",
       "       'Blocked Field Goal', 'Defensive 2pt Conversion',\n",
       "       'Kickoff Return (Offense)', 'Interception Return Touchdown',\n",
       "       'Kickoff Return Touchdown', 'Punt Return Touchdown',\n",
       "       'Blocked Punt', 'Fumble Return Touchdown'], dtype=object)"
      ]
     },
     "execution_count": 6,
     "metadata": {},
     "output_type": "execute_result"
    }
   ],
   "source": [
    "df = df.replace('Pass Incompletion', 'Pass')\n",
    "df = df.replace('Pass Reception', 'Pass')\n",
    "df = df.replace('Passing Touchdown', 'Pass')\n",
    "df = df.replace('Rushing Touchdown', 'Rush')\n",
    "df = df.replace('Sack', 'Pass')\n",
    "df['type'].unique()"
   ]
  },
  {
   "cell_type": "code",
   "execution_count": 7,
   "metadata": {},
   "outputs": [
    {
     "data": {
      "text/html": [
       "<div>\n",
       "<style scoped>\n",
       "    .dataframe tbody tr th:only-of-type {\n",
       "        vertical-align: middle;\n",
       "    }\n",
       "\n",
       "    .dataframe tbody tr th {\n",
       "        vertical-align: top;\n",
       "    }\n",
       "\n",
       "    .dataframe thead th {\n",
       "        text-align: right;\n",
       "    }\n",
       "</style>\n",
       "<table border=\"1\" class=\"dataframe\">\n",
       "  <thead>\n",
       "    <tr style=\"text-align: right;\">\n",
       "      <th></th>\n",
       "      <th>gameId</th>\n",
       "      <th>year</th>\n",
       "      <th>week</th>\n",
       "      <th>homeId</th>\n",
       "      <th>homeTeam</th>\n",
       "      <th>homeAbbr</th>\n",
       "      <th>awayId</th>\n",
       "      <th>awayTeam</th>\n",
       "      <th>awayAbbr</th>\n",
       "      <th>driveIndex</th>\n",
       "      <th>...</th>\n",
       "      <th>quarter</th>\n",
       "      <th>clock</th>\n",
       "      <th>wallclock</th>\n",
       "      <th>type</th>\n",
       "      <th>down</th>\n",
       "      <th>distance</th>\n",
       "      <th>yardLine</th>\n",
       "      <th>yardsGained</th>\n",
       "      <th>endYardLine</th>\n",
       "      <th>description</th>\n",
       "    </tr>\n",
       "  </thead>\n",
       "  <tbody>\n",
       "    <tr>\n",
       "      <td>0</td>\n",
       "      <td>400868876</td>\n",
       "      <td>2016</td>\n",
       "      <td>1</td>\n",
       "      <td>239</td>\n",
       "      <td>Baylor</td>\n",
       "      <td>BAY</td>\n",
       "      <td>2466</td>\n",
       "      <td>Northwestern St</td>\n",
       "      <td>NWST</td>\n",
       "      <td>0</td>\n",
       "      <td>...</td>\n",
       "      <td>1</td>\n",
       "      <td>15:00</td>\n",
       "      <td>2016-09-03T06:36:41Z</td>\n",
       "      <td>Kickoff</td>\n",
       "      <td>1</td>\n",
       "      <td>10</td>\n",
       "      <td>35</td>\n",
       "      <td>10</td>\n",
       "      <td>86</td>\n",
       "      <td>Drew Galitz kickoff for 61 yds , Shakeir Ryan ...</td>\n",
       "    </tr>\n",
       "    <tr>\n",
       "      <td>1</td>\n",
       "      <td>400868876</td>\n",
       "      <td>2016</td>\n",
       "      <td>1</td>\n",
       "      <td>239</td>\n",
       "      <td>Baylor</td>\n",
       "      <td>BAY</td>\n",
       "      <td>2466</td>\n",
       "      <td>Northwestern St</td>\n",
       "      <td>NWST</td>\n",
       "      <td>0</td>\n",
       "      <td>...</td>\n",
       "      <td>1</td>\n",
       "      <td>14:55</td>\n",
       "      <td>2016-09-03T06:38:11Z</td>\n",
       "      <td>Timeout</td>\n",
       "      <td>1</td>\n",
       "      <td>10</td>\n",
       "      <td>86</td>\n",
       "      <td>0</td>\n",
       "      <td>86</td>\n",
       "      <td>Timeout NORTHWESTERN ST, clock 14:55</td>\n",
       "    </tr>\n",
       "    <tr>\n",
       "      <td>2</td>\n",
       "      <td>400868876</td>\n",
       "      <td>2016</td>\n",
       "      <td>1</td>\n",
       "      <td>239</td>\n",
       "      <td>Baylor</td>\n",
       "      <td>BAY</td>\n",
       "      <td>2466</td>\n",
       "      <td>Northwestern St</td>\n",
       "      <td>NWST</td>\n",
       "      <td>0</td>\n",
       "      <td>...</td>\n",
       "      <td>1</td>\n",
       "      <td>14:55</td>\n",
       "      <td>2016-09-03T06:38:11Z</td>\n",
       "      <td>Rush</td>\n",
       "      <td>1</td>\n",
       "      <td>10</td>\n",
       "      <td>86</td>\n",
       "      <td>-1</td>\n",
       "      <td>87</td>\n",
       "      <td>De'Mard Llorens run for a loss of 1 yard to th...</td>\n",
       "    </tr>\n",
       "    <tr>\n",
       "      <td>3</td>\n",
       "      <td>400868876</td>\n",
       "      <td>2016</td>\n",
       "      <td>1</td>\n",
       "      <td>239</td>\n",
       "      <td>Baylor</td>\n",
       "      <td>BAY</td>\n",
       "      <td>2466</td>\n",
       "      <td>Northwestern St</td>\n",
       "      <td>NWST</td>\n",
       "      <td>0</td>\n",
       "      <td>...</td>\n",
       "      <td>1</td>\n",
       "      <td>14:55</td>\n",
       "      <td>2016-09-03T06:38:11Z</td>\n",
       "      <td>Rush</td>\n",
       "      <td>2</td>\n",
       "      <td>11</td>\n",
       "      <td>87</td>\n",
       "      <td>8</td>\n",
       "      <td>79</td>\n",
       "      <td>De'Mard Llorens run for 8 yds to the NWSt 21</td>\n",
       "    </tr>\n",
       "    <tr>\n",
       "      <td>4</td>\n",
       "      <td>400868876</td>\n",
       "      <td>2016</td>\n",
       "      <td>1</td>\n",
       "      <td>239</td>\n",
       "      <td>Baylor</td>\n",
       "      <td>BAY</td>\n",
       "      <td>2466</td>\n",
       "      <td>Northwestern St</td>\n",
       "      <td>NWST</td>\n",
       "      <td>0</td>\n",
       "      <td>...</td>\n",
       "      <td>1</td>\n",
       "      <td>14:55</td>\n",
       "      <td>2016-09-03T06:38:11Z</td>\n",
       "      <td>Rush</td>\n",
       "      <td>3</td>\n",
       "      <td>3</td>\n",
       "      <td>79</td>\n",
       "      <td>0</td>\n",
       "      <td>79</td>\n",
       "      <td>De'Mard Llorens run for no gain to the NWSt 21</td>\n",
       "    </tr>\n",
       "    <tr>\n",
       "      <td>...</td>\n",
       "      <td>...</td>\n",
       "      <td>...</td>\n",
       "      <td>...</td>\n",
       "      <td>...</td>\n",
       "      <td>...</td>\n",
       "      <td>...</td>\n",
       "      <td>...</td>\n",
       "      <td>...</td>\n",
       "      <td>...</td>\n",
       "      <td>...</td>\n",
       "      <td>...</td>\n",
       "      <td>...</td>\n",
       "      <td>...</td>\n",
       "      <td>...</td>\n",
       "      <td>...</td>\n",
       "      <td>...</td>\n",
       "      <td>...</td>\n",
       "      <td>...</td>\n",
       "      <td>...</td>\n",
       "      <td>...</td>\n",
       "      <td>...</td>\n",
       "    </tr>\n",
       "    <tr>\n",
       "      <td>16136</td>\n",
       "      <td>400869810</td>\n",
       "      <td>2016</td>\n",
       "      <td>1</td>\n",
       "      <td>2653</td>\n",
       "      <td>Troy</td>\n",
       "      <td>TROY</td>\n",
       "      <td>2046</td>\n",
       "      <td>Austin Peay</td>\n",
       "      <td>PEAY</td>\n",
       "      <td>25</td>\n",
       "      <td>...</td>\n",
       "      <td>4</td>\n",
       "      <td>3:18</td>\n",
       "      <td>2016-09-04T08:15:02Z</td>\n",
       "      <td>Rush</td>\n",
       "      <td>1</td>\n",
       "      <td>10</td>\n",
       "      <td>33</td>\n",
       "      <td>15</td>\n",
       "      <td>48</td>\n",
       "      <td>B.J. Smith run for 15 yds to the Troy 48 for a...</td>\n",
       "    </tr>\n",
       "    <tr>\n",
       "      <td>16137</td>\n",
       "      <td>400869810</td>\n",
       "      <td>2016</td>\n",
       "      <td>1</td>\n",
       "      <td>2653</td>\n",
       "      <td>Troy</td>\n",
       "      <td>TROY</td>\n",
       "      <td>2046</td>\n",
       "      <td>Austin Peay</td>\n",
       "      <td>PEAY</td>\n",
       "      <td>25</td>\n",
       "      <td>...</td>\n",
       "      <td>4</td>\n",
       "      <td>3:18</td>\n",
       "      <td>2016-09-04T08:15:02Z</td>\n",
       "      <td>Rush</td>\n",
       "      <td>1</td>\n",
       "      <td>10</td>\n",
       "      <td>48</td>\n",
       "      <td>3</td>\n",
       "      <td>51</td>\n",
       "      <td>B.J. Smith run for 3 yds to the APeay 49</td>\n",
       "    </tr>\n",
       "    <tr>\n",
       "      <td>16138</td>\n",
       "      <td>400869810</td>\n",
       "      <td>2016</td>\n",
       "      <td>1</td>\n",
       "      <td>2653</td>\n",
       "      <td>Troy</td>\n",
       "      <td>TROY</td>\n",
       "      <td>2046</td>\n",
       "      <td>Austin Peay</td>\n",
       "      <td>PEAY</td>\n",
       "      <td>25</td>\n",
       "      <td>...</td>\n",
       "      <td>4</td>\n",
       "      <td>3:18</td>\n",
       "      <td>2016-09-04T08:15:02Z</td>\n",
       "      <td>Rush</td>\n",
       "      <td>2</td>\n",
       "      <td>7</td>\n",
       "      <td>51</td>\n",
       "      <td>-2</td>\n",
       "      <td>49</td>\n",
       "      <td>B.J. Smith run for a loss of 2 yards to the Tr...</td>\n",
       "    </tr>\n",
       "    <tr>\n",
       "      <td>16139</td>\n",
       "      <td>400869810</td>\n",
       "      <td>2016</td>\n",
       "      <td>1</td>\n",
       "      <td>2653</td>\n",
       "      <td>Troy</td>\n",
       "      <td>TROY</td>\n",
       "      <td>2046</td>\n",
       "      <td>Austin Peay</td>\n",
       "      <td>PEAY</td>\n",
       "      <td>25</td>\n",
       "      <td>...</td>\n",
       "      <td>4</td>\n",
       "      <td>3:18</td>\n",
       "      <td>2016-09-04T08:15:02Z</td>\n",
       "      <td>Rush</td>\n",
       "      <td>3</td>\n",
       "      <td>9</td>\n",
       "      <td>49</td>\n",
       "      <td>8</td>\n",
       "      <td>57</td>\n",
       "      <td>B.J. Smith run for 8 yds to the APeay 43</td>\n",
       "    </tr>\n",
       "    <tr>\n",
       "      <td>16140</td>\n",
       "      <td>400869810</td>\n",
       "      <td>2016</td>\n",
       "      <td>1</td>\n",
       "      <td>2653</td>\n",
       "      <td>Troy</td>\n",
       "      <td>TROY</td>\n",
       "      <td>2046</td>\n",
       "      <td>Austin Peay</td>\n",
       "      <td>PEAY</td>\n",
       "      <td>25</td>\n",
       "      <td>...</td>\n",
       "      <td>4</td>\n",
       "      <td>0:00</td>\n",
       "      <td>2016-09-04T08:17:55Z</td>\n",
       "      <td>End of Game</td>\n",
       "      <td>0</td>\n",
       "      <td>1</td>\n",
       "      <td>0</td>\n",
       "      <td>0</td>\n",
       "      <td>57</td>\n",
       "      <td>End of 4th Quarter</td>\n",
       "    </tr>\n",
       "  </tbody>\n",
       "</table>\n",
       "<p>16113 rows × 29 columns</p>\n",
       "</div>"
      ],
      "text/plain": [
       "          gameId  year  week  homeId homeTeam homeAbbr  awayId  \\\n",
       "0      400868876  2016     1     239   Baylor      BAY    2466   \n",
       "1      400868876  2016     1     239   Baylor      BAY    2466   \n",
       "2      400868876  2016     1     239   Baylor      BAY    2466   \n",
       "3      400868876  2016     1     239   Baylor      BAY    2466   \n",
       "4      400868876  2016     1     239   Baylor      BAY    2466   \n",
       "...          ...   ...   ...     ...      ...      ...     ...   \n",
       "16136  400869810  2016     1    2653     Troy     TROY    2046   \n",
       "16137  400869810  2016     1    2653     Troy     TROY    2046   \n",
       "16138  400869810  2016     1    2653     Troy     TROY    2046   \n",
       "16139  400869810  2016     1    2653     Troy     TROY    2046   \n",
       "16140  400869810  2016     1    2653     Troy     TROY    2046   \n",
       "\n",
       "              awayTeam awayAbbr  driveIndex  ...  quarter  clock  \\\n",
       "0      Northwestern St     NWST           0  ...        1  15:00   \n",
       "1      Northwestern St     NWST           0  ...        1  14:55   \n",
       "2      Northwestern St     NWST           0  ...        1  14:55   \n",
       "3      Northwestern St     NWST           0  ...        1  14:55   \n",
       "4      Northwestern St     NWST           0  ...        1  14:55   \n",
       "...                ...      ...         ...  ...      ...    ...   \n",
       "16136      Austin Peay     PEAY          25  ...        4   3:18   \n",
       "16137      Austin Peay     PEAY          25  ...        4   3:18   \n",
       "16138      Austin Peay     PEAY          25  ...        4   3:18   \n",
       "16139      Austin Peay     PEAY          25  ...        4   3:18   \n",
       "16140      Austin Peay     PEAY          25  ...        4   0:00   \n",
       "\n",
       "                  wallclock         type  down distance yardLine  yardsGained  \\\n",
       "0      2016-09-03T06:36:41Z      Kickoff     1       10       35           10   \n",
       "1      2016-09-03T06:38:11Z      Timeout     1       10       86            0   \n",
       "2      2016-09-03T06:38:11Z         Rush     1       10       86           -1   \n",
       "3      2016-09-03T06:38:11Z         Rush     2       11       87            8   \n",
       "4      2016-09-03T06:38:11Z         Rush     3        3       79            0   \n",
       "...                     ...          ...   ...      ...      ...          ...   \n",
       "16136  2016-09-04T08:15:02Z         Rush     1       10       33           15   \n",
       "16137  2016-09-04T08:15:02Z         Rush     1       10       48            3   \n",
       "16138  2016-09-04T08:15:02Z         Rush     2        7       51           -2   \n",
       "16139  2016-09-04T08:15:02Z         Rush     3        9       49            8   \n",
       "16140  2016-09-04T08:17:55Z  End of Game     0        1        0            0   \n",
       "\n",
       "       endYardLine                                        description  \n",
       "0               86  Drew Galitz kickoff for 61 yds , Shakeir Ryan ...  \n",
       "1               86               Timeout NORTHWESTERN ST, clock 14:55  \n",
       "2               87  De'Mard Llorens run for a loss of 1 yard to th...  \n",
       "3               79       De'Mard Llorens run for 8 yds to the NWSt 21  \n",
       "4               79     De'Mard Llorens run for no gain to the NWSt 21  \n",
       "...            ...                                                ...  \n",
       "16136           48  B.J. Smith run for 15 yds to the Troy 48 for a...  \n",
       "16137           51           B.J. Smith run for 3 yds to the APeay 49  \n",
       "16138           49  B.J. Smith run for a loss of 2 yards to the Tr...  \n",
       "16139           57           B.J. Smith run for 8 yds to the APeay 43  \n",
       "16140           57                                 End of 4th Quarter  \n",
       "\n",
       "[16113 rows x 29 columns]"
      ]
     },
     "execution_count": 7,
     "metadata": {},
     "output_type": "execute_result"
    }
   ],
   "source": [
    "df"
   ]
  },
  {
   "cell_type": "code",
   "execution_count": 8,
   "metadata": {},
   "outputs": [],
   "source": [
    "new_df = df[['quarter', 'down', 'distance', 'yardLine', 'clock', 'type']]"
   ]
  },
  {
   "cell_type": "code",
   "execution_count": 9,
   "metadata": {},
   "outputs": [],
   "source": [
    "def seconds_left_in_quarter(clock):\n",
    "    clock = clock.split(':')\n",
    "    clock = (int(clock[0])*60) + int(clock[1])\n",
    "    return clock"
   ]
  },
  {
   "cell_type": "code",
   "execution_count": 10,
   "metadata": {},
   "outputs": [
    {
     "data": {
      "text/plain": [
       "920"
      ]
     },
     "execution_count": 10,
     "metadata": {},
     "output_type": "execute_result"
    }
   ],
   "source": [
    "seconds_left_in_quarter('15:20')"
   ]
  },
  {
   "cell_type": "code",
   "execution_count": 11,
   "metadata": {},
   "outputs": [],
   "source": [
    "for index,row in new_df.iterrows():\n",
    "    new_df.at[index,'clock'] = seconds_left_in_quarter(row['clock'])"
   ]
  },
  {
   "cell_type": "code",
   "execution_count": 12,
   "metadata": {},
   "outputs": [
    {
     "data": {
      "text/html": [
       "<div>\n",
       "<style scoped>\n",
       "    .dataframe tbody tr th:only-of-type {\n",
       "        vertical-align: middle;\n",
       "    }\n",
       "\n",
       "    .dataframe tbody tr th {\n",
       "        vertical-align: top;\n",
       "    }\n",
       "\n",
       "    .dataframe thead th {\n",
       "        text-align: right;\n",
       "    }\n",
       "</style>\n",
       "<table border=\"1\" class=\"dataframe\">\n",
       "  <thead>\n",
       "    <tr style=\"text-align: right;\">\n",
       "      <th></th>\n",
       "      <th>quarter</th>\n",
       "      <th>down</th>\n",
       "      <th>distance</th>\n",
       "      <th>yardLine</th>\n",
       "      <th>clock</th>\n",
       "      <th>type</th>\n",
       "    </tr>\n",
       "  </thead>\n",
       "  <tbody>\n",
       "    <tr>\n",
       "      <td>0</td>\n",
       "      <td>1</td>\n",
       "      <td>1</td>\n",
       "      <td>10</td>\n",
       "      <td>35</td>\n",
       "      <td>900</td>\n",
       "      <td>Kickoff</td>\n",
       "    </tr>\n",
       "    <tr>\n",
       "      <td>1</td>\n",
       "      <td>1</td>\n",
       "      <td>1</td>\n",
       "      <td>10</td>\n",
       "      <td>86</td>\n",
       "      <td>895</td>\n",
       "      <td>Timeout</td>\n",
       "    </tr>\n",
       "    <tr>\n",
       "      <td>2</td>\n",
       "      <td>1</td>\n",
       "      <td>1</td>\n",
       "      <td>10</td>\n",
       "      <td>86</td>\n",
       "      <td>895</td>\n",
       "      <td>Rush</td>\n",
       "    </tr>\n",
       "    <tr>\n",
       "      <td>3</td>\n",
       "      <td>1</td>\n",
       "      <td>2</td>\n",
       "      <td>11</td>\n",
       "      <td>87</td>\n",
       "      <td>895</td>\n",
       "      <td>Rush</td>\n",
       "    </tr>\n",
       "    <tr>\n",
       "      <td>4</td>\n",
       "      <td>1</td>\n",
       "      <td>3</td>\n",
       "      <td>3</td>\n",
       "      <td>79</td>\n",
       "      <td>895</td>\n",
       "      <td>Rush</td>\n",
       "    </tr>\n",
       "    <tr>\n",
       "      <td>...</td>\n",
       "      <td>...</td>\n",
       "      <td>...</td>\n",
       "      <td>...</td>\n",
       "      <td>...</td>\n",
       "      <td>...</td>\n",
       "      <td>...</td>\n",
       "    </tr>\n",
       "    <tr>\n",
       "      <td>16136</td>\n",
       "      <td>4</td>\n",
       "      <td>1</td>\n",
       "      <td>10</td>\n",
       "      <td>33</td>\n",
       "      <td>198</td>\n",
       "      <td>Rush</td>\n",
       "    </tr>\n",
       "    <tr>\n",
       "      <td>16137</td>\n",
       "      <td>4</td>\n",
       "      <td>1</td>\n",
       "      <td>10</td>\n",
       "      <td>48</td>\n",
       "      <td>198</td>\n",
       "      <td>Rush</td>\n",
       "    </tr>\n",
       "    <tr>\n",
       "      <td>16138</td>\n",
       "      <td>4</td>\n",
       "      <td>2</td>\n",
       "      <td>7</td>\n",
       "      <td>51</td>\n",
       "      <td>198</td>\n",
       "      <td>Rush</td>\n",
       "    </tr>\n",
       "    <tr>\n",
       "      <td>16139</td>\n",
       "      <td>4</td>\n",
       "      <td>3</td>\n",
       "      <td>9</td>\n",
       "      <td>49</td>\n",
       "      <td>198</td>\n",
       "      <td>Rush</td>\n",
       "    </tr>\n",
       "    <tr>\n",
       "      <td>16140</td>\n",
       "      <td>4</td>\n",
       "      <td>0</td>\n",
       "      <td>1</td>\n",
       "      <td>0</td>\n",
       "      <td>0</td>\n",
       "      <td>End of Game</td>\n",
       "    </tr>\n",
       "  </tbody>\n",
       "</table>\n",
       "<p>16113 rows × 6 columns</p>\n",
       "</div>"
      ],
      "text/plain": [
       "       quarter  down  distance  yardLine clock         type\n",
       "0            1     1        10        35   900      Kickoff\n",
       "1            1     1        10        86   895      Timeout\n",
       "2            1     1        10        86   895         Rush\n",
       "3            1     2        11        87   895         Rush\n",
       "4            1     3         3        79   895         Rush\n",
       "...        ...   ...       ...       ...   ...          ...\n",
       "16136        4     1        10        33   198         Rush\n",
       "16137        4     1        10        48   198         Rush\n",
       "16138        4     2         7        51   198         Rush\n",
       "16139        4     3         9        49   198         Rush\n",
       "16140        4     0         1         0     0  End of Game\n",
       "\n",
       "[16113 rows x 6 columns]"
      ]
     },
     "execution_count": 12,
     "metadata": {},
     "output_type": "execute_result"
    }
   ],
   "source": [
    "new_df"
   ]
  },
  {
   "cell_type": "code",
   "execution_count": 13,
   "metadata": {},
   "outputs": [],
   "source": [
    "new_df = new_df[(new_df.type == 'Pass') | (new_df.type == 'Rush')]"
   ]
  },
  {
   "cell_type": "code",
   "execution_count": 14,
   "metadata": {},
   "outputs": [
    {
     "data": {
      "image/png": "[encoded data removed]",
      "text/plain": [
       "<Figure size 432x288 with 1 Axes>"
      ]
     },
     "metadata": {},
     "output_type": "display_data"
    }
   ],
   "source": [
    "rel_freq = new_df['type'].value_counts()\n",
    "\n",
    "plt.pie(rel_freq, labels = ('Rush', 'Pass'), autopct='%.2f%%')\n",
    "plt.title(\"Week 1 play-type\")\n",
    "plt.subplots_adjust(left=0, bottom=0, right=1, top=1, wspace=0, hspace=0)\n",
    "plt.show()"
   ]
  },
  {
   "cell_type": "code",
   "execution_count": 15,
   "metadata": {},
   "outputs": [],
   "source": [
    "training_features = new_df[['quarter','down','distance','yardLine', 'clock']]\n",
    "\n",
    "training_label = new_df['type']\n"
   ]
  },
  {
   "cell_type": "code",
   "execution_count": 16,
   "metadata": {},
   "outputs": [
    {
     "data": {
      "text/plain": [
       "GradientBoostingClassifier(criterion='friedman_mse', init=None,\n",
       "                           learning_rate=0.005, loss='deviance', max_depth=3,\n",
       "                           max_features=None, max_leaf_nodes=None,\n",
       "                           min_impurity_decrease=0.0, min_impurity_split=None,\n",
       "                           min_samples_leaf=1, min_samples_split=2,\n",
       "                           min_weight_fraction_leaf=0.0, n_estimators=200,\n",
       "                           n_iter_no_change=None, presort='auto',\n",
       "                           random_state=None, subsample=1.0, tol=0.0001,\n",
       "                           validation_fraction=0.1, verbose=0,\n",
       "                           warm_start=False)"
      ]
     },
     "execution_count": 16,
     "metadata": {},
     "output_type": "execute_result"
    }
   ],
   "source": [
    "gbr = ensemble.GradientBoostingClassifier(n_estimators = 200, learning_rate = 0.005)\n",
    "\n",
    "gbr.fit(training_features, training_label)"
   ]
  },
  {
   "cell_type": "code",
   "execution_count": 17,
   "metadata": {},
   "outputs": [
    {
     "name": "stdout",
     "output_type": "stream",
     "text": [
      "Accuracy: 62.56%\n"
     ]
    }
   ],
   "source": [
    "prediction = gbr.predict(training_features)\n",
    "\n",
    "accuracy = accuracy_score(training_label, prediction)\n",
    "\n",
    "print(\"Accuracy: \"+\"{:.2%}\".format(accuracy))"
   ]
  },
  {
   "cell_type": "code",
   "execution_count": 18,
   "metadata": {},
   "outputs": [
    {
     "data": {
      "image/png": "[encoded data removed]",
      "text/plain": [
       "<Figure size 432x288 with 1 Axes>"
      ]
     },
     "metadata": {
      "needs_background": "light"
     },
     "output_type": "display_data"
    }
   ],
   "source": [
    "features = ['quarter', 'down', 'distance', 'yard line', 'clock']\n",
    "feature_importance = gbr.feature_importances_.tolist()\n",
    "\n",
    "plt.bar(features,feature_importance)\n",
    "plt.title(\"gradient boosting classifier: feature importance\")\n",
    "plt.show()"
   ]
  },
  {
   "cell_type": "markdown",
   "metadata": {},
   "source": [
    "## Testing with week 2"
   ]
  },
  {
   "cell_type": "code",
   "execution_count": 19,
   "metadata": {},
   "outputs": [],
   "source": [
    "def make_new_validation(df):\n",
    "    df = df.replace('Pass Incompletion', 'Pass')\n",
    "    df = df.replace('Pass Reception', 'Pass')\n",
    "    df = df.replace('Passing Touchdown', 'Pass')\n",
    "    df = df.replace('Rushing Touchdown', 'Rush')\n",
    "    df = df.replace('Sack', 'Pass')\n",
    "    for index,row in df.iterrows():\n",
    "        df.at[index,'clock'] = seconds_left_in_quarter(row['clock'])\n",
    "    new_df = df[['quarter', 'down', 'distance', 'yardLine', 'clock', 'type']]\n",
    "    new_df = new_df[(new_df.type == 'Pass') | (new_df.type == 'Rush')]\n",
    "    features = new_df[['quarter','down','distance','yardLine', 'clock']]\n",
    "    labels = new_df['type']\n",
    "    return features, labels\n",
    "    "
   ]
  },
  {
   "cell_type": "code",
   "execution_count": 21,
   "metadata": {},
   "outputs": [],
   "source": [
    "week2 = pd.read_csv('data/PBP - 2016 - Week 2.csv')\n",
    "week2_features, week2_labels = make_new_validation(week2)"
   ]
  },
  {
   "cell_type": "code",
   "execution_count": 22,
   "metadata": {},
   "outputs": [
    {
     "name": "stdout",
     "output_type": "stream",
     "text": [
      "Accuracy: 61.96%\n"
     ]
    }
   ],
   "source": [
    "prediction = gbr.predict(week2_features)\n",
    "\n",
    "accuracy = accuracy_score(week2_labels, prediction)\n",
    "\n",
    "print(\"Accuracy: \"+\"{:.2%}\".format(accuracy))"
   ]
  },
  {
   "cell_type": "code",
   "execution_count": 24,
   "metadata": {},
   "outputs": [],
   "source": [
    "week3 = pd.read_csv('data/PBP - 2016 - Week 3.csv')\n",
    "week3_features, week3_labels = make_new_validation(week3)"
   ]
  },
  {
   "cell_type": "code",
   "execution_count": 32,
   "metadata": {},
   "outputs": [
    {
     "name": "stdout",
     "output_type": "stream",
     "text": [
      "Accuracy: 62.51%\n"
     ]
    }
   ],
   "source": [
    "prediction = gbr.predict(week3_features)\n",
    "\n",
    "accuracy = accuracy_score(week3_labels, prediction)\n",
    "\n",
    "print(\"Accuracy: \"+\"{:.2%}\".format(accuracy))\n"
   ]
  },
  {
   "cell_type": "code",
   "execution_count": 33,
   "metadata": {},
   "outputs": [],
   "source": [
    "new_pred = np.where(prediction=='Rush', False, prediction) \n",
    "new_pred = np.where(new_pred=='Pass', True, new_pred) \n",
    "\n",
    "new_leb = np.where(week3_labels=='Pass', True, week3_labels) \n",
    "new_leb = np.where(new_leb=='Rush', False, new_leb) "
   ]
  },
  {
   "cell_type": "code",
   "execution_count": 34,
   "metadata": {},
   "outputs": [
    {
     "data": {
      "text/plain": [
       "array([False, False,  True, ..., False, False,  True])"
      ]
     },
     "execution_count": 34,
     "metadata": {},
     "output_type": "execute_result"
    }
   ],
   "source": [
    "new_pred.astype('bool')"
   ]
  },
  {
   "cell_type": "code",
   "execution_count": 35,
   "metadata": {},
   "outputs": [
    {
     "data": {
      "text/plain": [
       "0.6082527014007376"
      ]
     },
     "execution_count": 35,
     "metadata": {},
     "output_type": "execute_result"
    }
   ],
   "source": [
    "from sklearn.metrics import roc_auc_score\n",
    "roc_auc_score(new_leb.astype('bool'), new_pred.astype('bool'))"
   ]
  },
  {
   "cell_type": "code",
   "execution_count": 29,
   "metadata": {},
   "outputs": [],
   "source": [
    "all_week = pd.concat([df, week2, week3])"
   ]
  },
  {
   "cell_type": "code",
   "execution_count": 30,
   "metadata": {},
   "outputs": [],
   "source": [
    "all_train_features, all_train_labels = make_new_validation(all_week)"
   ]
  },
  {
   "cell_type": "code",
   "execution_count": 31,
   "metadata": {},
   "outputs": [
    {
     "data": {
      "text/plain": [
       "GradientBoostingClassifier(criterion='friedman_mse', init=None,\n",
       "                           learning_rate=0.005, loss='deviance', max_depth=3,\n",
       "                           max_features=None, max_leaf_nodes=None,\n",
       "                           min_impurity_decrease=0.0, min_impurity_split=None,\n",
       "                           min_samples_leaf=1, min_samples_split=2,\n",
       "                           min_weight_fraction_leaf=0.0, n_estimators=200,\n",
       "                           n_iter_no_change=None, presort='auto',\n",
       "                           random_state=None, subsample=1.0, tol=0.0001,\n",
       "                           validation_fraction=0.1, verbose=0,\n",
       "                           warm_start=False)"
      ]
     },
     "execution_count": 31,
     "metadata": {},
     "output_type": "execute_result"
    }
   ],
   "source": [
    "gbr = ensemble.GradientBoostingClassifier(n_estimators = 200, learning_rate = 0.005)\n",
    "\n",
    "gbr.fit(all_train_features, all_train_labels)"
   ]
  },
  {
   "cell_type": "code",
   "execution_count": 37,
   "metadata": {},
   "outputs": [],
   "source": [
    "import pickle\n",
    "filename = 'models/predict_play.sav'\n",
    "pickle.dump(gbr, open(filename, 'wb'))"
   ]
  },
  {
   "cell_type": "code",
   "execution_count": null,
   "metadata": {},
   "outputs": [],
   "source": []
  }
 ],
 "metadata": {
  "kernelspec": {
   "display_name": "Python 3",
   "language": "python",
   "name": "python3"
  },
  "language_info": {
   "codemirror_mode": {
    "name": "ipython",
    "version": 3
   },
   "file_extension": ".py",
   "mimetype": "text/x-python",
   "name": "python",
   "nbconvert_exporter": "python",
   "pygments_lexer": "ipython3",
   "version": "3.7.4"
  }
 },
 "nbformat": 4,
 "nbformat_minor": 2
}
