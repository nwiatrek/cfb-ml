{
 "cells": [
  {
   "cell_type": "code",
   "execution_count": 37,
   "metadata": {},
   "outputs": [],
   "source": [
    "from sklearn.metrics import accuracy_score\n",
    "import matplotlib.pyplot as plt\n",
    "from sklearn import ensemble\n",
    "import pandas as pd\n",
    "import numpy as np\n"
   ]
  },
  {
   "cell_type": "code",
   "execution_count": 66,
   "metadata": {},
   "outputs": [],
   "source": [
    "df = pd.read_csv('PBP - 2016 - Week 1.csv')\n",
    "\n",
    "df = df.dropna()\n",
    "# week2 = pd.read_csv('PBP - 2016 - Week 2.csv')\n",
    "\n",
    "# df = pd.concat([week1,week2],ignore_index=True)"
   ]
  },
  {
   "cell_type": "code",
   "execution_count": 67,
   "metadata": {},
   "outputs": [
    {
     "data": {
      "text/plain": [
       "array(['Kickoff', 'Timeout', 'Rush', 'Punt', 'Pass Reception', 'Penalty',\n",
       "       'Pass Incompletion', 'Rushing Touchdown', 'Field Goal Good',\n",
       "       'Passing Touchdown', 'Fumble Recovery (Own)', 'End Period', 'Sack',\n",
       "       'End of Half', 'Fumble Recovery (Opponent)', 'End of Game',\n",
       "       'Field Goal Missed', 'Safety', 'Pass Interception Return',\n",
       "       'Blocked Field Goal', 'Defensive 2pt Conversion',\n",
       "       'Kickoff Return (Offense)', 'Interception Return Touchdown',\n",
       "       'Kickoff Return Touchdown', 'Punt Return Touchdown',\n",
       "       'Blocked Punt', 'Fumble Return Touchdown'], dtype=object)"
      ]
     },
     "execution_count": 67,
     "metadata": {},
     "output_type": "execute_result"
    }
   ],
   "source": [
    "df['type'].unique()"
   ]
  },
  {
   "cell_type": "code",
   "execution_count": 68,
   "metadata": {},
   "outputs": [
    {
     "data": {
      "text/plain": [
       "array(['Kickoff', 'Timeout', 'Rush', 'Punt', 'Pass', 'Penalty',\n",
       "       'Field Goal Good', 'Fumble Recovery (Own)', 'End Period',\n",
       "       'End of Half', 'Fumble Recovery (Opponent)', 'End of Game',\n",
       "       'Field Goal Missed', 'Safety', 'Pass Interception Return',\n",
       "       'Blocked Field Goal', 'Defensive 2pt Conversion',\n",
       "       'Kickoff Return (Offense)', 'Interception Return Touchdown',\n",
       "       'Kickoff Return Touchdown', 'Punt Return Touchdown',\n",
       "       'Blocked Punt', 'Fumble Return Touchdown'], dtype=object)"
      ]
     },
     "execution_count": 68,
     "metadata": {},
     "output_type": "execute_result"
    }
   ],
   "source": [
    "df = df.replace('Pass Incompletion', 'Pass')\n",
    "df = df.replace('Pass Reception', 'Pass')\n",
    "df = df.replace('Passing Touchdown', 'Pass')\n",
    "df = df.replace('Rushing Touchdown', 'Rush')\n",
    "df = df.replace('Sack', 'Pass')\n",
    "df['type'].unique()"
   ]
  },
  {
   "cell_type": "code",
   "execution_count": 44,
   "metadata": {},
   "outputs": [
    {
     "data": {
      "text/html": [
       "<div>\n",
       "<style scoped>\n",
       "    .dataframe tbody tr th:only-of-type {\n",
       "        vertical-align: middle;\n",
       "    }\n",
       "\n",
       "    .dataframe tbody tr th {\n",
       "        vertical-align: top;\n",
       "    }\n",
       "\n",
       "    .dataframe thead th {\n",
       "        text-align: right;\n",
       "    }\n",
       "</style>\n",
       "<table border=\"1\" class=\"dataframe\">\n",
       "  <thead>\n",
       "    <tr style=\"text-align: right;\">\n",
       "      <th></th>\n",
       "      <th>gameId</th>\n",
       "      <th>year</th>\n",
       "      <th>week</th>\n",
       "      <th>homeId</th>\n",
       "      <th>homeTeam</th>\n",
       "      <th>homeAbbr</th>\n",
       "      <th>awayId</th>\n",
       "      <th>awayTeam</th>\n",
       "      <th>awayAbbr</th>\n",
       "      <th>driveIndex</th>\n",
       "      <th>playIndex</th>\n",
       "      <th>offenseId</th>\n",
       "      <th>offenseTeam</th>\n",
       "      <th>offenseAbbr</th>\n",
       "      <th>defenseId</th>\n",
       "      <th>defenseTeam</th>\n",
       "      <th>defenseAbbr</th>\n",
       "      <th>homeScore</th>\n",
       "      <th>awayScore</th>\n",
       "      <th>quarter</th>\n",
       "      <th>clock</th>\n",
       "      <th>wallclock</th>\n",
       "      <th>type</th>\n",
       "      <th>down</th>\n",
       "      <th>distance</th>\n",
       "      <th>yardLine</th>\n",
       "      <th>yardsGained</th>\n",
       "      <th>endYardLine</th>\n",
       "      <th>description</th>\n",
       "    </tr>\n",
       "  </thead>\n",
       "  <tbody>\n",
       "    <tr>\n",
       "      <td>0</td>\n",
       "      <td>400868876</td>\n",
       "      <td>2016</td>\n",
       "      <td>1</td>\n",
       "      <td>239</td>\n",
       "      <td>Baylor</td>\n",
       "      <td>BAY</td>\n",
       "      <td>2466</td>\n",
       "      <td>Northwestern St</td>\n",
       "      <td>NWST</td>\n",
       "      <td>0</td>\n",
       "      <td>0</td>\n",
       "      <td>239</td>\n",
       "      <td>Baylor</td>\n",
       "      <td>BAY</td>\n",
       "      <td>2466</td>\n",
       "      <td>Northwestern St</td>\n",
       "      <td>NWST</td>\n",
       "      <td>0</td>\n",
       "      <td>0</td>\n",
       "      <td>1</td>\n",
       "      <td>15:00</td>\n",
       "      <td>2016-09-03T06:36:41Z</td>\n",
       "      <td>Kickoff</td>\n",
       "      <td>1</td>\n",
       "      <td>10</td>\n",
       "      <td>35</td>\n",
       "      <td>10</td>\n",
       "      <td>86</td>\n",
       "      <td>Drew Galitz kickoff for 61 yds , Shakeir Ryan ...</td>\n",
       "    </tr>\n",
       "    <tr>\n",
       "      <td>1</td>\n",
       "      <td>400868876</td>\n",
       "      <td>2016</td>\n",
       "      <td>1</td>\n",
       "      <td>239</td>\n",
       "      <td>Baylor</td>\n",
       "      <td>BAY</td>\n",
       "      <td>2466</td>\n",
       "      <td>Northwestern St</td>\n",
       "      <td>NWST</td>\n",
       "      <td>0</td>\n",
       "      <td>1</td>\n",
       "      <td>2466</td>\n",
       "      <td>Northwestern St</td>\n",
       "      <td>NWST</td>\n",
       "      <td>239</td>\n",
       "      <td>Baylor</td>\n",
       "      <td>BAY</td>\n",
       "      <td>0</td>\n",
       "      <td>0</td>\n",
       "      <td>1</td>\n",
       "      <td>14:55</td>\n",
       "      <td>2016-09-03T06:38:11Z</td>\n",
       "      <td>Timeout</td>\n",
       "      <td>1</td>\n",
       "      <td>10</td>\n",
       "      <td>86</td>\n",
       "      <td>0</td>\n",
       "      <td>86</td>\n",
       "      <td>Timeout NORTHWESTERN ST, clock 14:55</td>\n",
       "    </tr>\n",
       "    <tr>\n",
       "      <td>2</td>\n",
       "      <td>400868876</td>\n",
       "      <td>2016</td>\n",
       "      <td>1</td>\n",
       "      <td>239</td>\n",
       "      <td>Baylor</td>\n",
       "      <td>BAY</td>\n",
       "      <td>2466</td>\n",
       "      <td>Northwestern St</td>\n",
       "      <td>NWST</td>\n",
       "      <td>0</td>\n",
       "      <td>2</td>\n",
       "      <td>2466</td>\n",
       "      <td>Northwestern St</td>\n",
       "      <td>NWST</td>\n",
       "      <td>239</td>\n",
       "      <td>Baylor</td>\n",
       "      <td>BAY</td>\n",
       "      <td>0</td>\n",
       "      <td>0</td>\n",
       "      <td>1</td>\n",
       "      <td>14:55</td>\n",
       "      <td>2016-09-03T06:38:11Z</td>\n",
       "      <td>Rush</td>\n",
       "      <td>1</td>\n",
       "      <td>10</td>\n",
       "      <td>86</td>\n",
       "      <td>-1</td>\n",
       "      <td>87</td>\n",
       "      <td>De'Mard Llorens run for a loss of 1 yard to th...</td>\n",
       "    </tr>\n",
       "    <tr>\n",
       "      <td>3</td>\n",
       "      <td>400868876</td>\n",
       "      <td>2016</td>\n",
       "      <td>1</td>\n",
       "      <td>239</td>\n",
       "      <td>Baylor</td>\n",
       "      <td>BAY</td>\n",
       "      <td>2466</td>\n",
       "      <td>Northwestern St</td>\n",
       "      <td>NWST</td>\n",
       "      <td>0</td>\n",
       "      <td>3</td>\n",
       "      <td>2466</td>\n",
       "      <td>Northwestern St</td>\n",
       "      <td>NWST</td>\n",
       "      <td>239</td>\n",
       "      <td>Baylor</td>\n",
       "      <td>BAY</td>\n",
       "      <td>0</td>\n",
       "      <td>0</td>\n",
       "      <td>1</td>\n",
       "      <td>14:55</td>\n",
       "      <td>2016-09-03T06:38:11Z</td>\n",
       "      <td>Rush</td>\n",
       "      <td>2</td>\n",
       "      <td>11</td>\n",
       "      <td>87</td>\n",
       "      <td>8</td>\n",
       "      <td>79</td>\n",
       "      <td>De'Mard Llorens run for 8 yds to the NWSt 21</td>\n",
       "    </tr>\n",
       "    <tr>\n",
       "      <td>4</td>\n",
       "      <td>400868876</td>\n",
       "      <td>2016</td>\n",
       "      <td>1</td>\n",
       "      <td>239</td>\n",
       "      <td>Baylor</td>\n",
       "      <td>BAY</td>\n",
       "      <td>2466</td>\n",
       "      <td>Northwestern St</td>\n",
       "      <td>NWST</td>\n",
       "      <td>0</td>\n",
       "      <td>4</td>\n",
       "      <td>2466</td>\n",
       "      <td>Northwestern St</td>\n",
       "      <td>NWST</td>\n",
       "      <td>239</td>\n",
       "      <td>Baylor</td>\n",
       "      <td>BAY</td>\n",
       "      <td>0</td>\n",
       "      <td>0</td>\n",
       "      <td>1</td>\n",
       "      <td>14:55</td>\n",
       "      <td>2016-09-03T06:38:11Z</td>\n",
       "      <td>Rush</td>\n",
       "      <td>3</td>\n",
       "      <td>3</td>\n",
       "      <td>79</td>\n",
       "      <td>0</td>\n",
       "      <td>79</td>\n",
       "      <td>De'Mard Llorens run for no gain to the NWSt 21</td>\n",
       "    </tr>\n",
       "    <tr>\n",
       "      <td>...</td>\n",
       "      <td>...</td>\n",
       "      <td>...</td>\n",
       "      <td>...</td>\n",
       "      <td>...</td>\n",
       "      <td>...</td>\n",
       "      <td>...</td>\n",
       "      <td>...</td>\n",
       "      <td>...</td>\n",
       "      <td>...</td>\n",
       "      <td>...</td>\n",
       "      <td>...</td>\n",
       "      <td>...</td>\n",
       "      <td>...</td>\n",
       "      <td>...</td>\n",
       "      <td>...</td>\n",
       "      <td>...</td>\n",
       "      <td>...</td>\n",
       "      <td>...</td>\n",
       "      <td>...</td>\n",
       "      <td>...</td>\n",
       "      <td>...</td>\n",
       "      <td>...</td>\n",
       "      <td>...</td>\n",
       "      <td>...</td>\n",
       "      <td>...</td>\n",
       "      <td>...</td>\n",
       "      <td>...</td>\n",
       "      <td>...</td>\n",
       "      <td>...</td>\n",
       "    </tr>\n",
       "    <tr>\n",
       "      <td>16136</td>\n",
       "      <td>400869810</td>\n",
       "      <td>2016</td>\n",
       "      <td>1</td>\n",
       "      <td>2653</td>\n",
       "      <td>Troy</td>\n",
       "      <td>TROY</td>\n",
       "      <td>2046</td>\n",
       "      <td>Austin Peay</td>\n",
       "      <td>PEAY</td>\n",
       "      <td>25</td>\n",
       "      <td>0</td>\n",
       "      <td>2653</td>\n",
       "      <td>Troy</td>\n",
       "      <td>TROY</td>\n",
       "      <td>2046</td>\n",
       "      <td>Austin Peay</td>\n",
       "      <td>PEAY</td>\n",
       "      <td>57</td>\n",
       "      <td>17</td>\n",
       "      <td>4</td>\n",
       "      <td>3:18</td>\n",
       "      <td>2016-09-04T08:15:02Z</td>\n",
       "      <td>Rush</td>\n",
       "      <td>1</td>\n",
       "      <td>10</td>\n",
       "      <td>33</td>\n",
       "      <td>15</td>\n",
       "      <td>48</td>\n",
       "      <td>B.J. Smith run for 15 yds to the Troy 48 for a...</td>\n",
       "    </tr>\n",
       "    <tr>\n",
       "      <td>16137</td>\n",
       "      <td>400869810</td>\n",
       "      <td>2016</td>\n",
       "      <td>1</td>\n",
       "      <td>2653</td>\n",
       "      <td>Troy</td>\n",
       "      <td>TROY</td>\n",
       "      <td>2046</td>\n",
       "      <td>Austin Peay</td>\n",
       "      <td>PEAY</td>\n",
       "      <td>25</td>\n",
       "      <td>1</td>\n",
       "      <td>2653</td>\n",
       "      <td>Troy</td>\n",
       "      <td>TROY</td>\n",
       "      <td>2046</td>\n",
       "      <td>Austin Peay</td>\n",
       "      <td>PEAY</td>\n",
       "      <td>57</td>\n",
       "      <td>17</td>\n",
       "      <td>4</td>\n",
       "      <td>3:18</td>\n",
       "      <td>2016-09-04T08:15:02Z</td>\n",
       "      <td>Rush</td>\n",
       "      <td>1</td>\n",
       "      <td>10</td>\n",
       "      <td>48</td>\n",
       "      <td>3</td>\n",
       "      <td>51</td>\n",
       "      <td>B.J. Smith run for 3 yds to the APeay 49</td>\n",
       "    </tr>\n",
       "    <tr>\n",
       "      <td>16138</td>\n",
       "      <td>400869810</td>\n",
       "      <td>2016</td>\n",
       "      <td>1</td>\n",
       "      <td>2653</td>\n",
       "      <td>Troy</td>\n",
       "      <td>TROY</td>\n",
       "      <td>2046</td>\n",
       "      <td>Austin Peay</td>\n",
       "      <td>PEAY</td>\n",
       "      <td>25</td>\n",
       "      <td>2</td>\n",
       "      <td>2653</td>\n",
       "      <td>Troy</td>\n",
       "      <td>TROY</td>\n",
       "      <td>2046</td>\n",
       "      <td>Austin Peay</td>\n",
       "      <td>PEAY</td>\n",
       "      <td>57</td>\n",
       "      <td>17</td>\n",
       "      <td>4</td>\n",
       "      <td>3:18</td>\n",
       "      <td>2016-09-04T08:15:02Z</td>\n",
       "      <td>Rush</td>\n",
       "      <td>2</td>\n",
       "      <td>7</td>\n",
       "      <td>51</td>\n",
       "      <td>-2</td>\n",
       "      <td>49</td>\n",
       "      <td>B.J. Smith run for a loss of 2 yards to the Tr...</td>\n",
       "    </tr>\n",
       "    <tr>\n",
       "      <td>16139</td>\n",
       "      <td>400869810</td>\n",
       "      <td>2016</td>\n",
       "      <td>1</td>\n",
       "      <td>2653</td>\n",
       "      <td>Troy</td>\n",
       "      <td>TROY</td>\n",
       "      <td>2046</td>\n",
       "      <td>Austin Peay</td>\n",
       "      <td>PEAY</td>\n",
       "      <td>25</td>\n",
       "      <td>3</td>\n",
       "      <td>2653</td>\n",
       "      <td>Troy</td>\n",
       "      <td>TROY</td>\n",
       "      <td>2046</td>\n",
       "      <td>Austin Peay</td>\n",
       "      <td>PEAY</td>\n",
       "      <td>57</td>\n",
       "      <td>17</td>\n",
       "      <td>4</td>\n",
       "      <td>3:18</td>\n",
       "      <td>2016-09-04T08:15:02Z</td>\n",
       "      <td>Rush</td>\n",
       "      <td>3</td>\n",
       "      <td>9</td>\n",
       "      <td>49</td>\n",
       "      <td>8</td>\n",
       "      <td>57</td>\n",
       "      <td>B.J. Smith run for 8 yds to the APeay 43</td>\n",
       "    </tr>\n",
       "    <tr>\n",
       "      <td>16140</td>\n",
       "      <td>400869810</td>\n",
       "      <td>2016</td>\n",
       "      <td>1</td>\n",
       "      <td>2653</td>\n",
       "      <td>Troy</td>\n",
       "      <td>TROY</td>\n",
       "      <td>2046</td>\n",
       "      <td>Austin Peay</td>\n",
       "      <td>PEAY</td>\n",
       "      <td>25</td>\n",
       "      <td>4</td>\n",
       "      <td>2653</td>\n",
       "      <td>Troy</td>\n",
       "      <td>TROY</td>\n",
       "      <td>2046</td>\n",
       "      <td>Austin Peay</td>\n",
       "      <td>PEAY</td>\n",
       "      <td>57</td>\n",
       "      <td>17</td>\n",
       "      <td>4</td>\n",
       "      <td>0:00</td>\n",
       "      <td>2016-09-04T08:17:55Z</td>\n",
       "      <td>End of Game</td>\n",
       "      <td>0</td>\n",
       "      <td>1</td>\n",
       "      <td>0</td>\n",
       "      <td>0</td>\n",
       "      <td>57</td>\n",
       "      <td>End of 4th Quarter</td>\n",
       "    </tr>\n",
       "  </tbody>\n",
       "</table>\n",
       "<p>16113 rows × 29 columns</p>\n",
       "</div>"
      ],
      "text/plain": [
       "          gameId  year  week  homeId homeTeam homeAbbr  awayId  \\\n",
       "0      400868876  2016     1     239   Baylor      BAY    2466   \n",
       "1      400868876  2016     1     239   Baylor      BAY    2466   \n",
       "2      400868876  2016     1     239   Baylor      BAY    2466   \n",
       "3      400868876  2016     1     239   Baylor      BAY    2466   \n",
       "4      400868876  2016     1     239   Baylor      BAY    2466   \n",
       "...          ...   ...   ...     ...      ...      ...     ...   \n",
       "16136  400869810  2016     1    2653     Troy     TROY    2046   \n",
       "16137  400869810  2016     1    2653     Troy     TROY    2046   \n",
       "16138  400869810  2016     1    2653     Troy     TROY    2046   \n",
       "16139  400869810  2016     1    2653     Troy     TROY    2046   \n",
       "16140  400869810  2016     1    2653     Troy     TROY    2046   \n",
       "\n",
       "              awayTeam awayAbbr  driveIndex  playIndex  offenseId  \\\n",
       "0      Northwestern St     NWST           0          0        239   \n",
       "1      Northwestern St     NWST           0          1       2466   \n",
       "2      Northwestern St     NWST           0          2       2466   \n",
       "3      Northwestern St     NWST           0          3       2466   \n",
       "4      Northwestern St     NWST           0          4       2466   \n",
       "...                ...      ...         ...        ...        ...   \n",
       "16136      Austin Peay     PEAY          25          0       2653   \n",
       "16137      Austin Peay     PEAY          25          1       2653   \n",
       "16138      Austin Peay     PEAY          25          2       2653   \n",
       "16139      Austin Peay     PEAY          25          3       2653   \n",
       "16140      Austin Peay     PEAY          25          4       2653   \n",
       "\n",
       "           offenseTeam offenseAbbr  defenseId      defenseTeam defenseAbbr  \\\n",
       "0               Baylor         BAY       2466  Northwestern St        NWST   \n",
       "1      Northwestern St        NWST        239           Baylor         BAY   \n",
       "2      Northwestern St        NWST        239           Baylor         BAY   \n",
       "3      Northwestern St        NWST        239           Baylor         BAY   \n",
       "4      Northwestern St        NWST        239           Baylor         BAY   \n",
       "...                ...         ...        ...              ...         ...   \n",
       "16136             Troy        TROY       2046      Austin Peay        PEAY   \n",
       "16137             Troy        TROY       2046      Austin Peay        PEAY   \n",
       "16138             Troy        TROY       2046      Austin Peay        PEAY   \n",
       "16139             Troy        TROY       2046      Austin Peay        PEAY   \n",
       "16140             Troy        TROY       2046      Austin Peay        PEAY   \n",
       "\n",
       "       homeScore  awayScore  quarter  clock             wallclock  \\\n",
       "0              0          0        1  15:00  2016-09-03T06:36:41Z   \n",
       "1              0          0        1  14:55  2016-09-03T06:38:11Z   \n",
       "2              0          0        1  14:55  2016-09-03T06:38:11Z   \n",
       "3              0          0        1  14:55  2016-09-03T06:38:11Z   \n",
       "4              0          0        1  14:55  2016-09-03T06:38:11Z   \n",
       "...          ...        ...      ...    ...                   ...   \n",
       "16136         57         17        4   3:18  2016-09-04T08:15:02Z   \n",
       "16137         57         17        4   3:18  2016-09-04T08:15:02Z   \n",
       "16138         57         17        4   3:18  2016-09-04T08:15:02Z   \n",
       "16139         57         17        4   3:18  2016-09-04T08:15:02Z   \n",
       "16140         57         17        4   0:00  2016-09-04T08:17:55Z   \n",
       "\n",
       "              type  down  distance  yardLine  yardsGained  endYardLine  \\\n",
       "0          Kickoff     1        10        35           10           86   \n",
       "1          Timeout     1        10        86            0           86   \n",
       "2             Rush     1        10        86           -1           87   \n",
       "3             Rush     2        11        87            8           79   \n",
       "4             Rush     3         3        79            0           79   \n",
       "...            ...   ...       ...       ...          ...          ...   \n",
       "16136         Rush     1        10        33           15           48   \n",
       "16137         Rush     1        10        48            3           51   \n",
       "16138         Rush     2         7        51           -2           49   \n",
       "16139         Rush     3         9        49            8           57   \n",
       "16140  End of Game     0         1         0            0           57   \n",
       "\n",
       "                                             description  \n",
       "0      Drew Galitz kickoff for 61 yds , Shakeir Ryan ...  \n",
       "1                   Timeout NORTHWESTERN ST, clock 14:55  \n",
       "2      De'Mard Llorens run for a loss of 1 yard to th...  \n",
       "3           De'Mard Llorens run for 8 yds to the NWSt 21  \n",
       "4         De'Mard Llorens run for no gain to the NWSt 21  \n",
       "...                                                  ...  \n",
       "16136  B.J. Smith run for 15 yds to the Troy 48 for a...  \n",
       "16137           B.J. Smith run for 3 yds to the APeay 49  \n",
       "16138  B.J. Smith run for a loss of 2 yards to the Tr...  \n",
       "16139           B.J. Smith run for 8 yds to the APeay 43  \n",
       "16140                                 End of 4th Quarter  \n",
       "\n",
       "[16113 rows x 29 columns]"
      ]
     },
     "execution_count": 44,
     "metadata": {},
     "output_type": "execute_result"
    }
   ],
   "source": [
    "df"
   ]
  },
  {
   "cell_type": "code",
   "execution_count": 69,
   "metadata": {},
   "outputs": [],
   "source": [
    "new_df = df[['quarter', 'down', 'distance', 'yardLine', 'clock', 'type']]"
   ]
  },
  {
   "cell_type": "code",
   "execution_count": 76,
   "metadata": {},
   "outputs": [],
   "source": [
    "def seconds_left_in_quarter(clock):\n",
    "    clock = clock.split(':')\n",
    "    clock = (int(clock[0])*60) + int(clock[1])\n",
    "    return clock"
   ]
  },
  {
   "cell_type": "code",
   "execution_count": 78,
   "metadata": {},
   "outputs": [
    {
     "data": {
      "text/plain": [
       "920"
      ]
     },
     "execution_count": 78,
     "metadata": {},
     "output_type": "execute_result"
    }
   ],
   "source": [
    "seconds_left_in_quarter('15:20')"
   ]
  },
  {
   "cell_type": "code",
   "execution_count": 79,
   "metadata": {},
   "outputs": [],
   "source": [
    "for index,row in new_df.iterrows():\n",
    "    new_df.at[index,'clock'] = seconds_left_in_quarter(row['clock'])"
   ]
  },
  {
   "cell_type": "code",
   "execution_count": 80,
   "metadata": {},
   "outputs": [
    {
     "data": {
      "text/html": [
       "<div>\n",
       "<style scoped>\n",
       "    .dataframe tbody tr th:only-of-type {\n",
       "        vertical-align: middle;\n",
       "    }\n",
       "\n",
       "    .dataframe tbody tr th {\n",
       "        vertical-align: top;\n",
       "    }\n",
       "\n",
       "    .dataframe thead th {\n",
       "        text-align: right;\n",
       "    }\n",
       "</style>\n",
       "<table border=\"1\" class=\"dataframe\">\n",
       "  <thead>\n",
       "    <tr style=\"text-align: right;\">\n",
       "      <th></th>\n",
       "      <th>quarter</th>\n",
       "      <th>down</th>\n",
       "      <th>distance</th>\n",
       "      <th>yardLine</th>\n",
       "      <th>clock</th>\n",
       "      <th>type</th>\n",
       "    </tr>\n",
       "  </thead>\n",
       "  <tbody>\n",
       "    <tr>\n",
       "      <td>2</td>\n",
       "      <td>1</td>\n",
       "      <td>1</td>\n",
       "      <td>10</td>\n",
       "      <td>86</td>\n",
       "      <td>895</td>\n",
       "      <td>Rush</td>\n",
       "    </tr>\n",
       "    <tr>\n",
       "      <td>3</td>\n",
       "      <td>1</td>\n",
       "      <td>2</td>\n",
       "      <td>11</td>\n",
       "      <td>87</td>\n",
       "      <td>895</td>\n",
       "      <td>Rush</td>\n",
       "    </tr>\n",
       "    <tr>\n",
       "      <td>4</td>\n",
       "      <td>1</td>\n",
       "      <td>3</td>\n",
       "      <td>3</td>\n",
       "      <td>79</td>\n",
       "      <td>895</td>\n",
       "      <td>Rush</td>\n",
       "    </tr>\n",
       "    <tr>\n",
       "      <td>6</td>\n",
       "      <td>1</td>\n",
       "      <td>1</td>\n",
       "      <td>10</td>\n",
       "      <td>41</td>\n",
       "      <td>765</td>\n",
       "      <td>Pass</td>\n",
       "    </tr>\n",
       "    <tr>\n",
       "      <td>7</td>\n",
       "      <td>1</td>\n",
       "      <td>2</td>\n",
       "      <td>4</td>\n",
       "      <td>47</td>\n",
       "      <td>765</td>\n",
       "      <td>Rush</td>\n",
       "    </tr>\n",
       "    <tr>\n",
       "      <td>...</td>\n",
       "      <td>...</td>\n",
       "      <td>...</td>\n",
       "      <td>...</td>\n",
       "      <td>...</td>\n",
       "      <td>...</td>\n",
       "      <td>...</td>\n",
       "    </tr>\n",
       "    <tr>\n",
       "      <td>16133</td>\n",
       "      <td>4</td>\n",
       "      <td>3</td>\n",
       "      <td>4</td>\n",
       "      <td>79</td>\n",
       "      <td>339</td>\n",
       "      <td>Rush</td>\n",
       "    </tr>\n",
       "    <tr>\n",
       "      <td>16136</td>\n",
       "      <td>4</td>\n",
       "      <td>1</td>\n",
       "      <td>10</td>\n",
       "      <td>33</td>\n",
       "      <td>198</td>\n",
       "      <td>Rush</td>\n",
       "    </tr>\n",
       "    <tr>\n",
       "      <td>16137</td>\n",
       "      <td>4</td>\n",
       "      <td>1</td>\n",
       "      <td>10</td>\n",
       "      <td>48</td>\n",
       "      <td>198</td>\n",
       "      <td>Rush</td>\n",
       "    </tr>\n",
       "    <tr>\n",
       "      <td>16138</td>\n",
       "      <td>4</td>\n",
       "      <td>2</td>\n",
       "      <td>7</td>\n",
       "      <td>51</td>\n",
       "      <td>198</td>\n",
       "      <td>Rush</td>\n",
       "    </tr>\n",
       "    <tr>\n",
       "      <td>16139</td>\n",
       "      <td>4</td>\n",
       "      <td>3</td>\n",
       "      <td>9</td>\n",
       "      <td>49</td>\n",
       "      <td>198</td>\n",
       "      <td>Rush</td>\n",
       "    </tr>\n",
       "  </tbody>\n",
       "</table>\n",
       "<p>11928 rows × 6 columns</p>\n",
       "</div>"
      ],
      "text/plain": [
       "       quarter  down  distance  yardLine clock  type\n",
       "2            1     1        10        86   895  Rush\n",
       "3            1     2        11        87   895  Rush\n",
       "4            1     3         3        79   895  Rush\n",
       "6            1     1        10        41   765  Pass\n",
       "7            1     2         4        47   765  Rush\n",
       "...        ...   ...       ...       ...   ...   ...\n",
       "16133        4     3         4        79   339  Rush\n",
       "16136        4     1        10        33   198  Rush\n",
       "16137        4     1        10        48   198  Rush\n",
       "16138        4     2         7        51   198  Rush\n",
       "16139        4     3         9        49   198  Rush\n",
       "\n",
       "[11928 rows x 6 columns]"
      ]
     },
     "execution_count": 80,
     "metadata": {},
     "output_type": "execute_result"
    }
   ],
   "source": [
    "new_df"
   ]
  },
  {
   "cell_type": "code",
   "execution_count": 71,
   "metadata": {},
   "outputs": [],
   "source": [
    "new_df = new_df[(new_df.type == 'Pass') | (new_df.type == 'Rush')]"
   ]
  },
  {
   "cell_type": "code",
   "execution_count": 50,
   "metadata": {},
   "outputs": [
    {
     "data": {
      "image/png": "[encoded data removed]",
      "text/plain": [
       "<Figure size 432x288 with 1 Axes>"
      ]
     },
     "metadata": {},
     "output_type": "display_data"
    }
   ],
   "source": [
    "rel_freq = new_df['type'].value_counts()\n",
    "\n",
    "plt.pie(rel_freq, labels = ('Rush', 'Pass'), autopct='%.2f%%')\n",
    "plt.title(\"Week 1 play-type\")\n",
    "plt.subplots_adjust(left=0, bottom=0, right=1, top=1, wspace=0, hspace=0)\n",
    "plt.show()"
   ]
  },
  {
   "cell_type": "code",
   "execution_count": 81,
   "metadata": {},
   "outputs": [],
   "source": [
    "training_features = new_df[['quarter','down','distance','yardLine', 'clock']]\n",
    "\n",
    "training_label = new_df['type']\n"
   ]
  },
  {
   "cell_type": "code",
   "execution_count": 88,
   "metadata": {},
   "outputs": [
    {
     "data": {
      "text/plain": [
       "GradientBoostingClassifier(criterion='friedman_mse', init=None,\n",
       "                           learning_rate=0.005, loss='deviance', max_depth=3,\n",
       "                           max_features=None, max_leaf_nodes=None,\n",
       "                           min_impurity_decrease=0.0, min_impurity_split=None,\n",
       "                           min_samples_leaf=1, min_samples_split=2,\n",
       "                           min_weight_fraction_leaf=0.0, n_estimators=200,\n",
       "                           n_iter_no_change=None, presort='auto',\n",
       "                           random_state=None, subsample=1.0, tol=0.0001,\n",
       "                           validation_fraction=0.1, verbose=0,\n",
       "                           warm_start=False)"
      ]
     },
     "execution_count": 88,
     "metadata": {},
     "output_type": "execute_result"
    }
   ],
   "source": [
    "gbr = ensemble.GradientBoostingClassifier(n_estimators = 200, learning_rate = 0.005)\n",
    "\n",
    "gbr.fit(training_features, training_label)"
   ]
  },
  {
   "cell_type": "code",
   "execution_count": 89,
   "metadata": {},
   "outputs": [
    {
     "name": "stdout",
     "output_type": "stream",
     "text": [
      "Accuracy: 62.56%\n"
     ]
    }
   ],
   "source": [
    "prediction = gbr.predict(training_features)\n",
    "\n",
    "accuracy = accuracy_score(training_label, prediction)\n",
    "\n",
    "print(\"Accuracy: \"+\"{:.2%}\".format(accuracy))"
   ]
  },
  {
   "cell_type": "code",
   "execution_count": 147,
   "metadata": {},
   "outputs": [
    {
     "data": {
      "image/png": "[encoded data removed]",
      "text/plain": [
       "<Figure size 432x288 with 1 Axes>"
      ]
     },
     "metadata": {
      "needs_background": "light"
     },
     "output_type": "display_data"
    }
   ],
   "source": [
    "features = ['quarter', 'down', 'distance', 'yard line', 'clock']\n",
    "feature_importance = gbr.feature_importances_.tolist()\n",
    "\n",
    "plt.bar(features,feature_importance)\n",
    "plt.title(\"gradient boosting classifier: feature importance\")\n",
    "plt.show()"
   ]
  },
  {
   "cell_type": "markdown",
   "metadata": {},
   "source": [
    "## Testing with week 2"
   ]
  },
  {
   "cell_type": "code",
   "execution_count": 91,
   "metadata": {},
   "outputs": [],
   "source": [
    "def make_new_validation(df):\n",
    "    df = df.replace('Pass Incompletion', 'Pass')\n",
    "    df = df.replace('Pass Reception', 'Pass')\n",
    "    df = df.replace('Passing Touchdown', 'Pass')\n",
    "    df = df.replace('Rushing Touchdown', 'Rush')\n",
    "    df = df.replace('Sack', 'Pass')\n",
    "    for index,row in df.iterrows():\n",
    "        df.at[index,'clock'] = seconds_left_in_quarter(row['clock'])\n",
    "    new_df = df[['quarter', 'down', 'distance', 'yardLine', 'clock', 'type']]\n",
    "    new_df = new_df[(new_df.type == 'Pass') | (new_df.type == 'Rush')]\n",
    "    features = new_df[['quarter','down','distance','yardLine', 'clock']]\n",
    "    labels = new_df['type']\n",
    "    return features, labels\n",
    "    "
   ]
  },
  {
   "cell_type": "code",
   "execution_count": 92,
   "metadata": {},
   "outputs": [],
   "source": [
    "week2 = pd.read_csv('PBP - 2016 - Week 2.csv')\n",
    "week2_features, week2_labels = make_new_validation(week2)"
   ]
  },
  {
   "cell_type": "code",
   "execution_count": 93,
   "metadata": {},
   "outputs": [
    {
     "name": "stdout",
     "output_type": "stream",
     "text": [
      "Accuracy: 61.96%\n"
     ]
    }
   ],
   "source": [
    "prediction = gbr.predict(week2_features)\n",
    "\n",
    "accuracy = accuracy_score(week2_labels, prediction)\n",
    "\n",
    "print(\"Accuracy: \"+\"{:.2%}\".format(accuracy))"
   ]
  },
  {
   "cell_type": "code",
   "execution_count": 94,
   "metadata": {},
   "outputs": [],
   "source": [
    "week3 = pd.read_csv('PBP - 2016 - Week 3.csv')\n",
    "week3_features, week3_labels = make_new_validation(week3)"
   ]
  },
  {
   "cell_type": "code",
   "execution_count": 142,
   "metadata": {},
   "outputs": [
    {
     "name": "stdout",
     "output_type": "stream",
     "text": [
      "Accuracy: 62.51%\n"
     ]
    }
   ],
   "source": [
    "prediction = gbr.predict(week3_features)\n",
    "\n",
    "accuracy = accuracy_score(week3_labels, prediction)\n",
    "\n",
    "print(\"Accuracy: \"+\"{:.2%}\".format(accuracy))\n"
   ]
  },
  {
   "cell_type": "code",
   "execution_count": 143,
   "metadata": {},
   "outputs": [],
   "source": [
    "new_pred = np.where(prediction=='Rush', False, prediction) \n",
    "new_pred = np.where(new_pred=='Pass', True, new_pred) \n",
    "\n",
    "new_leb = np.where(week3_labels=='Pass', True, week3_labels) \n",
    "new_leb = np.where(new_leb=='Rush', False, new_leb) "
   ]
  },
  {
   "cell_type": "code",
   "execution_count": 144,
   "metadata": {},
   "outputs": [
    {
     "data": {
      "text/plain": [
       "array([False, False,  True, ..., False, False,  True])"
      ]
     },
     "execution_count": 144,
     "metadata": {},
     "output_type": "execute_result"
    }
   ],
   "source": [
    "new_pred.astype('bool')"
   ]
  },
  {
   "cell_type": "code",
   "execution_count": 145,
   "metadata": {},
   "outputs": [
    {
     "data": {
      "text/plain": [
       "0.6082527014007376"
      ]
     },
     "execution_count": 145,
     "metadata": {},
     "output_type": "execute_result"
    }
   ],
   "source": [
    "from sklearn.metrics import roc_auc_score\n",
    "roc_auc_score(new_leb.astype('bool'), new_pred.astype('bool'))"
   ]
  },
  {
   "cell_type": "code",
   "execution_count": 139,
   "metadata": {},
   "outputs": [],
   "source": [
    "all_week = pd.concat([df, week2, week3])"
   ]
  },
  {
   "cell_type": "code",
   "execution_count": 140,
   "metadata": {},
   "outputs": [],
   "source": [
    "all_train_features, all_train_labels = make_new_validation(all_week)"
   ]
  },
  {
   "cell_type": "code",
   "execution_count": 141,
   "metadata": {},
   "outputs": [
    {
     "data": {
      "text/plain": [
       "GradientBoostingClassifier(criterion='friedman_mse', init=None,\n",
       "                           learning_rate=0.005, loss='deviance', max_depth=3,\n",
       "                           max_features=None, max_leaf_nodes=None,\n",
       "                           min_impurity_decrease=0.0, min_impurity_split=None,\n",
       "                           min_samples_leaf=1, min_samples_split=2,\n",
       "                           min_weight_fraction_leaf=0.0, n_estimators=200,\n",
       "                           n_iter_no_change=None, presort='auto',\n",
       "                           random_state=None, subsample=1.0, tol=0.0001,\n",
       "                           validation_fraction=0.1, verbose=0,\n",
       "                           warm_start=False)"
      ]
     },
     "execution_count": 141,
     "metadata": {},
     "output_type": "execute_result"
    }
   ],
   "source": [
    "gbr = ensemble.GradientBoostingClassifier(n_estimators = 200, learning_rate = 0.005)\n",
    "\n",
    "gbr.fit(all_train_features, all_train_labels)"
   ]
  },
  {
   "cell_type": "code",
   "execution_count": null,
   "metadata": {},
   "outputs": [],
   "source": []
  }
 ],
 "metadata": {
  "kernelspec": {
   "display_name": "Python 3",
   "language": "python",
   "name": "python3"
  },
  "language_info": {
   "codemirror_mode": {
    "name": "ipython",
    "version": 3
   },
   "file_extension": ".py",
   "mimetype": "text/x-python",
   "name": "python",
   "nbconvert_exporter": "python",
   "pygments_lexer": "ipython3",
   "version": "3.7.4"
  }
 },
 "nbformat": 4,
 "nbformat_minor": 2
}
